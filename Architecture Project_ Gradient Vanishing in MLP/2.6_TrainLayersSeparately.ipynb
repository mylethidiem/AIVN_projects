{
 "cells": [
  {
   "cell_type": "markdown",
   "id": "HItsinp0SFqA",
   "metadata": {
    "id": "HItsinp0SFqA"
   },
   "source": [
    "## **0. Import libraries**"
   ]
  },
  {
   "cell_type": "code",
   "execution_count": null,
   "id": "bb96f0ec-3525-4e79-9ad1-8e95c15a9cf2",
   "metadata": {
    "id": "bb96f0ec-3525-4e79-9ad1-8e95c15a9cf2"
   },
   "outputs": [],
   "source": []
  },
  {
   "cell_type": "code",
   "execution_count": null,
   "id": "P3ehfc2p0vqq",
   "metadata": {
    "id": "P3ehfc2p0vqq"
   },
   "outputs": [],
   "source": []
  },
  {
   "cell_type": "markdown",
   "id": "Mw6hLiNAugrD",
   "metadata": {
    "id": "Mw6hLiNAugrD"
   },
   "source": [
    "## **1. Prepare dataset**\n"
   ]
  },
  {
   "cell_type": "code",
   "execution_count": null,
   "id": "c73f1e96-b8ea-4b8f-b4f3-9b3f27b42acd",
   "metadata": {
    "colab": {
     "base_uri": "https://localhost:8080/"
    },
    "id": "c73f1e96-b8ea-4b8f-b4f3-9b3f27b42acd",
    "outputId": "43bd97fa-26ea-4e18-e51e-a43692634a21"
   },
   "outputs": [],
   "source": []
  },
  {
   "cell_type": "markdown",
   "id": "75eeaa46",
   "metadata": {
    "id": "75eeaa46"
   },
   "source": [
    "## **2. Build MLP network**\n",
    "\n",
    "\n"
   ]
  },
  {
   "cell_type": "code",
   "execution_count": null,
   "id": "589bb0df",
   "metadata": {
    "id": "589bb0df"
   },
   "outputs": [],
   "source": []
  },
  {
   "cell_type": "code",
   "execution_count": null,
   "id": "0db5beca-ee90-4d2e-bb2f-62b20da68cf3",
   "metadata": {
    "id": "0db5beca-ee90-4d2e-bb2f-62b20da68cf3"
   },
   "outputs": [],
   "source": []
  },
  {
   "cell_type": "markdown",
   "id": "lBS7q-JzwFgC",
   "metadata": {
    "id": "lBS7q-JzwFgC"
   },
   "source": [
    "## **3. Training 1**"
   ]
  },
  {
   "cell_type": "code",
   "execution_count": null,
   "id": "lNgyrt4B_v_v",
   "metadata": {
    "id": "lNgyrt4B_v_v"
   },
   "outputs": [],
   "source": []
  },
  {
   "cell_type": "code",
   "execution_count": null,
   "id": "21211483-aeed-4beb-aeea-d1e58ae7baf9",
   "metadata": {
    "colab": {
     "base_uri": "https://localhost:8080/"
    },
    "id": "21211483-aeed-4beb-aeea-d1e58ae7baf9",
    "outputId": "bce2c122-85e5-4b1e-a082-41645aa583ff"
   },
   "outputs": [],
   "source": []
  },
  {
   "cell_type": "code",
   "execution_count": null,
   "id": "321d7070-b736-4ebb-94fa-59cd37ff50b3",
   "metadata": {
    "colab": {
     "base_uri": "https://localhost:8080/",
     "height": 872
    },
    "id": "321d7070-b736-4ebb-94fa-59cd37ff50b3",
    "outputId": "5701c75d-3685-4e31-b0db-120fd7710a8a"
   },
   "outputs": [],
   "source": []
  },
  {
   "cell_type": "markdown",
   "id": "l3IhjFKGA4eb",
   "metadata": {
    "id": "l3IhjFKGA4eb"
   },
   "source": [
    "## **4. Training 2**"
   ]
  },
  {
   "cell_type": "code",
   "execution_count": null,
   "id": "UmM5nMSrA4ec",
   "metadata": {
    "id": "UmM5nMSrA4ec"
   },
   "outputs": [],
   "source": []
  },
  {
   "cell_type": "code",
   "execution_count": null,
   "id": "lGUHFlGzA4ec",
   "metadata": {
    "colab": {
     "base_uri": "https://localhost:8080/"
    },
    "id": "lGUHFlGzA4ec",
    "outputId": "afc7fc96-f3ad-42f8-a70f-54fc99d7a769"
   },
   "outputs": [],
   "source": []
  },
  {
   "cell_type": "code",
   "execution_count": null,
   "id": "OU7ztARiA4ec",
   "metadata": {
    "colab": {
     "base_uri": "https://localhost:8080/",
     "height": 872
    },
    "id": "OU7ztARiA4ec",
    "outputId": "e79f918c-a6e4-4035-9846-39adaa3c8415"
   },
   "outputs": [],
   "source": []
  },
  {
   "cell_type": "markdown",
   "id": "F1GWX_NdBjdH",
   "metadata": {
    "id": "F1GWX_NdBjdH"
   },
   "source": [
    "## **5. Training 3**"
   ]
  },
  {
   "cell_type": "code",
   "execution_count": null,
   "id": "ARzU9IwwBjdH",
   "metadata": {
    "id": "ARzU9IwwBjdH"
   },
   "outputs": [],
   "source": []
  },
  {
   "cell_type": "code",
   "execution_count": null,
   "id": "rKs1JgY7BjdH",
   "metadata": {
    "colab": {
     "base_uri": "https://localhost:8080/"
    },
    "id": "rKs1JgY7BjdH",
    "outputId": "83ea6189-1151-4456-d521-7cb8bc5af861"
   },
   "outputs": [],
   "source": []
  },
  {
   "cell_type": "code",
   "execution_count": null,
   "id": "i0eOIoXVSQrt",
   "metadata": {
    "colab": {
     "base_uri": "https://localhost:8080/",
     "height": 872
    },
    "id": "i0eOIoXVSQrt",
    "outputId": "35c8921e-9ce3-43c6-88c9-7c3459bd0977"
   },
   "outputs": [],
   "source": []
  },
  {
   "cell_type": "markdown",
   "id": "Mp3tCdNUXYK_",
   "metadata": {
    "id": "Mp3tCdNUXYK_"
   },
   "source": [
    "## **6. Training 4**\n"
   ]
  },
  {
   "cell_type": "code",
   "execution_count": null,
   "id": "xMVMtkoVXhM5",
   "metadata": {
    "id": "xMVMtkoVXhM5"
   },
   "outputs": [],
   "source": []
  },
  {
   "cell_type": "code",
   "execution_count": null,
   "id": "0kWASWRFXjMu",
   "metadata": {
    "colab": {
     "base_uri": "https://localhost:8080/"
    },
    "id": "0kWASWRFXjMu",
    "outputId": "57867d45-b0e7-4996-bb65-baca7a2c1d74"
   },
   "outputs": [],
   "source": []
  },
  {
   "cell_type": "code",
   "execution_count": null,
   "id": "yeAS7ohdXlHf",
   "metadata": {
    "colab": {
     "base_uri": "https://localhost:8080/",
     "height": 872
    },
    "id": "yeAS7ohdXlHf",
    "outputId": "f3abc9b7-c740-4c09-9c1d-2898c3561f7e"
   },
   "outputs": [],
   "source": []
  },
  {
   "cell_type": "markdown",
   "id": "P6sh2buCXnrk",
   "metadata": {
    "id": "P6sh2buCXnrk"
   },
   "source": [
    "## **7. Training 4**\n"
   ]
  },
  {
   "cell_type": "code",
   "execution_count": null,
   "id": "3Zp2ThRKXn15",
   "metadata": {
    "id": "3Zp2ThRKXn15"
   },
   "outputs": [],
   "source": []
  },
  {
   "cell_type": "code",
   "execution_count": null,
   "id": "Zsjrw1hmXsFL",
   "metadata": {
    "colab": {
     "base_uri": "https://localhost:8080/"
    },
    "id": "Zsjrw1hmXsFL",
    "outputId": "524d2b8b-072f-4675-c014-0400c2ed93fe"
   },
   "outputs": [],
   "source": []
  },
  {
   "cell_type": "code",
   "execution_count": null,
   "id": "b16x8jjJXsFL",
   "metadata": {
    "colab": {
     "base_uri": "https://localhost:8080/",
     "height": 872
    },
    "id": "b16x8jjJXsFL",
    "outputId": "9bb6fdf0-ec38-4497-ea20-1e8dcc6c2b81"
   },
   "outputs": [],
   "source": []
  },
  {
   "cell_type": "markdown",
   "id": "CgJw7RstXxdC",
   "metadata": {
    "id": "CgJw7RstXxdC"
   },
   "source": [
    "## **8. Training 6**\n"
   ]
  },
  {
   "cell_type": "code",
   "execution_count": null,
   "id": "RcZIBDACXxi2",
   "metadata": {
    "id": "RcZIBDACXxi2"
   },
   "outputs": [],
   "source": []
  },
  {
   "cell_type": "code",
   "execution_count": null,
   "id": "G-MNV5_yX1wj",
   "metadata": {
    "colab": {
     "base_uri": "https://localhost:8080/"
    },
    "id": "G-MNV5_yX1wj",
    "outputId": "0818eb2b-478d-406f-b08a-61129b50724d"
   },
   "outputs": [],
   "source": []
  },
  {
   "cell_type": "code",
   "execution_count": null,
   "id": "Es-rMHsHX1wk",
   "metadata": {
    "colab": {
     "base_uri": "https://localhost:8080/",
     "height": 872
    },
    "id": "Es-rMHsHX1wk",
    "outputId": "ae9b5606-0994-49f4-ce5c-ae0d72ed8fd9"
   },
   "outputs": [],
   "source": []
  },
  {
   "cell_type": "markdown",
   "id": "CY9OpDyiPL2V",
   "metadata": {
    "id": "CY9OpDyiPL2V"
   },
   "source": [
    "## **9. Evaluation**"
   ]
  },
  {
   "cell_type": "code",
   "execution_count": null,
   "id": "VC8cygPWPKy6",
   "metadata": {
    "colab": {
     "base_uri": "https://localhost:8080/"
    },
    "id": "VC8cygPWPKy6",
    "outputId": "16950fc9-17a4-4012-dc4a-e05cfb3e07ed"
   },
   "outputs": [],
   "source": []
  },
  {
   "cell_type": "code",
   "execution_count": null,
   "id": "vsTDEJ92P6Pa",
   "metadata": {
    "colab": {
     "base_uri": "https://localhost:8080/"
    },
    "id": "vsTDEJ92P6Pa",
    "outputId": "d4fbfce9-bb5a-4da2-8178-635d727d0900"
   },
   "outputs": [],
   "source": []
  }
 ],
 "metadata": {
  "accelerator": "GPU",
  "colab": {
   "gpuType": "T4",
   "provenance": [],
   "toc_visible": true
  },
  "kernelspec": {
   "display_name": "Python 3",
   "name": "python3"
  },
  "language_info": {
   "codemirror_mode": {
    "name": "ipython",
    "version": 3
   },
   "file_extension": ".py",
   "mimetype": "text/x-python",
   "name": "python",
   "nbconvert_exporter": "python",
   "pygments_lexer": "ipython3",
   "version": "3.10.13"
  },
  "toc": {
   "base_numbering": 1,
   "nav_menu": {},
   "number_sections": true,
   "sideBar": true,
   "skip_h1_title": false,
   "title_cell": "Table of Contents",
   "title_sidebar": "Contents",
   "toc_cell": false,
   "toc_position": {},
   "toc_section_display": true,
   "toc_window_display": true
  }
 },
 "nbformat": 4,
 "nbformat_minor": 5
}
