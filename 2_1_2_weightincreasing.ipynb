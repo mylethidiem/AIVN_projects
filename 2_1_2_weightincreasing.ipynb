{
  "cells": [
    {
      "cell_type": "markdown",
      "metadata": {
        "id": "view-in-github",
        "colab_type": "text"
      },
      "source": [
        "<a href=\"https://colab.research.google.com/github/mylethidiem/AIVN_projects/blob/main/2_1_2_weightincreasing.ipynb\" target=\"_parent\"><img src=\"https://colab.research.google.com/assets/colab-badge.svg\" alt=\"Open In Colab\"/></a>"
      ]
    },
    {
      "cell_type": "markdown",
      "id": "HItsinp0SFqA",
      "metadata": {
        "id": "HItsinp0SFqA"
      },
      "source": [
        "## **0. Import libraries**"
      ]
    },
    {
      "cell_type": "code",
      "execution_count": null,
      "id": "bb96f0ec-3525-4e79-9ad1-8e95c15a9cf2",
      "metadata": {
        "id": "bb96f0ec-3525-4e79-9ad1-8e95c15a9cf2"
      },
      "outputs": [],
      "source": []
    },
    {
      "cell_type": "code",
      "execution_count": null,
      "id": "P3ehfc2p0vqq",
      "metadata": {
        "id": "P3ehfc2p0vqq"
      },
      "outputs": [],
      "source": []
    },
    {
      "cell_type": "markdown",
      "id": "Mw6hLiNAugrD",
      "metadata": {
        "id": "Mw6hLiNAugrD"
      },
      "source": [
        "## **1. Prepare dataset**\n"
      ]
    },
    {
      "cell_type": "code",
      "execution_count": null,
      "id": "c73f1e96-b8ea-4b8f-b4f3-9b3f27b42acd",
      "metadata": {
        "id": "c73f1e96-b8ea-4b8f-b4f3-9b3f27b42acd"
      },
      "outputs": [],
      "source": []
    },
    {
      "cell_type": "markdown",
      "id": "75eeaa46",
      "metadata": {
        "id": "75eeaa46"
      },
      "source": [
        "## **2. Build MLP network with `Weight Increasing (std=10.0)`**\n",
        "\n",
        "\n"
      ]
    },
    {
      "cell_type": "code",
      "execution_count": null,
      "id": "589bb0df",
      "metadata": {
        "id": "589bb0df"
      },
      "outputs": [],
      "source": []
    },
    {
      "cell_type": "code",
      "execution_count": null,
      "id": "0db5beca-ee90-4d2e-bb2f-62b20da68cf3",
      "metadata": {
        "id": "0db5beca-ee90-4d2e-bb2f-62b20da68cf3"
      },
      "outputs": [],
      "source": []
    },
    {
      "cell_type": "markdown",
      "id": "lBS7q-JzwFgC",
      "metadata": {
        "id": "lBS7q-JzwFgC"
      },
      "source": [
        "## **3. Training**"
      ]
    },
    {
      "cell_type": "code",
      "execution_count": null,
      "id": "21211483-aeed-4beb-aeea-d1e58ae7baf9",
      "metadata": {
        "id": "21211483-aeed-4beb-aeea-d1e58ae7baf9"
      },
      "outputs": [],
      "source": []
    },
    {
      "cell_type": "code",
      "execution_count": null,
      "id": "321d7070-b736-4ebb-94fa-59cd37ff50b3",
      "metadata": {
        "id": "321d7070-b736-4ebb-94fa-59cd37ff50b3"
      },
      "outputs": [],
      "source": []
    },
    {
      "cell_type": "markdown",
      "id": "CY9OpDyiPL2V",
      "metadata": {
        "id": "CY9OpDyiPL2V"
      },
      "source": [
        "## **4. Evaluation**"
      ]
    },
    {
      "cell_type": "code",
      "execution_count": null,
      "id": "VC8cygPWPKy6",
      "metadata": {
        "id": "VC8cygPWPKy6"
      },
      "outputs": [],
      "source": []
    },
    {
      "cell_type": "code",
      "execution_count": null,
      "id": "vsTDEJ92P6Pa",
      "metadata": {
        "id": "vsTDEJ92P6Pa"
      },
      "outputs": [],
      "source": []
    }
  ],
  "metadata": {
    "accelerator": "GPU",
    "colab": {
      "gpuType": "T4",
      "provenance": [],
      "toc_visible": true,
      "include_colab_link": true
    },
    "kernelspec": {
      "display_name": "Python 3",
      "name": "python3"
    },
    "language_info": {
      "codemirror_mode": {
        "name": "ipython",
        "version": 3
      },
      "file_extension": ".py",
      "mimetype": "text/x-python",
      "name": "python",
      "nbconvert_exporter": "python",
      "pygments_lexer": "ipython3",
      "version": "3.10.13"
    },
    "toc": {
      "base_numbering": 1,
      "nav_menu": {},
      "number_sections": true,
      "sideBar": true,
      "skip_h1_title": false,
      "title_cell": "Table of Contents",
      "title_sidebar": "Contents",
      "toc_cell": false,
      "toc_position": {},
      "toc_section_display": true,
      "toc_window_display": true
    }
  },
  "nbformat": 4,
  "nbformat_minor": 5
}