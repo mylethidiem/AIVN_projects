{
  "cells": [
    {
      "cell_type": "markdown",
      "metadata": {
        "id": "view-in-github",
        "colab_type": "text"
      },
      "source": [
        "<a href=\"https://colab.research.google.com/github/mylethidiem/artificial-intelligence-projects/blob/main/Architecture%20Project%20Gradient%20Vanishing%20in%20MLP/6_TrainLayersSeparately.ipynb\" target=\"_parent\"><img src=\"https://colab.research.google.com/assets/colab-badge.svg\" alt=\"Open In Colab\"/></a>"
      ]
    },
    {
      "cell_type": "markdown",
      "id": "HItsinp0SFqA",
      "metadata": {
        "id": "HItsinp0SFqA"
      },
      "source": [
        "## **0. Import libraries**"
      ]
    },
    {
      "cell_type": "code",
      "execution_count": 1,
      "id": "bb96f0ec-3525-4e79-9ad1-8e95c15a9cf2",
      "metadata": {
        "id": "bb96f0ec-3525-4e79-9ad1-8e95c15a9cf2"
      },
      "outputs": [],
      "source": [
        "import random\n",
        "import matplotlib.pyplot as plt # truc quan hoa\n",
        "import numpy as np\n",
        "\n",
        "import torch\n",
        "import torch.optim as optim\n",
        "import torchvision\n",
        "import torchvision.transforms as transforms\n",
        "\n",
        "from torch import nn\n",
        "from torch.utils.data import DataLoader, Dataset, random_split\n",
        "from torchvision.datasets import FashionMNIST #download fashion mnist data"
      ]
    },
    {
      "cell_type": "code",
      "execution_count": 2,
      "id": "P3ehfc2p0vqq",
      "metadata": {
        "id": "P3ehfc2p0vqq",
        "outputId": "663816d4-6826-40bd-bbf3-672903932b03",
        "colab": {
          "base_uri": "https://localhost:8080/"
        }
      },
      "outputs": [
        {
          "output_type": "stream",
          "name": "stdout",
          "text": [
            "cuda\n"
          ]
        }
      ],
      "source": [
        "device = torch.device(\"cuda\" if torch.cuda.is_available() else \"cpu\")\n",
        "print(device)\n",
        "\n",
        "def set_seed(seed):\n",
        "  random.seed(seed)\n",
        "  np.random.seed(seed)\n",
        "  torch.manual_seed(seed)\n",
        "  if torch.cuda.is_available():\n",
        "    torch.cuda.manual_seed(seed)\n",
        "    torch.cuda.manual_seed_all(seed)\n",
        "  torch.backends.cudnn.benchmark = False\n",
        "  torch.backends.cudnn.deterministic = True\n",
        "\n",
        "SEED = 42\n",
        "set_seed(SEED)"
      ]
    },
    {
      "cell_type": "markdown",
      "id": "Mw6hLiNAugrD",
      "metadata": {
        "id": "Mw6hLiNAugrD"
      },
      "source": [
        "## **1. Prepare dataset**\n"
      ]
    },
    {
      "cell_type": "code",
      "execution_count": 3,
      "id": "c73f1e96-b8ea-4b8f-b4f3-9b3f27b42acd",
      "metadata": {
        "id": "c73f1e96-b8ea-4b8f-b4f3-9b3f27b42acd",
        "outputId": "b69511e8-e3b8-4bb6-faa9-9d1222e8108d",
        "colab": {
          "base_uri": "https://localhost:8080/"
        }
      },
      "outputs": [
        {
          "output_type": "stream",
          "name": "stdout",
          "text": [
            "Downloading http://fashion-mnist.s3-website.eu-central-1.amazonaws.com/train-images-idx3-ubyte.gz\n",
            "Downloading http://fashion-mnist.s3-website.eu-central-1.amazonaws.com/train-images-idx3-ubyte.gz to ./data/FashionMNIST/raw/train-images-idx3-ubyte.gz\n"
          ]
        },
        {
          "output_type": "stream",
          "name": "stderr",
          "text": [
            "100%|██████████| 26.4M/26.4M [00:01<00:00, 13.9MB/s]\n"
          ]
        },
        {
          "output_type": "stream",
          "name": "stdout",
          "text": [
            "Extracting ./data/FashionMNIST/raw/train-images-idx3-ubyte.gz to ./data/FashionMNIST/raw\n",
            "\n",
            "Downloading http://fashion-mnist.s3-website.eu-central-1.amazonaws.com/train-labels-idx1-ubyte.gz\n",
            "Downloading http://fashion-mnist.s3-website.eu-central-1.amazonaws.com/train-labels-idx1-ubyte.gz to ./data/FashionMNIST/raw/train-labels-idx1-ubyte.gz\n"
          ]
        },
        {
          "output_type": "stream",
          "name": "stderr",
          "text": [
            "100%|██████████| 29.5k/29.5k [00:00<00:00, 208kB/s]\n"
          ]
        },
        {
          "output_type": "stream",
          "name": "stdout",
          "text": [
            "Extracting ./data/FashionMNIST/raw/train-labels-idx1-ubyte.gz to ./data/FashionMNIST/raw\n",
            "\n",
            "Downloading http://fashion-mnist.s3-website.eu-central-1.amazonaws.com/t10k-images-idx3-ubyte.gz\n",
            "Downloading http://fashion-mnist.s3-website.eu-central-1.amazonaws.com/t10k-images-idx3-ubyte.gz to ./data/FashionMNIST/raw/t10k-images-idx3-ubyte.gz\n"
          ]
        },
        {
          "output_type": "stream",
          "name": "stderr",
          "text": [
            "100%|██████████| 4.42M/4.42M [00:01<00:00, 3.86MB/s]\n"
          ]
        },
        {
          "output_type": "stream",
          "name": "stdout",
          "text": [
            "Extracting ./data/FashionMNIST/raw/t10k-images-idx3-ubyte.gz to ./data/FashionMNIST/raw\n",
            "\n",
            "Downloading http://fashion-mnist.s3-website.eu-central-1.amazonaws.com/t10k-labels-idx1-ubyte.gz\n",
            "Downloading http://fashion-mnist.s3-website.eu-central-1.amazonaws.com/t10k-labels-idx1-ubyte.gz to ./data/FashionMNIST/raw/t10k-labels-idx1-ubyte.gz\n"
          ]
        },
        {
          "output_type": "stream",
          "name": "stderr",
          "text": [
            "100%|██████████| 5.15k/5.15k [00:00<00:00, 25.0MB/s]"
          ]
        },
        {
          "output_type": "stream",
          "name": "stdout",
          "text": [
            "Extracting ./data/FashionMNIST/raw/t10k-labels-idx1-ubyte.gz to ./data/FashionMNIST/raw\n",
            "\n"
          ]
        },
        {
          "output_type": "stream",
          "name": "stderr",
          "text": [
            "\n"
          ]
        }
      ],
      "source": [
        "train_dataset = FashionMNIST(root='./data', train=True, download=True, transform=transforms.ToTensor())\n",
        "test_dataset = FashionMNIST(root='./data', train=False, download=True, transform=transforms.ToTensor())"
      ]
    },
    {
      "cell_type": "code",
      "source": [
        "train_ratio = 0.9\n",
        "train_size = int(train_ratio * len(train_dataset)) #90%\n",
        "val_size = len(train_dataset) - train_size #10%\n",
        "\n",
        "train_subset, val_subset = random_split(train_dataset, [train_size, val_size])\n",
        "\n",
        "batch_size = 64\n",
        "train_loader = DataLoader(train_subset, batch_size=batch_size, shuffle=True)\n",
        "val_loader = DataLoader(val_subset, batch_size=batch_size, shuffle=False)\n",
        "test_loader = DataLoader(test_dataset, batch_size=batch_size, shuffle=False)\n",
        "print(f\"Train size: {len(train_subset)}\")\n",
        "print(f\"Validation size: {len(val_subset)}\")\n",
        "print(f\"Test size: {len(test_dataset)}\")"
      ],
      "metadata": {
        "id": "DoeJF2xTm5xf",
        "outputId": "20d2321f-c062-431a-9007-96f432855726",
        "colab": {
          "base_uri": "https://localhost:8080/"
        }
      },
      "id": "DoeJF2xTm5xf",
      "execution_count": 46,
      "outputs": [
        {
          "output_type": "stream",
          "name": "stdout",
          "text": [
            "Train size: 54000\n",
            "Validation size: 6000\n",
            "Test size: 10000\n"
          ]
        }
      ]
    },
    {
      "cell_type": "markdown",
      "id": "75eeaa46",
      "metadata": {
        "id": "75eeaa46"
      },
      "source": [
        "## **2. Build MLP network**\n",
        "\n",
        "\n"
      ]
    },
    {
      "cell_type": "markdown",
      "source": [
        "Mô hình ban đầu gồm 7 layer sau đó sẽ được chia thành 4 mô hình con với số lượng layer là  2:2:2:1"
      ],
      "metadata": {
        "id": "_LSVz4jyadcE"
      },
      "id": "_LSVz4jyadcE"
    },
    {
      "cell_type": "code",
      "execution_count": 47,
      "id": "589bb0df",
      "metadata": {
        "id": "589bb0df"
      },
      "outputs": [],
      "source": [
        "class MLP_1layer(nn.Module):\n",
        "  def __init__(self, input_dims, output_dims):\n",
        "    super(MLP_1layer, self).__init__()\n",
        "    self.layer1 = nn.Linear(input_dims, output_dims)\n",
        "    # don't have output\n",
        "    #self.output = nn.Linear(hidden_dims, output_dims)\n",
        "\n",
        "    for module in self.modules():\n",
        "      if isinstance(module, nn.Linear):\n",
        "        nn.init.normal_(module.weight, mean=0.0, std=0.05)\n",
        "        nn.init.constant_(module.bias, val=0.0)\n",
        "\n",
        "  def forward(self, x):\n",
        "    x = nn.Flatten()(x)\n",
        "\n",
        "    x = self.layer1(x)\n",
        "    x = self.Sigmoid()(x)\n",
        "\n",
        "    # don't have output\n",
        "    #output = self.output(x) # don't have output\n",
        "\n",
        "    return x"
      ]
    },
    {
      "cell_type": "code",
      "source": [
        "class MLP_2layers(nn.Module):\n",
        "  def __init__(self, input_dims, output_dims):\n",
        "    super(MLP_2layers, self).__init__()\n",
        "    self.layer1 = nn.Linear(input_dims, output_dims)\n",
        "    self.layer2 = nn.Linear(output_dims, output_dims)\n",
        "\n",
        "    for module in self.modules():\n",
        "      if isinstance(module, nn.Linear):\n",
        "        nn.init.normal_(module.weight, mean=0.0, std=0.05)\n",
        "        nn.init.constant_(module.bias, val=0.0)\n",
        "\n",
        "  def forward(self, x):\n",
        "    x = nn.Flatten()(x)\n",
        "\n",
        "    x = self.layer1(x)\n",
        "    x = nn.Sigmoid()(x)\n",
        "    x = self.layer2(x)\n",
        "    x = nn.Sigmoid()(x)\n",
        "\n",
        "    return x\n"
      ],
      "metadata": {
        "id": "4pOe9ktfeS-3"
      },
      "id": "4pOe9ktfeS-3",
      "execution_count": 48,
      "outputs": []
    },
    {
      "cell_type": "code",
      "execution_count": 49,
      "id": "0db5beca-ee90-4d2e-bb2f-62b20da68cf3",
      "metadata": {
        "id": "0db5beca-ee90-4d2e-bb2f-62b20da68cf3"
      },
      "outputs": [],
      "source": [
        "input_dims = 784 #28x28 pixel = 784 pixel\n",
        "output_dims = 128\n",
        "\n",
        "# Khởi tạo các module thành phần, ở mạng này ta có 4 module thành phần theo tỷ lệ 2:2:2:1\n",
        "first = MLP_2layers(input_dims, output_dims)\n",
        "second = MLP_2layers(input_dims, output_dims)\n",
        "third = MLP_2layers(input_dims, output_dims)\n",
        "fourth = MLP_1layer(input_dims, output_dims)\n",
        "\n",
        "lr = 1e-2\n",
        "criterion = nn.CrossEntropyLoss()"
      ]
    },
    {
      "cell_type": "markdown",
      "source": [
        "Training function"
      ],
      "metadata": {
        "id": "MG3A4t41jUVK"
      },
      "id": "MG3A4t41jUVK"
    },
    {
      "cell_type": "code",
      "source": [
        "def train_model(model, optimizer, epochs=100):\n",
        "  train_loss_list = []\n",
        "  val_loss_list = []\n",
        "  train_acc_list = []\n",
        "  val_acc_list = []\n",
        "\n",
        "  for epoch in range(epochs):\n",
        "    #train\n",
        "    train_loss = 0.0\n",
        "    train_acc = 0.0\n",
        "    num_sample = 0\n",
        "\n",
        "    model.train()\n",
        "    for X_train, y_train in train_loader:\n",
        "      X_train, y_train = X_train.to(device), y_train.to(device)\n",
        "\n",
        "      optimizer.zero_grad()\n",
        "\n",
        "      y_predict = model(X_train)\n",
        "\n",
        "      loss = criterion(y_predict, y_train)\n",
        "      loss.backward()\n",
        "\n",
        "      optimizer.step()\n",
        "\n",
        "      train_loss += loss.item()\n",
        "      train_acc += (torch.argmax(y_predict, dim=1) == y_train).sum().item()\n",
        "      num_sample += len(y_train)\n",
        "\n",
        "    train_loss /= len(train_loader)\n",
        "    train_acc /= num_sample\n",
        "    train_loss_list.append(train_loss)\n",
        "    train_acc_list.append(train_acc)\n",
        "\n",
        "    #evaluation\n",
        "    val_loss = 0.0\n",
        "    val_acc = 0.0\n",
        "    num_sample = 0\n",
        "\n",
        "    model.eval()\n",
        "    with torch.no_grad():\n",
        "      for X_val, y_val in val_loader:\n",
        "       X_val, y_val = X_val.to(device), y_val.to(device)\n",
        "\n",
        "       y_predict = model(X_val)\n",
        "\n",
        "       loss = criterion(y_predict, y_val)\n",
        "\n",
        "       val_loss += loss.item()\n",
        "       val_acc += (torch.argmax(y_predict, dim=1) == y_val).sum().item()\n",
        "       num_sample += len(y_val)\n",
        "\n",
        "    val_loss /= len(val_loader)\n",
        "    val_acc /= num_sample\n",
        "    val_loss_list.append(val_loss)\n",
        "    val_acc_list.append(val_acc)\n",
        "\n",
        "    print(f\"Epoch {epoch+1}/{epochs}: \\\n",
        "    Train loss: {train_loss:.4f}, \\\n",
        "    Train accuracy: {train_acc:.4f} \\\n",
        "    Validation loss: {val_loss:.4f} \\\n",
        "    Validation accuracy: {val_acc:.4f}\")\n",
        "\n",
        "  return train_loss_list, train_acc_list, val_loss_list, val_acc_list\n",
        "\n"
      ],
      "metadata": {
        "id": "4aO-gFb5jT0t"
      },
      "id": "4aO-gFb5jT0t",
      "execution_count": 50,
      "outputs": []
    },
    {
      "cell_type": "markdown",
      "source": [
        "Visualization funciton"
      ],
      "metadata": {
        "id": "1xQbX9kFjX-m"
      },
      "id": "1xQbX9kFjX-m"
    },
    {
      "cell_type": "code",
      "source": [
        "def visualization_train(train_loss_list, train_acc_list, val_loss_list, val_acc_list):\n",
        "  fig, ax = plt.subplots(2, 2, figsize=(12,10))\n",
        "\n",
        "  ax[0,0].plot(train_loss_list, color='green')\n",
        "  ax[0,0].set(title='Train Loss', xlabel='Epoch', ylabel='Loss')\n",
        "\n",
        "  ax[0,1].plot(train_acc_list, color='green')\n",
        "  ax[0,1].set(title='Train Accuracy', xlabel='Epoch', ylabel='Accuracy')\n",
        "\n",
        "  ax[1,0].plot(val_loss_list, color='orange')\n",
        "  ax[1,0].set(title='Validation Loss', xlabel='Epoch', ylabel='Loss')\n",
        "\n",
        "  ax[1,1].plot(val_acc_list, color='orange')\n",
        "  ax[1,1].set(title='Train Accuracy', xlabel='Epoch', ylabel='Accuracy')\n",
        "\n",
        "  plt.show()\n"
      ],
      "metadata": {
        "id": "QovAc8jsjiCO"
      },
      "id": "QovAc8jsjiCO",
      "execution_count": 51,
      "outputs": []
    },
    {
      "cell_type": "markdown",
      "id": "lBS7q-JzwFgC",
      "metadata": {
        "id": "lBS7q-JzwFgC"
      },
      "source": [
        "## **3. Training 1**"
      ]
    },
    {
      "cell_type": "code",
      "execution_count": 52,
      "id": "lNgyrt4B_v_v",
      "metadata": {
        "id": "lNgyrt4B_v_v"
      },
      "outputs": [],
      "source": [
        "# initialize\n",
        "model = nn.Sequential(\n",
        "    first,\n",
        "    nn.Linear(128, 10)\n",
        ").to(device)\n",
        "\n",
        "optimizer = optim.SGD(model.parameters(), lr=lr)"
      ]
    },
    {
      "cell_type": "code",
      "execution_count": 53,
      "id": "21211483-aeed-4beb-aeea-d1e58ae7baf9",
      "metadata": {
        "id": "21211483-aeed-4beb-aeea-d1e58ae7baf9",
        "outputId": "7fd9fc6f-df3a-4ab7-aadc-6e9c523789b1",
        "colab": {
          "base_uri": "https://localhost:8080/"
        }
      },
      "outputs": [
        {
          "output_type": "stream",
          "name": "stdout",
          "text": [
            "Epoch 1/100:     Train loss: 2.2949,     Train accuracy: 0.1328     Validation loss: 2.2816     Validation accuracy: 0.1122\n",
            "Epoch 2/100:     Train loss: 2.2603,     Train accuracy: 0.2441     Validation loss: 2.2309     Validation accuracy: 0.3360\n",
            "Epoch 3/100:     Train loss: 2.1631,     Train accuracy: 0.3801     Validation loss: 2.0619     Validation accuracy: 0.3675\n",
            "Epoch 4/100:     Train loss: 1.8999,     Train accuracy: 0.4464     Validation loss: 1.7454     Validation accuracy: 0.4087\n",
            "Epoch 5/100:     Train loss: 1.6161,     Train accuracy: 0.5095     Validation loss: 1.5076     Validation accuracy: 0.5373\n",
            "Epoch 6/100:     Train loss: 1.4036,     Train accuracy: 0.5612     Validation loss: 1.3248     Validation accuracy: 0.5585\n",
            "Epoch 7/100:     Train loss: 1.2496,     Train accuracy: 0.5880     Validation loss: 1.2018     Validation accuracy: 0.5972\n",
            "Epoch 8/100:     Train loss: 1.1432,     Train accuracy: 0.6052     Validation loss: 1.1134     Validation accuracy: 0.6077\n",
            "Epoch 9/100:     Train loss: 1.0660,     Train accuracy: 0.6156     Validation loss: 1.0487     Validation accuracy: 0.6195\n",
            "Epoch 10/100:     Train loss: 1.0076,     Train accuracy: 0.6282     Validation loss: 0.9973     Validation accuracy: 0.6137\n",
            "Epoch 11/100:     Train loss: 0.9611,     Train accuracy: 0.6387     Validation loss: 0.9585     Validation accuracy: 0.6418\n",
            "Epoch 12/100:     Train loss: 0.9224,     Train accuracy: 0.6507     Validation loss: 0.9225     Validation accuracy: 0.6403\n",
            "Epoch 13/100:     Train loss: 0.8887,     Train accuracy: 0.6615     Validation loss: 0.8912     Validation accuracy: 0.6590\n",
            "Epoch 14/100:     Train loss: 0.8587,     Train accuracy: 0.6743     Validation loss: 0.8619     Validation accuracy: 0.6745\n",
            "Epoch 15/100:     Train loss: 0.8314,     Train accuracy: 0.6859     Validation loss: 0.8365     Validation accuracy: 0.6968\n",
            "Epoch 16/100:     Train loss: 0.8065,     Train accuracy: 0.6963     Validation loss: 0.8126     Validation accuracy: 0.6807\n",
            "Epoch 17/100:     Train loss: 0.7827,     Train accuracy: 0.7076     Validation loss: 0.7890     Validation accuracy: 0.7093\n",
            "Epoch 18/100:     Train loss: 0.7606,     Train accuracy: 0.7199     Validation loss: 0.7690     Validation accuracy: 0.7213\n",
            "Epoch 19/100:     Train loss: 0.7399,     Train accuracy: 0.7263     Validation loss: 0.7478     Validation accuracy: 0.7237\n",
            "Epoch 20/100:     Train loss: 0.7204,     Train accuracy: 0.7345     Validation loss: 0.7301     Validation accuracy: 0.7295\n",
            "Epoch 21/100:     Train loss: 0.7022,     Train accuracy: 0.7418     Validation loss: 0.7128     Validation accuracy: 0.7418\n",
            "Epoch 22/100:     Train loss: 0.6854,     Train accuracy: 0.7469     Validation loss: 0.6972     Validation accuracy: 0.7433\n",
            "Epoch 23/100:     Train loss: 0.6705,     Train accuracy: 0.7510     Validation loss: 0.6829     Validation accuracy: 0.7458\n",
            "Epoch 24/100:     Train loss: 0.6570,     Train accuracy: 0.7535     Validation loss: 0.6717     Validation accuracy: 0.7507\n",
            "Epoch 25/100:     Train loss: 0.6446,     Train accuracy: 0.7575     Validation loss: 0.6608     Validation accuracy: 0.7507\n",
            "Epoch 26/100:     Train loss: 0.6339,     Train accuracy: 0.7612     Validation loss: 0.6496     Validation accuracy: 0.7560\n",
            "Epoch 27/100:     Train loss: 0.6236,     Train accuracy: 0.7641     Validation loss: 0.6391     Validation accuracy: 0.7638\n",
            "Epoch 28/100:     Train loss: 0.6145,     Train accuracy: 0.7692     Validation loss: 0.6327     Validation accuracy: 0.7595\n",
            "Epoch 29/100:     Train loss: 0.6058,     Train accuracy: 0.7724     Validation loss: 0.6243     Validation accuracy: 0.7643\n",
            "Epoch 30/100:     Train loss: 0.5977,     Train accuracy: 0.7770     Validation loss: 0.6149     Validation accuracy: 0.7723\n",
            "Epoch 31/100:     Train loss: 0.5903,     Train accuracy: 0.7805     Validation loss: 0.6080     Validation accuracy: 0.7767\n",
            "Epoch 32/100:     Train loss: 0.5829,     Train accuracy: 0.7844     Validation loss: 0.6007     Validation accuracy: 0.7808\n",
            "Epoch 33/100:     Train loss: 0.5761,     Train accuracy: 0.7885     Validation loss: 0.5946     Validation accuracy: 0.7827\n",
            "Epoch 34/100:     Train loss: 0.5695,     Train accuracy: 0.7922     Validation loss: 0.5886     Validation accuracy: 0.7852\n",
            "Epoch 35/100:     Train loss: 0.5634,     Train accuracy: 0.7958     Validation loss: 0.5815     Validation accuracy: 0.7898\n",
            "Epoch 36/100:     Train loss: 0.5572,     Train accuracy: 0.7981     Validation loss: 0.5766     Validation accuracy: 0.7938\n",
            "Epoch 37/100:     Train loss: 0.5515,     Train accuracy: 0.8018     Validation loss: 0.5723     Validation accuracy: 0.7942\n",
            "Epoch 38/100:     Train loss: 0.5459,     Train accuracy: 0.8044     Validation loss: 0.5666     Validation accuracy: 0.7988\n",
            "Epoch 39/100:     Train loss: 0.5410,     Train accuracy: 0.8073     Validation loss: 0.5597     Validation accuracy: 0.8055\n",
            "Epoch 40/100:     Train loss: 0.5356,     Train accuracy: 0.8094     Validation loss: 0.5549     Validation accuracy: 0.8047\n",
            "Epoch 41/100:     Train loss: 0.5309,     Train accuracy: 0.8111     Validation loss: 0.5503     Validation accuracy: 0.8092\n",
            "Epoch 42/100:     Train loss: 0.5263,     Train accuracy: 0.8129     Validation loss: 0.5457     Validation accuracy: 0.8127\n",
            "Epoch 43/100:     Train loss: 0.5219,     Train accuracy: 0.8145     Validation loss: 0.5417     Validation accuracy: 0.8085\n",
            "Epoch 44/100:     Train loss: 0.5175,     Train accuracy: 0.8173     Validation loss: 0.5367     Validation accuracy: 0.8165\n",
            "Epoch 45/100:     Train loss: 0.5134,     Train accuracy: 0.8191     Validation loss: 0.5337     Validation accuracy: 0.8167\n",
            "Epoch 46/100:     Train loss: 0.5093,     Train accuracy: 0.8194     Validation loss: 0.5280     Validation accuracy: 0.8170\n",
            "Epoch 47/100:     Train loss: 0.5056,     Train accuracy: 0.8215     Validation loss: 0.5246     Validation accuracy: 0.8188\n",
            "Epoch 48/100:     Train loss: 0.5017,     Train accuracy: 0.8222     Validation loss: 0.5217     Validation accuracy: 0.8198\n",
            "Epoch 49/100:     Train loss: 0.4982,     Train accuracy: 0.8244     Validation loss: 0.5182     Validation accuracy: 0.8202\n",
            "Epoch 50/100:     Train loss: 0.4948,     Train accuracy: 0.8248     Validation loss: 0.5161     Validation accuracy: 0.8233\n",
            "Epoch 51/100:     Train loss: 0.4915,     Train accuracy: 0.8264     Validation loss: 0.5121     Validation accuracy: 0.8232\n",
            "Epoch 52/100:     Train loss: 0.4881,     Train accuracy: 0.8275     Validation loss: 0.5103     Validation accuracy: 0.8212\n",
            "Epoch 53/100:     Train loss: 0.4851,     Train accuracy: 0.8284     Validation loss: 0.5059     Validation accuracy: 0.8237\n",
            "Epoch 54/100:     Train loss: 0.4820,     Train accuracy: 0.8289     Validation loss: 0.5050     Validation accuracy: 0.8243\n",
            "Epoch 55/100:     Train loss: 0.4791,     Train accuracy: 0.8303     Validation loss: 0.5011     Validation accuracy: 0.8260\n",
            "Epoch 56/100:     Train loss: 0.4763,     Train accuracy: 0.8311     Validation loss: 0.4979     Validation accuracy: 0.8275\n",
            "Epoch 57/100:     Train loss: 0.4736,     Train accuracy: 0.8315     Validation loss: 0.4955     Validation accuracy: 0.8292\n",
            "Epoch 58/100:     Train loss: 0.4708,     Train accuracy: 0.8334     Validation loss: 0.4921     Validation accuracy: 0.8288\n",
            "Epoch 59/100:     Train loss: 0.4682,     Train accuracy: 0.8342     Validation loss: 0.4906     Validation accuracy: 0.8292\n",
            "Epoch 60/100:     Train loss: 0.4657,     Train accuracy: 0.8346     Validation loss: 0.4871     Validation accuracy: 0.8313\n",
            "Epoch 61/100:     Train loss: 0.4631,     Train accuracy: 0.8357     Validation loss: 0.4862     Validation accuracy: 0.8307\n",
            "Epoch 62/100:     Train loss: 0.4607,     Train accuracy: 0.8365     Validation loss: 0.4823     Validation accuracy: 0.8330\n",
            "Epoch 63/100:     Train loss: 0.4586,     Train accuracy: 0.8371     Validation loss: 0.4792     Validation accuracy: 0.8333\n",
            "Epoch 64/100:     Train loss: 0.4563,     Train accuracy: 0.8382     Validation loss: 0.4771     Validation accuracy: 0.8308\n",
            "Epoch 65/100:     Train loss: 0.4539,     Train accuracy: 0.8389     Validation loss: 0.4746     Validation accuracy: 0.8348\n",
            "Epoch 66/100:     Train loss: 0.4519,     Train accuracy: 0.8401     Validation loss: 0.4747     Validation accuracy: 0.8385\n",
            "Epoch 67/100:     Train loss: 0.4495,     Train accuracy: 0.8406     Validation loss: 0.4709     Validation accuracy: 0.8353\n",
            "Epoch 68/100:     Train loss: 0.4476,     Train accuracy: 0.8422     Validation loss: 0.4684     Validation accuracy: 0.8370\n",
            "Epoch 69/100:     Train loss: 0.4455,     Train accuracy: 0.8424     Validation loss: 0.4675     Validation accuracy: 0.8387\n",
            "Epoch 70/100:     Train loss: 0.4435,     Train accuracy: 0.8433     Validation loss: 0.4660     Validation accuracy: 0.8400\n",
            "Epoch 71/100:     Train loss: 0.4415,     Train accuracy: 0.8439     Validation loss: 0.4648     Validation accuracy: 0.8372\n",
            "Epoch 72/100:     Train loss: 0.4395,     Train accuracy: 0.8444     Validation loss: 0.4632     Validation accuracy: 0.8427\n",
            "Epoch 73/100:     Train loss: 0.4375,     Train accuracy: 0.8444     Validation loss: 0.4594     Validation accuracy: 0.8405\n",
            "Epoch 74/100:     Train loss: 0.4358,     Train accuracy: 0.8455     Validation loss: 0.4583     Validation accuracy: 0.8383\n",
            "Epoch 75/100:     Train loss: 0.4339,     Train accuracy: 0.8463     Validation loss: 0.4556     Validation accuracy: 0.8403\n",
            "Epoch 76/100:     Train loss: 0.4322,     Train accuracy: 0.8461     Validation loss: 0.4542     Validation accuracy: 0.8435\n",
            "Epoch 77/100:     Train loss: 0.4305,     Train accuracy: 0.8469     Validation loss: 0.4526     Validation accuracy: 0.8413\n",
            "Epoch 78/100:     Train loss: 0.4288,     Train accuracy: 0.8475     Validation loss: 0.4506     Validation accuracy: 0.8453\n",
            "Epoch 79/100:     Train loss: 0.4271,     Train accuracy: 0.8483     Validation loss: 0.4496     Validation accuracy: 0.8462\n",
            "Epoch 80/100:     Train loss: 0.4256,     Train accuracy: 0.8486     Validation loss: 0.4469     Validation accuracy: 0.8462\n",
            "Epoch 81/100:     Train loss: 0.4236,     Train accuracy: 0.8497     Validation loss: 0.4472     Validation accuracy: 0.8470\n",
            "Epoch 82/100:     Train loss: 0.4222,     Train accuracy: 0.8505     Validation loss: 0.4437     Validation accuracy: 0.8462\n",
            "Epoch 83/100:     Train loss: 0.4205,     Train accuracy: 0.8504     Validation loss: 0.4425     Validation accuracy: 0.8458\n",
            "Epoch 84/100:     Train loss: 0.4191,     Train accuracy: 0.8509     Validation loss: 0.4432     Validation accuracy: 0.8463\n",
            "Epoch 85/100:     Train loss: 0.4175,     Train accuracy: 0.8511     Validation loss: 0.4389     Validation accuracy: 0.8453\n",
            "Epoch 86/100:     Train loss: 0.4160,     Train accuracy: 0.8520     Validation loss: 0.4371     Validation accuracy: 0.8480\n",
            "Epoch 87/100:     Train loss: 0.4145,     Train accuracy: 0.8528     Validation loss: 0.4365     Validation accuracy: 0.8458\n",
            "Epoch 88/100:     Train loss: 0.4132,     Train accuracy: 0.8533     Validation loss: 0.4356     Validation accuracy: 0.8477\n",
            "Epoch 89/100:     Train loss: 0.4116,     Train accuracy: 0.8533     Validation loss: 0.4342     Validation accuracy: 0.8487\n",
            "Epoch 90/100:     Train loss: 0.4103,     Train accuracy: 0.8539     Validation loss: 0.4333     Validation accuracy: 0.8502\n",
            "Epoch 91/100:     Train loss: 0.4090,     Train accuracy: 0.8547     Validation loss: 0.4318     Validation accuracy: 0.8502\n",
            "Epoch 92/100:     Train loss: 0.4076,     Train accuracy: 0.8550     Validation loss: 0.4285     Validation accuracy: 0.8492\n",
            "Epoch 93/100:     Train loss: 0.4064,     Train accuracy: 0.8558     Validation loss: 0.4278     Validation accuracy: 0.8500\n",
            "Epoch 94/100:     Train loss: 0.4050,     Train accuracy: 0.8558     Validation loss: 0.4266     Validation accuracy: 0.8505\n",
            "Epoch 95/100:     Train loss: 0.4036,     Train accuracy: 0.8567     Validation loss: 0.4247     Validation accuracy: 0.8512\n",
            "Epoch 96/100:     Train loss: 0.4024,     Train accuracy: 0.8570     Validation loss: 0.4252     Validation accuracy: 0.8512\n",
            "Epoch 97/100:     Train loss: 0.4011,     Train accuracy: 0.8571     Validation loss: 0.4243     Validation accuracy: 0.8515\n",
            "Epoch 98/100:     Train loss: 0.3998,     Train accuracy: 0.8578     Validation loss: 0.4237     Validation accuracy: 0.8537\n",
            "Epoch 99/100:     Train loss: 0.3985,     Train accuracy: 0.8582     Validation loss: 0.4212     Validation accuracy: 0.8523\n",
            "Epoch 100/100:     Train loss: 0.3973,     Train accuracy: 0.8575     Validation loss: 0.4223     Validation accuracy: 0.8533\n"
          ]
        }
      ],
      "source": [
        "# training code\n",
        "train_loss_list, train_acc_list, val_loss_list, val_acc_list = train_model(model, optimizer, epochs=100)"
      ]
    },
    {
      "cell_type": "code",
      "execution_count": 54,
      "id": "321d7070-b736-4ebb-94fa-59cd37ff50b3",
      "metadata": {
        "id": "321d7070-b736-4ebb-94fa-59cd37ff50b3",
        "outputId": "eaa6b824-fa93-42c1-cfd8-7e6aebd80bfb",
        "colab": {
          "base_uri": "https://localhost:8080/",
          "height": 872
        }
      },
      "outputs": [
        {
          "output_type": "display_data",
          "data": {
            "text/plain": [
              "<Figure size 1200x1000 with 4 Axes>"
            ],
            "image/png": "[encoded data removed]"
          },
          "metadata": {}
        }
      ],
      "source": [
        "visualization_train(train_loss_list, train_acc_list, val_loss_list, val_acc_list)"
      ]
    },
    {
      "cell_type": "markdown",
      "id": "l3IhjFKGA4eb",
      "metadata": {
        "id": "l3IhjFKGA4eb"
      },
      "source": [
        "## **4. Training 2**"
      ]
    },
    {
      "cell_type": "code",
      "execution_count": 55,
      "id": "UmM5nMSrA4ec",
      "metadata": {
        "id": "UmM5nMSrA4ec"
      },
      "outputs": [],
      "source": [
        "# initialize\n",
        "# first được giữ cố dịnh, không cập nhật trọng số\n",
        "for param in first.parameters():\n",
        "  param.requires_grad = False\n",
        "\n",
        "model = nn.Sequential(\n",
        "    first,\n",
        "    second,\n",
        "    nn.Linear(128, 10)\n",
        ").to(device)\n",
        "\n",
        "optimizer = optim.SGD(model.parameters(), lr=lr)"
      ]
    },
    {
      "cell_type": "code",
      "source": [
        "# Số lượng epochs (chu kỳ huấn luyện) cho quá trình training\n",
        "# Mỗi epoch, mô hình sẽ được huấn luyện trên toàn bộ tập dữ liệu training một lần\n",
        "# Với epochs = 100, mô hình sẽ được huấn luyện 100 lần trên tập dữ liệu\n",
        "epochs = 100\n",
        "train_loss_lst =[]\n",
        "train_acc_lst = []\n",
        "val_loss_lst = []\n",
        "val_acc_lst = []\n",
        "\n",
        "# Lặp qua số epochs đã định\n",
        "for epoch in range(epochs):\n",
        "  # Khởi tạo các biến để tính loss và accuracy cho tập train\n",
        "  train_loss = 0\n",
        "  train_acc = 0\n",
        "  count = 0\n",
        "  # Chuyển model sang chế độ train\n",
        "  model.train()\n",
        "  # Lặp qua từng batch dữ liệu train\n",
        "  for X_train, y_train in train_loader:\n",
        "    # Chuyển dữ liệu sang device (GPU/CPU)\n",
        "    X_train = X_train.to(device)\n",
        "    y_train = y_train.to(device)\n",
        "    # Xóa gradient tích lũy từ bước trước\n",
        "    optimizer.zero_grad()\n",
        "    # Forward pass: tính output của model\n",
        "    outputs = model(X_train)\n",
        "    # Tính loss giữa output và ground truth\n",
        "    loss = criterion(outputs, y_train)\n",
        "    # Backward pass: tính gradient\n",
        "    loss.backward()\n",
        "    # Cập nhật trọng số dựa trên gradient\n",
        "    optimizer.step()\n",
        "    # Cộng dồn loss và accuracy\n",
        "    train_loss += loss.item()\n",
        "    # Tính số lượng dự đoán đúng trong batch hiện tại:\n",
        "    # 1. torch.argmax(outputs,1): Lấy chỉ số của giá trị lớn nhất trên mỗi hàng (dim=1) của outputs\n",
        "    #    -> Đây chính là nhãn được dự đoán bởi mô hình\n",
        "    # 2. == y_train: So sánh với nhãn thực tế, trả về tensor boolean (True nếu dự đoán đúng)\n",
        "    # 3. .sum(): Đếm số lượng giá trị True (số lượng dự đoán đúng)\n",
        "    # 4. .item(): Chuyển đổi tensor thành số Python\n",
        "    # Cộng dồn số lượng dự đoán đúng vào biến train_acc\n",
        "    train_acc += (torch.argmax(outputs,1) == y_train).sum().item()\n",
        "    count += len(y_train)\n",
        "  # Tính trung bình loss và accuracy trên tập train\n",
        "  train_loss /= len(train_loader)\n",
        "  train_loss_lst.append(train_loss)\n",
        "  train_acc /= count\n",
        "  train_acc_lst.append(train_acc)\n",
        "\n",
        "  # Khởi tạo các biến để tính loss và accuracy cho tập validation\n",
        "  val_loss = 0.0\n",
        "  val_acc = 0.0\n",
        "  count = 0\n",
        "  # Chuyển model sang chế độ evaluation\n",
        "  model.eval()\n",
        "  # Tắt tính toán gradient khi validate vì:\n",
        "  # 1. Không cần cập nhật trọng số trong quá trình validation\n",
        "  # 2. Giúp tăng tốc độ tính toán và tiết kiệm bộ nhớ\n",
        "  # 3. Đảm bảo kết quả đánh giá nhất quán vì không có sự thay đổi của trọng số\n",
        "  with torch.no_grad():\n",
        "    # Lặp qua từng batch dữ liệu validation\n",
        "    for X_val, y_val in val_loader:\n",
        "      # Chuyển dữ liệu sang device\n",
        "      X_val = X_val.to(device)\n",
        "      y_val = y_val.to(device)\n",
        "      # Tính output\n",
        "      outputs = model(X_val)\n",
        "      # Tính loss\n",
        "      loss = criterion(outputs, y_val)\n",
        "      # Cộng dồn loss và accuracy\n",
        "      val_loss += loss.item()\n",
        "      val_acc += (torch.argmax(outputs,1) == y_val).sum().item()\n",
        "       # Train size có thể khác so với tổng số mẫu thực tế dùng(do loại bỏ mẫu lỗi..?)\n",
        "      count += len(y_val)\n",
        "  # Tính trung bình loss và accuracy trên tập validation\n",
        "  val_loss /= len(val_loader)\n",
        "  val_loss_lst.append(val_loss)\n",
        "  val_acc /= count # Chia cho số mẫu thực tế đã sử dụng\n",
        "  val_acc_lst.append(val_acc)\n",
        "\n",
        "  # In kết quả sau mỗi epoch\n",
        "  print(f\"EPOCH {epoch+1}/{epochs}, Train_Loss: {train_loss:.4f},Train_Acc: {train_acc:.4f}, Validation Loss: {val_loss:.4f} , Val_Acc:{val_acc:.4f}\")"
      ],
      "metadata": {
        "id": "unyB6B980nQj",
        "outputId": "59506bba-3488-414d-9664-6feade1a1513",
        "colab": {
          "base_uri": "https://localhost:8080/",
          "height": 356
        }
      },
      "id": "unyB6B980nQj",
      "execution_count": 58,
      "outputs": [
        {
          "output_type": "error",
          "ename": "RuntimeError",
          "evalue": "mat1 and mat2 shapes cannot be multiplied (64x128 and 784x128)",
          "traceback": [
            "\u001b[0;31m---------------------------------------------------------------------------\u001b[0m",
            "\u001b[0;31mRuntimeError\u001b[0m                              Traceback (most recent call last)",
            "\u001b[0;32m<ipython-input-58-930f96626445>\u001b[0m in \u001b[0;36m<cell line: 0>\u001b[0;34m()\u001b[0m\n\u001b[1;32m     24\u001b[0m     \u001b[0moptimizer\u001b[0m\u001b[0;34m.\u001b[0m\u001b[0mzero_grad\u001b[0m\u001b[0;34m(\u001b[0m\u001b[0;34m)\u001b[0m\u001b[0;34m\u001b[0m\u001b[0;34m\u001b[0m\u001b[0m\n\u001b[1;32m     25\u001b[0m     \u001b[0;31m# Forward pass: tính output của model\u001b[0m\u001b[0;34m\u001b[0m\u001b[0;34m\u001b[0m\u001b[0m\n\u001b[0;32m---> 26\u001b[0;31m     \u001b[0moutputs\u001b[0m \u001b[0;34m=\u001b[0m \u001b[0mmodel\u001b[0m\u001b[0;34m(\u001b[0m\u001b[0mX_train\u001b[0m\u001b[0;34m)\u001b[0m\u001b[0;34m\u001b[0m\u001b[0;34m\u001b[0m\u001b[0m\n\u001b[0m\u001b[1;32m     27\u001b[0m     \u001b[0;31m# Tính loss giữa output và ground truth\u001b[0m\u001b[0;34m\u001b[0m\u001b[0;34m\u001b[0m\u001b[0m\n\u001b[1;32m     28\u001b[0m     \u001b[0mloss\u001b[0m \u001b[0;34m=\u001b[0m \u001b[0mcriterion\u001b[0m\u001b[0;34m(\u001b[0m\u001b[0moutputs\u001b[0m\u001b[0;34m,\u001b[0m \u001b[0my_train\u001b[0m\u001b[0;34m)\u001b[0m\u001b[0;34m\u001b[0m\u001b[0;34m\u001b[0m\u001b[0m\n",
            "\u001b[0;32m/usr/local/lib/python3.11/dist-packages/torch/nn/modules/module.py\u001b[0m in \u001b[0;36m_wrapped_call_impl\u001b[0;34m(self, *args, **kwargs)\u001b[0m\n\u001b[1;32m   1734\u001b[0m             \u001b[0;32mreturn\u001b[0m \u001b[0mself\u001b[0m\u001b[0;34m.\u001b[0m\u001b[0m_compiled_call_impl\u001b[0m\u001b[0;34m(\u001b[0m\u001b[0;34m*\u001b[0m\u001b[0margs\u001b[0m\u001b[0;34m,\u001b[0m \u001b[0;34m**\u001b[0m\u001b[0mkwargs\u001b[0m\u001b[0;34m)\u001b[0m  \u001b[0;31m# type: ignore[misc]\u001b[0m\u001b[0;34m\u001b[0m\u001b[0;34m\u001b[0m\u001b[0m\n\u001b[1;32m   1735\u001b[0m         \u001b[0;32melse\u001b[0m\u001b[0;34m:\u001b[0m\u001b[0;34m\u001b[0m\u001b[0;34m\u001b[0m\u001b[0m\n\u001b[0;32m-> 1736\u001b[0;31m             \u001b[0;32mreturn\u001b[0m \u001b[0mself\u001b[0m\u001b[0;34m.\u001b[0m\u001b[0m_call_impl\u001b[0m\u001b[0;34m(\u001b[0m\u001b[0;34m*\u001b[0m\u001b[0margs\u001b[0m\u001b[0;34m,\u001b[0m \u001b[0;34m**\u001b[0m\u001b[0mkwargs\u001b[0m\u001b[0;34m)\u001b[0m\u001b[0;34m\u001b[0m\u001b[0;34m\u001b[0m\u001b[0m\n\u001b[0m\u001b[1;32m   1737\u001b[0m \u001b[0;34m\u001b[0m\u001b[0m\n\u001b[1;32m   1738\u001b[0m     \u001b[0;31m# torchrec tests the code consistency with the following code\u001b[0m\u001b[0;34m\u001b[0m\u001b[0;34m\u001b[0m\u001b[0m\n",
            "\u001b[0;32m/usr/local/lib/python3.11/dist-packages/torch/nn/modules/module.py\u001b[0m in \u001b[0;36m_call_impl\u001b[0;34m(self, *args, **kwargs)\u001b[0m\n\u001b[1;32m   1745\u001b[0m                 \u001b[0;32mor\u001b[0m \u001b[0m_global_backward_pre_hooks\u001b[0m \u001b[0;32mor\u001b[0m \u001b[0m_global_backward_hooks\u001b[0m\u001b[0;34m\u001b[0m\u001b[0;34m\u001b[0m\u001b[0m\n\u001b[1;32m   1746\u001b[0m                 or _global_forward_hooks or _global_forward_pre_hooks):\n\u001b[0;32m-> 1747\u001b[0;31m             \u001b[0;32mreturn\u001b[0m \u001b[0mforward_call\u001b[0m\u001b[0;34m(\u001b[0m\u001b[0;34m*\u001b[0m\u001b[0margs\u001b[0m\u001b[0;34m,\u001b[0m \u001b[0;34m**\u001b[0m\u001b[0mkwargs\u001b[0m\u001b[0;34m)\u001b[0m\u001b[0;34m\u001b[0m\u001b[0;34m\u001b[0m\u001b[0m\n\u001b[0m\u001b[1;32m   1748\u001b[0m \u001b[0;34m\u001b[0m\u001b[0m\n\u001b[1;32m   1749\u001b[0m         \u001b[0mresult\u001b[0m \u001b[0;34m=\u001b[0m \u001b[0;32mNone\u001b[0m\u001b[0;34m\u001b[0m\u001b[0;34m\u001b[0m\u001b[0m\n",
            "\u001b[0;32m/usr/local/lib/python3.11/dist-packages/torch/nn/modules/container.py\u001b[0m in \u001b[0;36mforward\u001b[0;34m(self, input)\u001b[0m\n\u001b[1;32m    248\u001b[0m     \u001b[0;32mdef\u001b[0m \u001b[0mforward\u001b[0m\u001b[0;34m(\u001b[0m\u001b[0mself\u001b[0m\u001b[0;34m,\u001b[0m \u001b[0minput\u001b[0m\u001b[0;34m)\u001b[0m\u001b[0;34m:\u001b[0m\u001b[0;34m\u001b[0m\u001b[0;34m\u001b[0m\u001b[0m\n\u001b[1;32m    249\u001b[0m         \u001b[0;32mfor\u001b[0m \u001b[0mmodule\u001b[0m \u001b[0;32min\u001b[0m \u001b[0mself\u001b[0m\u001b[0;34m:\u001b[0m\u001b[0;34m\u001b[0m\u001b[0;34m\u001b[0m\u001b[0m\n\u001b[0;32m--> 250\u001b[0;31m             \u001b[0minput\u001b[0m \u001b[0;34m=\u001b[0m \u001b[0mmodule\u001b[0m\u001b[0;34m(\u001b[0m\u001b[0minput\u001b[0m\u001b[0;34m)\u001b[0m\u001b[0;34m\u001b[0m\u001b[0;34m\u001b[0m\u001b[0m\n\u001b[0m\u001b[1;32m    251\u001b[0m         \u001b[0;32mreturn\u001b[0m \u001b[0minput\u001b[0m\u001b[0;34m\u001b[0m\u001b[0;34m\u001b[0m\u001b[0m\n\u001b[1;32m    252\u001b[0m \u001b[0;34m\u001b[0m\u001b[0m\n",
            "\u001b[0;32m/usr/local/lib/python3.11/dist-packages/torch/nn/modules/module.py\u001b[0m in \u001b[0;36m_wrapped_call_impl\u001b[0;34m(self, *args, **kwargs)\u001b[0m\n\u001b[1;32m   1734\u001b[0m             \u001b[0;32mreturn\u001b[0m \u001b[0mself\u001b[0m\u001b[0;34m.\u001b[0m\u001b[0m_compiled_call_impl\u001b[0m\u001b[0;34m(\u001b[0m\u001b[0;34m*\u001b[0m\u001b[0margs\u001b[0m\u001b[0;34m,\u001b[0m \u001b[0;34m**\u001b[0m\u001b[0mkwargs\u001b[0m\u001b[0;34m)\u001b[0m  \u001b[0;31m# type: ignore[misc]\u001b[0m\u001b[0;34m\u001b[0m\u001b[0;34m\u001b[0m\u001b[0m\n\u001b[1;32m   1735\u001b[0m         \u001b[0;32melse\u001b[0m\u001b[0;34m:\u001b[0m\u001b[0;34m\u001b[0m\u001b[0;34m\u001b[0m\u001b[0m\n\u001b[0;32m-> 1736\u001b[0;31m             \u001b[0;32mreturn\u001b[0m \u001b[0mself\u001b[0m\u001b[0;34m.\u001b[0m\u001b[0m_call_impl\u001b[0m\u001b[0;34m(\u001b[0m\u001b[0;34m*\u001b[0m\u001b[0margs\u001b[0m\u001b[0;34m,\u001b[0m \u001b[0;34m**\u001b[0m\u001b[0mkwargs\u001b[0m\u001b[0;34m)\u001b[0m\u001b[0;34m\u001b[0m\u001b[0;34m\u001b[0m\u001b[0m\n\u001b[0m\u001b[1;32m   1737\u001b[0m \u001b[0;34m\u001b[0m\u001b[0m\n\u001b[1;32m   1738\u001b[0m     \u001b[0;31m# torchrec tests the code consistency with the following code\u001b[0m\u001b[0;34m\u001b[0m\u001b[0;34m\u001b[0m\u001b[0m\n",
            "\u001b[0;32m/usr/local/lib/python3.11/dist-packages/torch/nn/modules/module.py\u001b[0m in \u001b[0;36m_call_impl\u001b[0;34m(self, *args, **kwargs)\u001b[0m\n\u001b[1;32m   1745\u001b[0m                 \u001b[0;32mor\u001b[0m \u001b[0m_global_backward_pre_hooks\u001b[0m \u001b[0;32mor\u001b[0m \u001b[0m_global_backward_hooks\u001b[0m\u001b[0;34m\u001b[0m\u001b[0;34m\u001b[0m\u001b[0m\n\u001b[1;32m   1746\u001b[0m                 or _global_forward_hooks or _global_forward_pre_hooks):\n\u001b[0;32m-> 1747\u001b[0;31m             \u001b[0;32mreturn\u001b[0m \u001b[0mforward_call\u001b[0m\u001b[0;34m(\u001b[0m\u001b[0;34m*\u001b[0m\u001b[0margs\u001b[0m\u001b[0;34m,\u001b[0m \u001b[0;34m**\u001b[0m\u001b[0mkwargs\u001b[0m\u001b[0;34m)\u001b[0m\u001b[0;34m\u001b[0m\u001b[0;34m\u001b[0m\u001b[0m\n\u001b[0m\u001b[1;32m   1748\u001b[0m \u001b[0;34m\u001b[0m\u001b[0m\n\u001b[1;32m   1749\u001b[0m         \u001b[0mresult\u001b[0m \u001b[0;34m=\u001b[0m \u001b[0;32mNone\u001b[0m\u001b[0;34m\u001b[0m\u001b[0;34m\u001b[0m\u001b[0m\n",
            "\u001b[0;32m<ipython-input-48-44bdb8df9800>\u001b[0m in \u001b[0;36mforward\u001b[0;34m(self, x)\u001b[0m\n\u001b[1;32m     13\u001b[0m     \u001b[0mx\u001b[0m \u001b[0;34m=\u001b[0m \u001b[0mnn\u001b[0m\u001b[0;34m.\u001b[0m\u001b[0mFlatten\u001b[0m\u001b[0;34m(\u001b[0m\u001b[0;34m)\u001b[0m\u001b[0;34m(\u001b[0m\u001b[0mx\u001b[0m\u001b[0;34m)\u001b[0m\u001b[0;34m\u001b[0m\u001b[0;34m\u001b[0m\u001b[0m\n\u001b[1;32m     14\u001b[0m \u001b[0;34m\u001b[0m\u001b[0m\n\u001b[0;32m---> 15\u001b[0;31m     \u001b[0mx\u001b[0m \u001b[0;34m=\u001b[0m \u001b[0mself\u001b[0m\u001b[0;34m.\u001b[0m\u001b[0mlayer1\u001b[0m\u001b[0;34m(\u001b[0m\u001b[0mx\u001b[0m\u001b[0;34m)\u001b[0m\u001b[0;34m\u001b[0m\u001b[0;34m\u001b[0m\u001b[0m\n\u001b[0m\u001b[1;32m     16\u001b[0m     \u001b[0mx\u001b[0m \u001b[0;34m=\u001b[0m \u001b[0mnn\u001b[0m\u001b[0;34m.\u001b[0m\u001b[0mSigmoid\u001b[0m\u001b[0;34m(\u001b[0m\u001b[0;34m)\u001b[0m\u001b[0;34m(\u001b[0m\u001b[0mx\u001b[0m\u001b[0;34m)\u001b[0m\u001b[0;34m\u001b[0m\u001b[0;34m\u001b[0m\u001b[0m\n\u001b[1;32m     17\u001b[0m     \u001b[0mx\u001b[0m \u001b[0;34m=\u001b[0m \u001b[0mself\u001b[0m\u001b[0;34m.\u001b[0m\u001b[0mlayer2\u001b[0m\u001b[0;34m(\u001b[0m\u001b[0mx\u001b[0m\u001b[0;34m)\u001b[0m\u001b[0;34m\u001b[0m\u001b[0;34m\u001b[0m\u001b[0m\n",
            "\u001b[0;32m/usr/local/lib/python3.11/dist-packages/torch/nn/modules/module.py\u001b[0m in \u001b[0;36m_wrapped_call_impl\u001b[0;34m(self, *args, **kwargs)\u001b[0m\n\u001b[1;32m   1734\u001b[0m             \u001b[0;32mreturn\u001b[0m \u001b[0mself\u001b[0m\u001b[0;34m.\u001b[0m\u001b[0m_compiled_call_impl\u001b[0m\u001b[0;34m(\u001b[0m\u001b[0;34m*\u001b[0m\u001b[0margs\u001b[0m\u001b[0;34m,\u001b[0m \u001b[0;34m**\u001b[0m\u001b[0mkwargs\u001b[0m\u001b[0;34m)\u001b[0m  \u001b[0;31m# type: ignore[misc]\u001b[0m\u001b[0;34m\u001b[0m\u001b[0;34m\u001b[0m\u001b[0m\n\u001b[1;32m   1735\u001b[0m         \u001b[0;32melse\u001b[0m\u001b[0;34m:\u001b[0m\u001b[0;34m\u001b[0m\u001b[0;34m\u001b[0m\u001b[0m\n\u001b[0;32m-> 1736\u001b[0;31m             \u001b[0;32mreturn\u001b[0m \u001b[0mself\u001b[0m\u001b[0;34m.\u001b[0m\u001b[0m_call_impl\u001b[0m\u001b[0;34m(\u001b[0m\u001b[0;34m*\u001b[0m\u001b[0margs\u001b[0m\u001b[0;34m,\u001b[0m \u001b[0;34m**\u001b[0m\u001b[0mkwargs\u001b[0m\u001b[0;34m)\u001b[0m\u001b[0;34m\u001b[0m\u001b[0;34m\u001b[0m\u001b[0m\n\u001b[0m\u001b[1;32m   1737\u001b[0m \u001b[0;34m\u001b[0m\u001b[0m\n\u001b[1;32m   1738\u001b[0m     \u001b[0;31m# torchrec tests the code consistency with the following code\u001b[0m\u001b[0;34m\u001b[0m\u001b[0;34m\u001b[0m\u001b[0m\n",
            "\u001b[0;32m/usr/local/lib/python3.11/dist-packages/torch/nn/modules/module.py\u001b[0m in \u001b[0;36m_call_impl\u001b[0;34m(self, *args, **kwargs)\u001b[0m\n\u001b[1;32m   1745\u001b[0m                 \u001b[0;32mor\u001b[0m \u001b[0m_global_backward_pre_hooks\u001b[0m \u001b[0;32mor\u001b[0m \u001b[0m_global_backward_hooks\u001b[0m\u001b[0;34m\u001b[0m\u001b[0;34m\u001b[0m\u001b[0m\n\u001b[1;32m   1746\u001b[0m                 or _global_forward_hooks or _global_forward_pre_hooks):\n\u001b[0;32m-> 1747\u001b[0;31m             \u001b[0;32mreturn\u001b[0m \u001b[0mforward_call\u001b[0m\u001b[0;34m(\u001b[0m\u001b[0;34m*\u001b[0m\u001b[0margs\u001b[0m\u001b[0;34m,\u001b[0m \u001b[0;34m**\u001b[0m\u001b[0mkwargs\u001b[0m\u001b[0;34m)\u001b[0m\u001b[0;34m\u001b[0m\u001b[0;34m\u001b[0m\u001b[0m\n\u001b[0m\u001b[1;32m   1748\u001b[0m \u001b[0;34m\u001b[0m\u001b[0m\n\u001b[1;32m   1749\u001b[0m         \u001b[0mresult\u001b[0m \u001b[0;34m=\u001b[0m \u001b[0;32mNone\u001b[0m\u001b[0;34m\u001b[0m\u001b[0;34m\u001b[0m\u001b[0m\n",
            "\u001b[0;32m/usr/local/lib/python3.11/dist-packages/torch/nn/modules/linear.py\u001b[0m in \u001b[0;36mforward\u001b[0;34m(self, input)\u001b[0m\n\u001b[1;32m    123\u001b[0m \u001b[0;34m\u001b[0m\u001b[0m\n\u001b[1;32m    124\u001b[0m     \u001b[0;32mdef\u001b[0m \u001b[0mforward\u001b[0m\u001b[0;34m(\u001b[0m\u001b[0mself\u001b[0m\u001b[0;34m,\u001b[0m \u001b[0minput\u001b[0m\u001b[0;34m:\u001b[0m \u001b[0mTensor\u001b[0m\u001b[0;34m)\u001b[0m \u001b[0;34m->\u001b[0m \u001b[0mTensor\u001b[0m\u001b[0;34m:\u001b[0m\u001b[0;34m\u001b[0m\u001b[0;34m\u001b[0m\u001b[0m\n\u001b[0;32m--> 125\u001b[0;31m         \u001b[0;32mreturn\u001b[0m \u001b[0mF\u001b[0m\u001b[0;34m.\u001b[0m\u001b[0mlinear\u001b[0m\u001b[0;34m(\u001b[0m\u001b[0minput\u001b[0m\u001b[0;34m,\u001b[0m \u001b[0mself\u001b[0m\u001b[0;34m.\u001b[0m\u001b[0mweight\u001b[0m\u001b[0;34m,\u001b[0m \u001b[0mself\u001b[0m\u001b[0;34m.\u001b[0m\u001b[0mbias\u001b[0m\u001b[0;34m)\u001b[0m\u001b[0;34m\u001b[0m\u001b[0;34m\u001b[0m\u001b[0m\n\u001b[0m\u001b[1;32m    126\u001b[0m \u001b[0;34m\u001b[0m\u001b[0m\n\u001b[1;32m    127\u001b[0m     \u001b[0;32mdef\u001b[0m \u001b[0mextra_repr\u001b[0m\u001b[0;34m(\u001b[0m\u001b[0mself\u001b[0m\u001b[0;34m)\u001b[0m \u001b[0;34m->\u001b[0m \u001b[0mstr\u001b[0m\u001b[0;34m:\u001b[0m\u001b[0;34m\u001b[0m\u001b[0;34m\u001b[0m\u001b[0m\n",
            "\u001b[0;31mRuntimeError\u001b[0m: mat1 and mat2 shapes cannot be multiplied (64x128 and 784x128)"
          ]
        }
      ]
    },
    {
      "cell_type": "code",
      "execution_count": 56,
      "id": "lGUHFlGzA4ec",
      "metadata": {
        "id": "lGUHFlGzA4ec",
        "outputId": "34da8355-1d85-47fe-eca1-a0accc4e9241",
        "colab": {
          "base_uri": "https://localhost:8080/",
          "height": 304
        }
      },
      "outputs": [
        {
          "output_type": "error",
          "ename": "RuntimeError",
          "evalue": "mat1 and mat2 shapes cannot be multiplied (64x128 and 784x128)",
          "traceback": [
            "\u001b[0;31m---------------------------------------------------------------------------\u001b[0m",
            "\u001b[0;31mRuntimeError\u001b[0m                              Traceback (most recent call last)",
            "\u001b[0;32m<ipython-input-56-86c5aa60fe43>\u001b[0m in \u001b[0;36m<cell line: 0>\u001b[0;34m()\u001b[0m\n\u001b[1;32m      1\u001b[0m \u001b[0;31m# training code\u001b[0m\u001b[0;34m\u001b[0m\u001b[0;34m\u001b[0m\u001b[0m\n\u001b[0;32m----> 2\u001b[0;31m \u001b[0mtrain_loss_list\u001b[0m\u001b[0;34m,\u001b[0m \u001b[0mtrain_acc_list\u001b[0m\u001b[0;34m,\u001b[0m \u001b[0mval_loss_list\u001b[0m\u001b[0;34m,\u001b[0m \u001b[0mval_acc_list\u001b[0m \u001b[0;34m=\u001b[0m \u001b[0mtrain_model\u001b[0m\u001b[0;34m(\u001b[0m\u001b[0mmodel\u001b[0m\u001b[0;34m,\u001b[0m \u001b[0moptimizer\u001b[0m\u001b[0;34m,\u001b[0m \u001b[0mepochs\u001b[0m\u001b[0;34m=\u001b[0m\u001b[0;36m100\u001b[0m\u001b[0;34m)\u001b[0m\u001b[0;34m\u001b[0m\u001b[0;34m\u001b[0m\u001b[0m\n\u001b[0m",
            "\u001b[0;32m<ipython-input-50-4332ffdd8510>\u001b[0m in \u001b[0;36mtrain_model\u001b[0;34m(model, optimizer, epochs)\u001b[0m\n\u001b[1;32m     17\u001b[0m       \u001b[0moptimizer\u001b[0m\u001b[0;34m.\u001b[0m\u001b[0mzero_grad\u001b[0m\u001b[0;34m(\u001b[0m\u001b[0;34m)\u001b[0m\u001b[0;34m\u001b[0m\u001b[0;34m\u001b[0m\u001b[0m\n\u001b[1;32m     18\u001b[0m \u001b[0;34m\u001b[0m\u001b[0m\n\u001b[0;32m---> 19\u001b[0;31m       \u001b[0my_predict\u001b[0m \u001b[0;34m=\u001b[0m \u001b[0mmodel\u001b[0m\u001b[0;34m(\u001b[0m\u001b[0mX_train\u001b[0m\u001b[0;34m)\u001b[0m\u001b[0;34m\u001b[0m\u001b[0;34m\u001b[0m\u001b[0m\n\u001b[0m\u001b[1;32m     20\u001b[0m \u001b[0;34m\u001b[0m\u001b[0m\n\u001b[1;32m     21\u001b[0m       \u001b[0mloss\u001b[0m \u001b[0;34m=\u001b[0m \u001b[0mcriterion\u001b[0m\u001b[0;34m(\u001b[0m\u001b[0my_predict\u001b[0m\u001b[0;34m,\u001b[0m \u001b[0my_train\u001b[0m\u001b[0;34m)\u001b[0m\u001b[0;34m\u001b[0m\u001b[0;34m\u001b[0m\u001b[0m\n",
            "\u001b[0;32m/usr/local/lib/python3.11/dist-packages/torch/nn/modules/module.py\u001b[0m in \u001b[0;36m_wrapped_call_impl\u001b[0;34m(self, *args, **kwargs)\u001b[0m\n\u001b[1;32m   1734\u001b[0m             \u001b[0;32mreturn\u001b[0m \u001b[0mself\u001b[0m\u001b[0;34m.\u001b[0m\u001b[0m_compiled_call_impl\u001b[0m\u001b[0;34m(\u001b[0m\u001b[0;34m*\u001b[0m\u001b[0margs\u001b[0m\u001b[0;34m,\u001b[0m \u001b[0;34m**\u001b[0m\u001b[0mkwargs\u001b[0m\u001b[0;34m)\u001b[0m  \u001b[0;31m# type: ignore[misc]\u001b[0m\u001b[0;34m\u001b[0m\u001b[0;34m\u001b[0m\u001b[0m\n\u001b[1;32m   1735\u001b[0m         \u001b[0;32melse\u001b[0m\u001b[0;34m:\u001b[0m\u001b[0;34m\u001b[0m\u001b[0;34m\u001b[0m\u001b[0m\n\u001b[0;32m-> 1736\u001b[0;31m             \u001b[0;32mreturn\u001b[0m \u001b[0mself\u001b[0m\u001b[0;34m.\u001b[0m\u001b[0m_call_impl\u001b[0m\u001b[0;34m(\u001b[0m\u001b[0;34m*\u001b[0m\u001b[0margs\u001b[0m\u001b[0;34m,\u001b[0m \u001b[0;34m**\u001b[0m\u001b[0mkwargs\u001b[0m\u001b[0;34m)\u001b[0m\u001b[0;34m\u001b[0m\u001b[0;34m\u001b[0m\u001b[0m\n\u001b[0m\u001b[1;32m   1737\u001b[0m \u001b[0;34m\u001b[0m\u001b[0m\n\u001b[1;32m   1738\u001b[0m     \u001b[0;31m# torchrec tests the code consistency with the following code\u001b[0m\u001b[0;34m\u001b[0m\u001b[0;34m\u001b[0m\u001b[0m\n",
            "\u001b[0;32m/usr/local/lib/python3.11/dist-packages/torch/nn/modules/module.py\u001b[0m in \u001b[0;36m_call_impl\u001b[0;34m(self, *args, **kwargs)\u001b[0m\n\u001b[1;32m   1745\u001b[0m                 \u001b[0;32mor\u001b[0m \u001b[0m_global_backward_pre_hooks\u001b[0m \u001b[0;32mor\u001b[0m \u001b[0m_global_backward_hooks\u001b[0m\u001b[0;34m\u001b[0m\u001b[0;34m\u001b[0m\u001b[0m\n\u001b[1;32m   1746\u001b[0m                 or _global_forward_hooks or _global_forward_pre_hooks):\n\u001b[0;32m-> 1747\u001b[0;31m             \u001b[0;32mreturn\u001b[0m \u001b[0mforward_call\u001b[0m\u001b[0;34m(\u001b[0m\u001b[0;34m*\u001b[0m\u001b[0margs\u001b[0m\u001b[0;34m,\u001b[0m \u001b[0;34m**\u001b[0m\u001b[0mkwargs\u001b[0m\u001b[0;34m)\u001b[0m\u001b[0;34m\u001b[0m\u001b[0;34m\u001b[0m\u001b[0m\n\u001b[0m\u001b[1;32m   1748\u001b[0m \u001b[0;34m\u001b[0m\u001b[0m\n\u001b[1;32m   1749\u001b[0m         \u001b[0mresult\u001b[0m \u001b[0;34m=\u001b[0m \u001b[0;32mNone\u001b[0m\u001b[0;34m\u001b[0m\u001b[0;34m\u001b[0m\u001b[0m\n",
            "\u001b[0;32m/usr/local/lib/python3.11/dist-packages/torch/nn/modules/container.py\u001b[0m in \u001b[0;36mforward\u001b[0;34m(self, input)\u001b[0m\n\u001b[1;32m    248\u001b[0m     \u001b[0;32mdef\u001b[0m \u001b[0mforward\u001b[0m\u001b[0;34m(\u001b[0m\u001b[0mself\u001b[0m\u001b[0;34m,\u001b[0m \u001b[0minput\u001b[0m\u001b[0;34m)\u001b[0m\u001b[0;34m:\u001b[0m\u001b[0;34m\u001b[0m\u001b[0;34m\u001b[0m\u001b[0m\n\u001b[1;32m    249\u001b[0m         \u001b[0;32mfor\u001b[0m \u001b[0mmodule\u001b[0m \u001b[0;32min\u001b[0m \u001b[0mself\u001b[0m\u001b[0;34m:\u001b[0m\u001b[0;34m\u001b[0m\u001b[0;34m\u001b[0m\u001b[0m\n\u001b[0;32m--> 250\u001b[0;31m             \u001b[0minput\u001b[0m \u001b[0;34m=\u001b[0m \u001b[0mmodule\u001b[0m\u001b[0;34m(\u001b[0m\u001b[0minput\u001b[0m\u001b[0;34m)\u001b[0m\u001b[0;34m\u001b[0m\u001b[0;34m\u001b[0m\u001b[0m\n\u001b[0m\u001b[1;32m    251\u001b[0m         \u001b[0;32mreturn\u001b[0m \u001b[0minput\u001b[0m\u001b[0;34m\u001b[0m\u001b[0;34m\u001b[0m\u001b[0m\n\u001b[1;32m    252\u001b[0m \u001b[0;34m\u001b[0m\u001b[0m\n",
            "\u001b[0;32m/usr/local/lib/python3.11/dist-packages/torch/nn/modules/module.py\u001b[0m in \u001b[0;36m_wrapped_call_impl\u001b[0;34m(self, *args, **kwargs)\u001b[0m\n\u001b[1;32m   1734\u001b[0m             \u001b[0;32mreturn\u001b[0m \u001b[0mself\u001b[0m\u001b[0;34m.\u001b[0m\u001b[0m_compiled_call_impl\u001b[0m\u001b[0;34m(\u001b[0m\u001b[0;34m*\u001b[0m\u001b[0margs\u001b[0m\u001b[0;34m,\u001b[0m \u001b[0;34m**\u001b[0m\u001b[0mkwargs\u001b[0m\u001b[0;34m)\u001b[0m  \u001b[0;31m# type: ignore[misc]\u001b[0m\u001b[0;34m\u001b[0m\u001b[0;34m\u001b[0m\u001b[0m\n\u001b[1;32m   1735\u001b[0m         \u001b[0;32melse\u001b[0m\u001b[0;34m:\u001b[0m\u001b[0;34m\u001b[0m\u001b[0;34m\u001b[0m\u001b[0m\n\u001b[0;32m-> 1736\u001b[0;31m             \u001b[0;32mreturn\u001b[0m \u001b[0mself\u001b[0m\u001b[0;34m.\u001b[0m\u001b[0m_call_impl\u001b[0m\u001b[0;34m(\u001b[0m\u001b[0;34m*\u001b[0m\u001b[0margs\u001b[0m\u001b[0;34m,\u001b[0m \u001b[0;34m**\u001b[0m\u001b[0mkwargs\u001b[0m\u001b[0;34m)\u001b[0m\u001b[0;34m\u001b[0m\u001b[0;34m\u001b[0m\u001b[0m\n\u001b[0m\u001b[1;32m   1737\u001b[0m \u001b[0;34m\u001b[0m\u001b[0m\n\u001b[1;32m   1738\u001b[0m     \u001b[0;31m# torchrec tests the code consistency with the following code\u001b[0m\u001b[0;34m\u001b[0m\u001b[0;34m\u001b[0m\u001b[0m\n",
            "\u001b[0;32m/usr/local/lib/python3.11/dist-packages/torch/nn/modules/module.py\u001b[0m in \u001b[0;36m_call_impl\u001b[0;34m(self, *args, **kwargs)\u001b[0m\n\u001b[1;32m   1745\u001b[0m                 \u001b[0;32mor\u001b[0m \u001b[0m_global_backward_pre_hooks\u001b[0m \u001b[0;32mor\u001b[0m \u001b[0m_global_backward_hooks\u001b[0m\u001b[0;34m\u001b[0m\u001b[0;34m\u001b[0m\u001b[0m\n\u001b[1;32m   1746\u001b[0m                 or _global_forward_hooks or _global_forward_pre_hooks):\n\u001b[0;32m-> 1747\u001b[0;31m             \u001b[0;32mreturn\u001b[0m \u001b[0mforward_call\u001b[0m\u001b[0;34m(\u001b[0m\u001b[0;34m*\u001b[0m\u001b[0margs\u001b[0m\u001b[0;34m,\u001b[0m \u001b[0;34m**\u001b[0m\u001b[0mkwargs\u001b[0m\u001b[0;34m)\u001b[0m\u001b[0;34m\u001b[0m\u001b[0;34m\u001b[0m\u001b[0m\n\u001b[0m\u001b[1;32m   1748\u001b[0m \u001b[0;34m\u001b[0m\u001b[0m\n\u001b[1;32m   1749\u001b[0m         \u001b[0mresult\u001b[0m \u001b[0;34m=\u001b[0m \u001b[0;32mNone\u001b[0m\u001b[0;34m\u001b[0m\u001b[0;34m\u001b[0m\u001b[0m\n",
            "\u001b[0;32m<ipython-input-48-44bdb8df9800>\u001b[0m in \u001b[0;36mforward\u001b[0;34m(self, x)\u001b[0m\n\u001b[1;32m     13\u001b[0m     \u001b[0mx\u001b[0m \u001b[0;34m=\u001b[0m \u001b[0mnn\u001b[0m\u001b[0;34m.\u001b[0m\u001b[0mFlatten\u001b[0m\u001b[0;34m(\u001b[0m\u001b[0;34m)\u001b[0m\u001b[0;34m(\u001b[0m\u001b[0mx\u001b[0m\u001b[0;34m)\u001b[0m\u001b[0;34m\u001b[0m\u001b[0;34m\u001b[0m\u001b[0m\n\u001b[1;32m     14\u001b[0m \u001b[0;34m\u001b[0m\u001b[0m\n\u001b[0;32m---> 15\u001b[0;31m     \u001b[0mx\u001b[0m \u001b[0;34m=\u001b[0m \u001b[0mself\u001b[0m\u001b[0;34m.\u001b[0m\u001b[0mlayer1\u001b[0m\u001b[0;34m(\u001b[0m\u001b[0mx\u001b[0m\u001b[0;34m)\u001b[0m\u001b[0;34m\u001b[0m\u001b[0;34m\u001b[0m\u001b[0m\n\u001b[0m\u001b[1;32m     16\u001b[0m     \u001b[0mx\u001b[0m \u001b[0;34m=\u001b[0m \u001b[0mnn\u001b[0m\u001b[0;34m.\u001b[0m\u001b[0mSigmoid\u001b[0m\u001b[0;34m(\u001b[0m\u001b[0;34m)\u001b[0m\u001b[0;34m(\u001b[0m\u001b[0mx\u001b[0m\u001b[0;34m)\u001b[0m\u001b[0;34m\u001b[0m\u001b[0;34m\u001b[0m\u001b[0m\n\u001b[1;32m     17\u001b[0m     \u001b[0mx\u001b[0m \u001b[0;34m=\u001b[0m \u001b[0mself\u001b[0m\u001b[0;34m.\u001b[0m\u001b[0mlayer2\u001b[0m\u001b[0;34m(\u001b[0m\u001b[0mx\u001b[0m\u001b[0;34m)\u001b[0m\u001b[0;34m\u001b[0m\u001b[0;34m\u001b[0m\u001b[0m\n",
            "\u001b[0;32m/usr/local/lib/python3.11/dist-packages/torch/nn/modules/module.py\u001b[0m in \u001b[0;36m_wrapped_call_impl\u001b[0;34m(self, *args, **kwargs)\u001b[0m\n\u001b[1;32m   1734\u001b[0m             \u001b[0;32mreturn\u001b[0m \u001b[0mself\u001b[0m\u001b[0;34m.\u001b[0m\u001b[0m_compiled_call_impl\u001b[0m\u001b[0;34m(\u001b[0m\u001b[0;34m*\u001b[0m\u001b[0margs\u001b[0m\u001b[0;34m,\u001b[0m \u001b[0;34m**\u001b[0m\u001b[0mkwargs\u001b[0m\u001b[0;34m)\u001b[0m  \u001b[0;31m# type: ignore[misc]\u001b[0m\u001b[0;34m\u001b[0m\u001b[0;34m\u001b[0m\u001b[0m\n\u001b[1;32m   1735\u001b[0m         \u001b[0;32melse\u001b[0m\u001b[0;34m:\u001b[0m\u001b[0;34m\u001b[0m\u001b[0;34m\u001b[0m\u001b[0m\n\u001b[0;32m-> 1736\u001b[0;31m             \u001b[0;32mreturn\u001b[0m \u001b[0mself\u001b[0m\u001b[0;34m.\u001b[0m\u001b[0m_call_impl\u001b[0m\u001b[0;34m(\u001b[0m\u001b[0;34m*\u001b[0m\u001b[0margs\u001b[0m\u001b[0;34m,\u001b[0m \u001b[0;34m**\u001b[0m\u001b[0mkwargs\u001b[0m\u001b[0;34m)\u001b[0m\u001b[0;34m\u001b[0m\u001b[0;34m\u001b[0m\u001b[0m\n\u001b[0m\u001b[1;32m   1737\u001b[0m \u001b[0;34m\u001b[0m\u001b[0m\n\u001b[1;32m   1738\u001b[0m     \u001b[0;31m# torchrec tests the code consistency with the following code\u001b[0m\u001b[0;34m\u001b[0m\u001b[0;34m\u001b[0m\u001b[0m\n",
            "\u001b[0;32m/usr/local/lib/python3.11/dist-packages/torch/nn/modules/module.py\u001b[0m in \u001b[0;36m_call_impl\u001b[0;34m(self, *args, **kwargs)\u001b[0m\n\u001b[1;32m   1745\u001b[0m                 \u001b[0;32mor\u001b[0m \u001b[0m_global_backward_pre_hooks\u001b[0m \u001b[0;32mor\u001b[0m \u001b[0m_global_backward_hooks\u001b[0m\u001b[0;34m\u001b[0m\u001b[0;34m\u001b[0m\u001b[0m\n\u001b[1;32m   1746\u001b[0m                 or _global_forward_hooks or _global_forward_pre_hooks):\n\u001b[0;32m-> 1747\u001b[0;31m             \u001b[0;32mreturn\u001b[0m \u001b[0mforward_call\u001b[0m\u001b[0;34m(\u001b[0m\u001b[0;34m*\u001b[0m\u001b[0margs\u001b[0m\u001b[0;34m,\u001b[0m \u001b[0;34m**\u001b[0m\u001b[0mkwargs\u001b[0m\u001b[0;34m)\u001b[0m\u001b[0;34m\u001b[0m\u001b[0;34m\u001b[0m\u001b[0m\n\u001b[0m\u001b[1;32m   1748\u001b[0m \u001b[0;34m\u001b[0m\u001b[0m\n\u001b[1;32m   1749\u001b[0m         \u001b[0mresult\u001b[0m \u001b[0;34m=\u001b[0m \u001b[0;32mNone\u001b[0m\u001b[0;34m\u001b[0m\u001b[0;34m\u001b[0m\u001b[0m\n",
            "\u001b[0;32m/usr/local/lib/python3.11/dist-packages/torch/nn/modules/linear.py\u001b[0m in \u001b[0;36mforward\u001b[0;34m(self, input)\u001b[0m\n\u001b[1;32m    123\u001b[0m \u001b[0;34m\u001b[0m\u001b[0m\n\u001b[1;32m    124\u001b[0m     \u001b[0;32mdef\u001b[0m \u001b[0mforward\u001b[0m\u001b[0;34m(\u001b[0m\u001b[0mself\u001b[0m\u001b[0;34m,\u001b[0m \u001b[0minput\u001b[0m\u001b[0;34m:\u001b[0m \u001b[0mTensor\u001b[0m\u001b[0;34m)\u001b[0m \u001b[0;34m->\u001b[0m \u001b[0mTensor\u001b[0m\u001b[0;34m:\u001b[0m\u001b[0;34m\u001b[0m\u001b[0;34m\u001b[0m\u001b[0m\n\u001b[0;32m--> 125\u001b[0;31m         \u001b[0;32mreturn\u001b[0m \u001b[0mF\u001b[0m\u001b[0;34m.\u001b[0m\u001b[0mlinear\u001b[0m\u001b[0;34m(\u001b[0m\u001b[0minput\u001b[0m\u001b[0;34m,\u001b[0m \u001b[0mself\u001b[0m\u001b[0;34m.\u001b[0m\u001b[0mweight\u001b[0m\u001b[0;34m,\u001b[0m \u001b[0mself\u001b[0m\u001b[0;34m.\u001b[0m\u001b[0mbias\u001b[0m\u001b[0;34m)\u001b[0m\u001b[0;34m\u001b[0m\u001b[0;34m\u001b[0m\u001b[0m\n\u001b[0m\u001b[1;32m    126\u001b[0m \u001b[0;34m\u001b[0m\u001b[0m\n\u001b[1;32m    127\u001b[0m     \u001b[0;32mdef\u001b[0m \u001b[0mextra_repr\u001b[0m\u001b[0;34m(\u001b[0m\u001b[0mself\u001b[0m\u001b[0;34m)\u001b[0m \u001b[0;34m->\u001b[0m \u001b[0mstr\u001b[0m\u001b[0;34m:\u001b[0m\u001b[0;34m\u001b[0m\u001b[0;34m\u001b[0m\u001b[0m\n",
            "\u001b[0;31mRuntimeError\u001b[0m: mat1 and mat2 shapes cannot be multiplied (64x128 and 784x128)"
          ]
        }
      ],
      "source": [
        "# training code\n",
        "train_loss_list, train_acc_list, val_loss_list, val_acc_list = train_model(model, optimizer, epochs=100)"
      ]
    },
    {
      "cell_type": "code",
      "execution_count": null,
      "id": "OU7ztARiA4ec",
      "metadata": {
        "id": "OU7ztARiA4ec"
      },
      "outputs": [],
      "source": [
        "visualization_train(train_loss_list, train_acc_list, val_loss_list, val_acc_list)"
      ]
    },
    {
      "cell_type": "markdown",
      "id": "F1GWX_NdBjdH",
      "metadata": {
        "id": "F1GWX_NdBjdH"
      },
      "source": [
        "## **5. Training 3**"
      ]
    },
    {
      "cell_type": "code",
      "execution_count": null,
      "id": "ARzU9IwwBjdH",
      "metadata": {
        "id": "ARzU9IwwBjdH"
      },
      "outputs": [],
      "source": [
        "# initialize\n",
        "# huấn luyện lại toàn bộ mạng hiện có mà không cố định thành phần nào\n",
        "for param in first.parameters():\n",
        "  param.requires_grad = True\n",
        "\n",
        "model = nn.Sequential(\n",
        "    first,\n",
        "    second,\n",
        "    nn.Linear(128, 10)\n",
        ").to(device)\n",
        "\n",
        "optimizer = optim.SGD(model.parameters(), lr=lr)"
      ]
    },
    {
      "cell_type": "code",
      "execution_count": null,
      "id": "rKs1JgY7BjdH",
      "metadata": {
        "id": "rKs1JgY7BjdH"
      },
      "outputs": [],
      "source": [
        "# training code\n",
        "train_loss_list, train_acc_list, val_loss_list, val_acc_list = train_model(model, optimizer, epochs=100)"
      ]
    },
    {
      "cell_type": "code",
      "execution_count": null,
      "id": "i0eOIoXVSQrt",
      "metadata": {
        "id": "i0eOIoXVSQrt"
      },
      "outputs": [],
      "source": [
        "visualization_train(train_loss_list, train_acc_list, val_loss_list, val_acc_list)"
      ]
    },
    {
      "cell_type": "markdown",
      "id": "Mp3tCdNUXYK_",
      "metadata": {
        "id": "Mp3tCdNUXYK_"
      },
      "source": [
        "## **6. Training 4**\n"
      ]
    },
    {
      "cell_type": "code",
      "execution_count": null,
      "id": "xMVMtkoVXhM5",
      "metadata": {
        "id": "xMVMtkoVXhM5"
      },
      "outputs": [],
      "source": [
        "# initialize\n",
        "for param in first.parameters():\n",
        "  param.requires_grad = False\n",
        "for param in second.parameters():\n",
        "  param.requires_grad = False\n",
        "\n",
        "model = nn.Sequential(\n",
        "    first,\n",
        "    second,\n",
        "    third,\n",
        "    nn.Linear(128, 10)\n",
        ").to(device)\n",
        "\n",
        "optimizer = optim.SGD(model.parameters(), lr=lr)"
      ]
    },
    {
      "cell_type": "code",
      "execution_count": null,
      "id": "0kWASWRFXjMu",
      "metadata": {
        "id": "0kWASWRFXjMu"
      },
      "outputs": [],
      "source": [
        "# training code\n",
        "train_loss_list, train_acc_list, val_loss_list, val_acc_list = train_model(model, optimizer, epochs=100)"
      ]
    },
    {
      "cell_type": "code",
      "execution_count": null,
      "id": "yeAS7ohdXlHf",
      "metadata": {
        "id": "yeAS7ohdXlHf"
      },
      "outputs": [],
      "source": [
        "visualization_train(train_loss_list, train_acc_list, val_loss_list, val_acc_list)"
      ]
    },
    {
      "cell_type": "markdown",
      "id": "P6sh2buCXnrk",
      "metadata": {
        "id": "P6sh2buCXnrk"
      },
      "source": [
        "## **7. Training 5**\n"
      ]
    },
    {
      "cell_type": "code",
      "execution_count": null,
      "id": "3Zp2ThRKXn15",
      "metadata": {
        "id": "3Zp2ThRKXn15"
      },
      "outputs": [],
      "source": [
        "for param in first.parameters():\n",
        "  param.requires_grad = True\n",
        "for param in second.parameters():\n",
        "  param.requires_grad = True\n",
        "\n",
        "model = nn.Sequential(\n",
        "    first,\n",
        "    second,\n",
        "    third,\n",
        "    nn.Linear(128, 10)\n",
        ").to(device)\n",
        "\n",
        "optimizer = optim.SGD(model.parameters(), lr=lr)"
      ]
    },
    {
      "cell_type": "code",
      "execution_count": null,
      "id": "Zsjrw1hmXsFL",
      "metadata": {
        "id": "Zsjrw1hmXsFL"
      },
      "outputs": [],
      "source": [
        "# training code\n",
        "train_loss_list, train_acc_list, val_loss_list, val_acc_list = train_model(model, optimizer, epochs=100)"
      ]
    },
    {
      "cell_type": "code",
      "execution_count": null,
      "id": "b16x8jjJXsFL",
      "metadata": {
        "id": "b16x8jjJXsFL"
      },
      "outputs": [],
      "source": [
        "visualization_train(train_loss_list, train_acc_list, val_loss_list, val_acc_list)"
      ]
    },
    {
      "cell_type": "markdown",
      "id": "CgJw7RstXxdC",
      "metadata": {
        "id": "CgJw7RstXxdC"
      },
      "source": [
        "## **8. Training 6**\n"
      ]
    },
    {
      "cell_type": "code",
      "execution_count": null,
      "id": "RcZIBDACXxi2",
      "metadata": {
        "id": "RcZIBDACXxi2"
      },
      "outputs": [],
      "source": [
        "for param in first.parameters():\n",
        "  param.requires_grad = False\n",
        "for param in second.parameters():\n",
        "  param.requires_grad = False\n",
        "for param in third.parameters():\n",
        "  param.requires_grad = False\n",
        "\n",
        "model = nn.Sequential(\n",
        "    first,\n",
        "    second,\n",
        "    third,\n",
        "    fourth,\n",
        "    nn.Linear(128, 10)\n",
        ").to(device)\n",
        "\n",
        "optimizer = optim.SGD(model.parameters(), lr=lr)"
      ]
    },
    {
      "cell_type": "code",
      "execution_count": null,
      "id": "G-MNV5_yX1wj",
      "metadata": {
        "id": "G-MNV5_yX1wj"
      },
      "outputs": [],
      "source": [
        "# training code\n",
        "train_loss_list, train_acc_list, val_loss_list, val_acc_list = train_model(model, optimizer, epochs=100)"
      ]
    },
    {
      "cell_type": "code",
      "execution_count": null,
      "id": "Es-rMHsHX1wk",
      "metadata": {
        "id": "Es-rMHsHX1wk"
      },
      "outputs": [],
      "source": [
        "visualization_train(train_loss_list, train_acc_list, val_loss_list, val_acc_list)"
      ]
    },
    {
      "cell_type": "markdown",
      "source": [
        "## **8. Training 7**"
      ],
      "metadata": {
        "id": "oeNscCrIuc2x"
      },
      "id": "oeNscCrIuc2x"
    },
    {
      "cell_type": "code",
      "source": [
        "for param in first.parameters():\n",
        "  param.requires_grad = True\n",
        "for param in second.parameters():\n",
        "  param.requires_grad = True\n",
        "for param in third.parameters():\n",
        "  param.requires_grad = True\n",
        "\n",
        "model = nn.Sequential(\n",
        "    first,\n",
        "    second,\n",
        "    third,\n",
        "    fourth,\n",
        "    nn.Linear(128, 10)\n",
        ").to(device)\n",
        "\n",
        "optimizer = optim.SGD(model.parameters(), lr=lr)\n",
        "print(f\"model parameters = {model.parameters()}\")"
      ],
      "metadata": {
        "id": "mD9ui5iKtSBa"
      },
      "id": "mD9ui5iKtSBa",
      "execution_count": null,
      "outputs": []
    },
    {
      "cell_type": "code",
      "source": [
        "# training code\n",
        "train_loss_list, train_acc_list, val_loss_list, val_acc_list = train_model(model, optimizer, epochs=100)"
      ],
      "metadata": {
        "id": "GxVFi_CzugTp"
      },
      "id": "GxVFi_CzugTp",
      "execution_count": null,
      "outputs": []
    },
    {
      "cell_type": "code",
      "source": [
        "visualization_train(train_loss_list, train_acc_list, val_loss_list, val_acc_list)"
      ],
      "metadata": {
        "id": "8e3sQ8ciuiL_"
      },
      "id": "8e3sQ8ciuiL_",
      "execution_count": null,
      "outputs": []
    },
    {
      "cell_type": "markdown",
      "id": "CY9OpDyiPL2V",
      "metadata": {
        "id": "CY9OpDyiPL2V"
      },
      "source": [
        "## **10. Evaluation**"
      ]
    },
    {
      "cell_type": "code",
      "execution_count": null,
      "id": "VC8cygPWPKy6",
      "metadata": {
        "id": "VC8cygPWPKy6"
      },
      "outputs": [],
      "source": [
        "test_label = []\n",
        "test_predict = []\n",
        "\n",
        "model.eval()\n",
        "with torch.no_grad():\n",
        "  for X_test, y_test in test_loader:\n",
        "    X_test, y_test = X_test.to(device), y_test.to(device)\n",
        "\n",
        "    output = model(X_test)\n",
        "\n",
        "    # transfer to CPU, currently it is tensor\n",
        "    test_label.append(y_test.cpu())\n",
        "    test_predict.append(output.cpu())\n",
        "\n",
        "  test_label = torch.cat(test_label, dim=0)\n",
        "  test_predict = torch.cat(test_predict, dim=0)\n",
        "  test_acc = (torch.argmax(test_predict, dim=1) == test_label).sum().item()/len(test_label)\n",
        "\n",
        "print(f\"Test accuracy: {test_acc}\")"
      ]
    },
    {
      "cell_type": "code",
      "execution_count": null,
      "id": "vsTDEJ92P6Pa",
      "metadata": {
        "id": "vsTDEJ92P6Pa"
      },
      "outputs": [],
      "source": [
        "val_label = []\n",
        "val_predict = []\n",
        "\n",
        "model.eval()\n",
        "with torch.no_grad():\n",
        "  for X_val, y_val in val_loader:\n",
        "    X_val, y_val = X_val.to(device), y_val.to(device)\n",
        "\n",
        "    output = model(X_val)\n",
        "\n",
        "    # transfer to CP, currently it is tensor\n",
        "    val_label.append(y_val.cpu())\n",
        "    val_predict.append(output.cpu())\n",
        "\n",
        "  val_label = torch.cat(val_label, dim=0)\n",
        "  val_predict = torch.cat(val_predict, dim=0)\n",
        "  val_acc = (torch.argmax(val_predict, dim=1) == val_label).sum().item()/len(val_label)\n",
        "\n",
        "print(f\"Validation accuracy: {val_acc:.4f}\")"
      ]
    }
  ],
  "metadata": {
    "accelerator": "GPU",
    "colab": {
      "gpuType": "T4",
      "provenance": [],
      "include_colab_link": true
    },
    "kernelspec": {
      "display_name": "Python 3",
      "name": "python3"
    },
    "language_info": {
      "codemirror_mode": {
        "name": "ipython",
        "version": 3
      },
      "file_extension": ".py",
      "mimetype": "text/x-python",
      "name": "python",
      "nbconvert_exporter": "python",
      "pygments_lexer": "ipython3",
      "version": "3.10.13"
    },
    "toc": {
      "base_numbering": 1,
      "nav_menu": {},
      "number_sections": true,
      "sideBar": true,
      "skip_h1_title": false,
      "title_cell": "Table of Contents",
      "title_sidebar": "Contents",
      "toc_cell": false,
      "toc_position": {},
      "toc_section_display": true,
      "toc_window_display": true
    }
  },
  "nbformat": 4,
  "nbformat_minor": 5
}