{
  "cells": [
    {
      "cell_type": "markdown",
      "metadata": {
        "id": "view-in-github",
        "colab_type": "text"
      },
      "source": [
        "<a href=\"https://colab.research.google.com/github/mylethidiem/artificial-intelligence-projects/blob/main/Architecture%20Project%20Gradient%20Vanishing%20in%20MLP/4_NormalizationInsideNetwork.ipynb\" target=\"_parent\"><img src=\"https://colab.research.google.com/assets/colab-badge.svg\" alt=\"Open In Colab\"/></a>"
      ]
    },
    {
      "cell_type": "markdown",
      "id": "HItsinp0SFqA",
      "metadata": {
        "id": "HItsinp0SFqA"
      },
      "source": [
        "## **0. Import libraries**"
      ]
    },
    {
      "cell_type": "code",
      "execution_count": 11,
      "id": "bb96f0ec-3525-4e79-9ad1-8e95c15a9cf2",
      "metadata": {
        "id": "bb96f0ec-3525-4e79-9ad1-8e95c15a9cf2"
      },
      "outputs": [],
      "source": [
        "import random\n",
        "import matplotlib.pyplot as plt # truc quan hoa\n",
        "import numpy as np\n",
        "\n",
        "import torch\n",
        "import torch.optim as optim\n",
        "import torchvision\n",
        "import torchvision.transforms as transforms\n",
        "\n",
        "from torch import nn\n",
        "from torch.utils.data import DataLoader, Dataset, random_split\n",
        "from torchvision.datasets import FashionMNIST #download fashion mnist data\n"
      ]
    },
    {
      "cell_type": "code",
      "execution_count": 3,
      "id": "P3ehfc2p0vqq",
      "metadata": {
        "id": "P3ehfc2p0vqq",
        "outputId": "5a52358b-8b94-418f-f822-dcad24ea2668",
        "colab": {
          "base_uri": "https://localhost:8080/"
        }
      },
      "outputs": [
        {
          "output_type": "stream",
          "name": "stdout",
          "text": [
            "cpu\n"
          ]
        }
      ],
      "source": [
        "device = torch.device(\"cuda\" if torch.cuda.is_available() else \"cpu\")\n",
        "print(device)\n",
        "\n",
        "def set_seed(seed):\n",
        "  random.seed(seed)\n",
        "  np.random.seed(seed)\n",
        "  torch.manual_seed(seed)\n",
        "  if torch.cuda.is_available():\n",
        "    torch.cuda.manual_seed(seed)\n",
        "    torch.cuda.manual_seed_all(seed)\n",
        "  torch.backends.cudnn.benchmark = False\n",
        "  torch.backends.cudnn.deterministic = True\n",
        "\n",
        "SEED = 42\n",
        "set_seed(SEED)"
      ]
    },
    {
      "cell_type": "markdown",
      "id": "Mw6hLiNAugrD",
      "metadata": {
        "id": "Mw6hLiNAugrD"
      },
      "source": [
        "## **1. Prepare dataset**\n"
      ]
    },
    {
      "cell_type": "code",
      "execution_count": 4,
      "id": "c73f1e96-b8ea-4b8f-b4f3-9b3f27b42acd",
      "metadata": {
        "colab": {
          "base_uri": "https://localhost:8080/"
        },
        "id": "c73f1e96-b8ea-4b8f-b4f3-9b3f27b42acd",
        "outputId": "abe9f62a-5444-4e56-e983-63df2f811be1"
      },
      "outputs": [
        {
          "output_type": "stream",
          "name": "stdout",
          "text": [
            "Downloading http://fashion-mnist.s3-website.eu-central-1.amazonaws.com/train-images-idx3-ubyte.gz\n",
            "Downloading http://fashion-mnist.s3-website.eu-central-1.amazonaws.com/train-images-idx3-ubyte.gz to ./data/FashionMNIST/raw/train-images-idx3-ubyte.gz\n"
          ]
        },
        {
          "output_type": "stream",
          "name": "stderr",
          "text": [
            "100%|██████████| 26.4M/26.4M [00:03<00:00, 8.66MB/s]\n"
          ]
        },
        {
          "output_type": "stream",
          "name": "stdout",
          "text": [
            "Extracting ./data/FashionMNIST/raw/train-images-idx3-ubyte.gz to ./data/FashionMNIST/raw\n",
            "\n",
            "Downloading http://fashion-mnist.s3-website.eu-central-1.amazonaws.com/train-labels-idx1-ubyte.gz\n",
            "Downloading http://fashion-mnist.s3-website.eu-central-1.amazonaws.com/train-labels-idx1-ubyte.gz to ./data/FashionMNIST/raw/train-labels-idx1-ubyte.gz\n"
          ]
        },
        {
          "output_type": "stream",
          "name": "stderr",
          "text": [
            "100%|██████████| 29.5k/29.5k [00:00<00:00, 135kB/s]\n"
          ]
        },
        {
          "output_type": "stream",
          "name": "stdout",
          "text": [
            "Extracting ./data/FashionMNIST/raw/train-labels-idx1-ubyte.gz to ./data/FashionMNIST/raw\n",
            "\n",
            "Downloading http://fashion-mnist.s3-website.eu-central-1.amazonaws.com/t10k-images-idx3-ubyte.gz\n",
            "Downloading http://fashion-mnist.s3-website.eu-central-1.amazonaws.com/t10k-images-idx3-ubyte.gz to ./data/FashionMNIST/raw/t10k-images-idx3-ubyte.gz\n"
          ]
        },
        {
          "output_type": "stream",
          "name": "stderr",
          "text": [
            "100%|██████████| 4.42M/4.42M [00:01<00:00, 2.52MB/s]\n"
          ]
        },
        {
          "output_type": "stream",
          "name": "stdout",
          "text": [
            "Extracting ./data/FashionMNIST/raw/t10k-images-idx3-ubyte.gz to ./data/FashionMNIST/raw\n",
            "\n",
            "Downloading http://fashion-mnist.s3-website.eu-central-1.amazonaws.com/t10k-labels-idx1-ubyte.gz\n",
            "Downloading http://fashion-mnist.s3-website.eu-central-1.amazonaws.com/t10k-labels-idx1-ubyte.gz to ./data/FashionMNIST/raw/t10k-labels-idx1-ubyte.gz\n"
          ]
        },
        {
          "output_type": "stream",
          "name": "stderr",
          "text": [
            "100%|██████████| 5.15k/5.15k [00:00<00:00, 17.2MB/s]"
          ]
        },
        {
          "output_type": "stream",
          "name": "stdout",
          "text": [
            "Extracting ./data/FashionMNIST/raw/t10k-labels-idx1-ubyte.gz to ./data/FashionMNIST/raw\n",
            "\n"
          ]
        },
        {
          "output_type": "stream",
          "name": "stderr",
          "text": [
            "\n"
          ]
        }
      ],
      "source": [
        "train_dataset = FashionMNIST(root='./data', train=True, download=True, transform=transforms.ToTensor())\n",
        "test_dataset = FashionMNIST(root='./data', train=False, download=True, transform=transforms.ToTensor())"
      ]
    },
    {
      "cell_type": "markdown",
      "id": "75eeaa46",
      "metadata": {
        "id": "75eeaa46"
      },
      "source": [
        "## **2. Build MLP network with `Normalization: BatchNorm `**\n",
        "\n",
        "\n"
      ]
    },
    {
      "cell_type": "code",
      "execution_count": 5,
      "id": "589bb0df",
      "metadata": {
        "id": "589bb0df",
        "outputId": "c7a1144a-02c8-45ed-d32d-6a254d1ce081",
        "colab": {
          "base_uri": "https://localhost:8080/"
        }
      },
      "outputs": [
        {
          "output_type": "stream",
          "name": "stdout",
          "text": [
            "Train size: 54000\n",
            "Validation size: 6000\n",
            "Test size: 10000\n"
          ]
        }
      ],
      "source": [
        "train_ratio = 0.9\n",
        "# train_size là số lượng mẫu dữ liệu dùng để train (54000 mẫu = 90% của tập train_dataset)\n",
        "train_size = int(train_ratio * len(train_dataset)) #90%\n",
        "val_size = len(train_dataset) - train_size #10%\n",
        "\n",
        "train_subset, val_subset = random_split(train_dataset, [train_size, val_size])\n",
        "\n",
        "batch_size = 512\n",
        "train_loader = DataLoader(train_subset, batch_size=batch_size, shuffle=True)\n",
        "val_loader = DataLoader(val_subset, batch_size=batch_size, shuffle=False)\n",
        "test_loader = DataLoader(test_dataset, batch_size=batch_size, shuffle=False)\n",
        "print(f\"Train size: {len(train_subset)}\")\n",
        "print(f\"Validation size: {len(val_subset)}\")\n",
        "print(f\"Test size: {len(test_dataset)}\")"
      ]
    },
    {
      "cell_type": "code",
      "execution_count": 6,
      "id": "0db5beca-ee90-4d2e-bb2f-62b20da68cf3",
      "metadata": {
        "id": "0db5beca-ee90-4d2e-bb2f-62b20da68cf3"
      },
      "outputs": [],
      "source": [
        "class MLP(nn.Module):\n",
        "  def __init__(self, input_dims, hidden_dims, output_dims):\n",
        "    super(MLP, self).__init__()\n",
        "    self.layer1 = nn.Linear(input_dims, hidden_dims)\n",
        "    self.bn1 = nn.BatchNorm1d(hidden_dims)\n",
        "    self.layer2 = nn.Linear(hidden_dims, hidden_dims)\n",
        "    self.bn2 = nn.BatchNorm1d(hidden_dims)\n",
        "    self.layer3 = nn.Linear(hidden_dims, hidden_dims)\n",
        "    self.bn3 = nn.BatchNorm1d(hidden_dims)\n",
        "    self.layer4 = nn.Linear(hidden_dims, hidden_dims)\n",
        "    self.bn4 = nn.BatchNorm1d(hidden_dims)\n",
        "    self.layer5 = nn.Linear(hidden_dims, hidden_dims)\n",
        "    self.bn5 = nn.BatchNorm1d(hidden_dims)\n",
        "    self.layer6 = nn.Linear(hidden_dims, hidden_dims)\n",
        "    self.bn6 = nn.BatchNorm1d(hidden_dims)\n",
        "    self.layer7 = nn.Linear(hidden_dims, hidden_dims)\n",
        "    self.bn7 = nn.BatchNorm1d(hidden_dims)\n",
        "    self.output = nn.Linear(hidden_dims, output_dims)\n",
        "\n",
        "    for m in self.modules():\n",
        "      if isinstance(m, nn.Linear):\n",
        "        nn.init.normal_(m.weight, mean=0.0, std=0.05)\n",
        "        nn.init.constant_(m.bias, val=0.0)\n",
        "\n",
        "  def forward(self, x):\n",
        "    x = nn.Flatten()(x)\n",
        "\n",
        "    x = self.layer1(x)\n",
        "    x = self.bn1(x)\n",
        "    x = nn.Sigmoid()(x)\n",
        "\n",
        "    x = self.layer2(x)\n",
        "    x = self.bn2(x)\n",
        "    x = nn.Sigmoid()(x)\n",
        "\n",
        "    x = self.layer3(x)\n",
        "    x = self.bn3(x)\n",
        "    x = nn.Sigmoid()(x)\n",
        "\n",
        "    x = self.layer4(x)\n",
        "    x = self.bn4(x)\n",
        "    x = nn.Sigmoid()(x)\n",
        "\n",
        "    x = self.layer5(x)\n",
        "    x = self.bn5(x)\n",
        "    x = nn.Sigmoid()(x)\n",
        "\n",
        "    x = self.layer6(x)\n",
        "    x = self.bn6(x)\n",
        "    x = nn.Sigmoid()(x)\n",
        "\n",
        "    x = self.layer7(x)\n",
        "    x = self.bn7(x)\n",
        "    x = nn.Sigmoid()(x)\n",
        "\n",
        "    out = self.output(x)\n",
        "    return out"
      ]
    },
    {
      "cell_type": "code",
      "source": [
        "input_dims = 784 #28x28 pixel = 784 pixel\n",
        "hidden_dims = 128\n",
        "output_dims = 10 #10 class\n",
        "lr = 1e-2\n",
        "model = MLP(input_dims, hidden_dims, output_dims).to(device)\n",
        "\n",
        "criterion = nn.CrossEntropyLoss()\n",
        "optimizer = torch.optim.SGD(model.parameters(), lr=lr)"
      ],
      "metadata": {
        "id": "5naCrNgXTNvZ"
      },
      "id": "5naCrNgXTNvZ",
      "execution_count": 7,
      "outputs": []
    },
    {
      "cell_type": "markdown",
      "id": "lBS7q-JzwFgC",
      "metadata": {
        "id": "lBS7q-JzwFgC"
      },
      "source": [
        "## **3. Training**"
      ]
    },
    {
      "cell_type": "code",
      "execution_count": 8,
      "id": "21211483-aeed-4beb-aeea-d1e58ae7baf9",
      "metadata": {
        "colab": {
          "base_uri": "https://localhost:8080/"
        },
        "id": "21211483-aeed-4beb-aeea-d1e58ae7baf9",
        "outputId": "5c2a498d-ba8c-45c8-fa4e-9af1e9df9bcd"
      },
      "outputs": [
        {
          "output_type": "stream",
          "name": "stdout",
          "text": [
            "EPOCH 1/100, Train_Loss: 1.9205,Train_Acc: 0.5561, Validation Loss: 1.6695 , Val_Acc:0.6837\n",
            "EPOCH 2/100, Train_Loss: 1.5195,Train_Acc: 0.7094, Validation Loss: 1.4012 , Val_Acc:0.7178\n",
            "EPOCH 3/100, Train_Loss: 1.2997,Train_Acc: 0.7371, Validation Loss: 1.2240 , Val_Acc:0.7420\n",
            "EPOCH 4/100, Train_Loss: 1.1444,Train_Acc: 0.7614, Validation Loss: 1.0916 , Val_Acc:0.7633\n",
            "EPOCH 5/100, Train_Loss: 1.0268,Train_Acc: 0.7781, Validation Loss: 0.9875 , Val_Acc:0.7797\n",
            "EPOCH 6/100, Train_Loss: 0.9334,Train_Acc: 0.7896, Validation Loss: 0.9061 , Val_Acc:0.7937\n",
            "EPOCH 7/100, Train_Loss: 0.8589,Train_Acc: 0.8001, Validation Loss: 0.8410 , Val_Acc:0.8003\n",
            "EPOCH 8/100, Train_Loss: 0.7977,Train_Acc: 0.8084, Validation Loss: 0.7877 , Val_Acc:0.8077\n",
            "EPOCH 9/100, Train_Loss: 0.7487,Train_Acc: 0.8145, Validation Loss: 0.7408 , Val_Acc:0.8138\n",
            "EPOCH 10/100, Train_Loss: 0.7059,Train_Acc: 0.8198, Validation Loss: 0.7054 , Val_Acc:0.8172\n",
            "EPOCH 11/100, Train_Loss: 0.6701,Train_Acc: 0.8244, Validation Loss: 0.6726 , Val_Acc:0.8243\n",
            "EPOCH 12/100, Train_Loss: 0.6400,Train_Acc: 0.8290, Validation Loss: 0.6426 , Val_Acc:0.8242\n",
            "EPOCH 13/100, Train_Loss: 0.6144,Train_Acc: 0.8329, Validation Loss: 0.6214 , Val_Acc:0.8317\n",
            "EPOCH 14/100, Train_Loss: 0.5904,Train_Acc: 0.8373, Validation Loss: 0.6025 , Val_Acc:0.8322\n",
            "EPOCH 15/100, Train_Loss: 0.5697,Train_Acc: 0.8406, Validation Loss: 0.5821 , Val_Acc:0.8328\n",
            "EPOCH 16/100, Train_Loss: 0.5520,Train_Acc: 0.8424, Validation Loss: 0.5655 , Val_Acc:0.8377\n",
            "EPOCH 17/100, Train_Loss: 0.5354,Train_Acc: 0.8458, Validation Loss: 0.5526 , Val_Acc:0.8402\n",
            "EPOCH 18/100, Train_Loss: 0.5211,Train_Acc: 0.8486, Validation Loss: 0.5345 , Val_Acc:0.8428\n",
            "EPOCH 19/100, Train_Loss: 0.5074,Train_Acc: 0.8512, Validation Loss: 0.5300 , Val_Acc:0.8440\n",
            "EPOCH 20/100, Train_Loss: 0.4950,Train_Acc: 0.8527, Validation Loss: 0.5155 , Val_Acc:0.8463\n",
            "EPOCH 21/100, Train_Loss: 0.4836,Train_Acc: 0.8553, Validation Loss: 0.5050 , Val_Acc:0.8473\n",
            "EPOCH 22/100, Train_Loss: 0.4736,Train_Acc: 0.8578, Validation Loss: 0.5012 , Val_Acc:0.8492\n",
            "EPOCH 23/100, Train_Loss: 0.4636,Train_Acc: 0.8590, Validation Loss: 0.4931 , Val_Acc:0.8508\n",
            "EPOCH 24/100, Train_Loss: 0.4550,Train_Acc: 0.8611, Validation Loss: 0.4778 , Val_Acc:0.8538\n",
            "EPOCH 25/100, Train_Loss: 0.4462,Train_Acc: 0.8628, Validation Loss: 0.4756 , Val_Acc:0.8528\n",
            "EPOCH 26/100, Train_Loss: 0.4394,Train_Acc: 0.8642, Validation Loss: 0.4637 , Val_Acc:0.8578\n",
            "EPOCH 27/100, Train_Loss: 0.4317,Train_Acc: 0.8662, Validation Loss: 0.4521 , Val_Acc:0.8593\n",
            "EPOCH 28/100, Train_Loss: 0.4260,Train_Acc: 0.8666, Validation Loss: 0.4605 , Val_Acc:0.8490\n",
            "EPOCH 29/100, Train_Loss: 0.4173,Train_Acc: 0.8692, Validation Loss: 0.4423 , Val_Acc:0.8612\n",
            "EPOCH 30/100, Train_Loss: 0.4125,Train_Acc: 0.8704, Validation Loss: 0.4455 , Val_Acc:0.8557\n",
            "EPOCH 31/100, Train_Loss: 0.4077,Train_Acc: 0.8716, Validation Loss: 0.4336 , Val_Acc:0.8620\n",
            "EPOCH 32/100, Train_Loss: 0.4013,Train_Acc: 0.8739, Validation Loss: 0.4351 , Val_Acc:0.8638\n",
            "EPOCH 33/100, Train_Loss: 0.3959,Train_Acc: 0.8747, Validation Loss: 0.4502 , Val_Acc:0.8502\n",
            "EPOCH 34/100, Train_Loss: 0.3909,Train_Acc: 0.8756, Validation Loss: 0.4255 , Val_Acc:0.8640\n",
            "EPOCH 35/100, Train_Loss: 0.3866,Train_Acc: 0.8770, Validation Loss: 0.4170 , Val_Acc:0.8680\n",
            "EPOCH 36/100, Train_Loss: 0.3828,Train_Acc: 0.8780, Validation Loss: 0.4179 , Val_Acc:0.8648\n",
            "EPOCH 37/100, Train_Loss: 0.3767,Train_Acc: 0.8789, Validation Loss: 0.4142 , Val_Acc:0.8662\n",
            "EPOCH 38/100, Train_Loss: 0.3733,Train_Acc: 0.8796, Validation Loss: 0.4219 , Val_Acc:0.8582\n",
            "EPOCH 39/100, Train_Loss: 0.3693,Train_Acc: 0.8812, Validation Loss: 0.4150 , Val_Acc:0.8657\n",
            "EPOCH 40/100, Train_Loss: 0.3652,Train_Acc: 0.8827, Validation Loss: 0.4032 , Val_Acc:0.8663\n",
            "EPOCH 41/100, Train_Loss: 0.3615,Train_Acc: 0.8834, Validation Loss: 0.4116 , Val_Acc:0.8662\n",
            "EPOCH 42/100, Train_Loss: 0.3584,Train_Acc: 0.8851, Validation Loss: 0.4665 , Val_Acc:0.8370\n",
            "EPOCH 43/100, Train_Loss: 0.3547,Train_Acc: 0.8841, Validation Loss: 0.4048 , Val_Acc:0.8672\n",
            "EPOCH 44/100, Train_Loss: 0.3509,Train_Acc: 0.8862, Validation Loss: 0.3912 , Val_Acc:0.8727\n",
            "EPOCH 45/100, Train_Loss: 0.3478,Train_Acc: 0.8878, Validation Loss: 0.3947 , Val_Acc:0.8672\n",
            "EPOCH 46/100, Train_Loss: 0.3450,Train_Acc: 0.8872, Validation Loss: 0.3826 , Val_Acc:0.8735\n",
            "EPOCH 47/100, Train_Loss: 0.3420,Train_Acc: 0.8888, Validation Loss: 0.3842 , Val_Acc:0.8728\n",
            "EPOCH 48/100, Train_Loss: 0.3385,Train_Acc: 0.8897, Validation Loss: 0.3884 , Val_Acc:0.8713\n",
            "EPOCH 49/100, Train_Loss: 0.3355,Train_Acc: 0.8905, Validation Loss: 0.3954 , Val_Acc:0.8678\n",
            "EPOCH 50/100, Train_Loss: 0.3327,Train_Acc: 0.8902, Validation Loss: 0.3912 , Val_Acc:0.8707\n",
            "EPOCH 51/100, Train_Loss: 0.3312,Train_Acc: 0.8907, Validation Loss: 0.3845 , Val_Acc:0.8705\n",
            "EPOCH 52/100, Train_Loss: 0.3268,Train_Acc: 0.8917, Validation Loss: 0.4238 , Val_Acc:0.8497\n",
            "EPOCH 53/100, Train_Loss: 0.3260,Train_Acc: 0.8938, Validation Loss: 0.3781 , Val_Acc:0.8712\n",
            "EPOCH 54/100, Train_Loss: 0.3233,Train_Acc: 0.8945, Validation Loss: 0.3680 , Val_Acc:0.8715\n",
            "EPOCH 55/100, Train_Loss: 0.3189,Train_Acc: 0.8953, Validation Loss: 0.4038 , Val_Acc:0.8528\n",
            "EPOCH 56/100, Train_Loss: 0.3182,Train_Acc: 0.8944, Validation Loss: 0.4036 , Val_Acc:0.8597\n",
            "EPOCH 57/100, Train_Loss: 0.3142,Train_Acc: 0.8961, Validation Loss: 0.3744 , Val_Acc:0.8703\n",
            "EPOCH 58/100, Train_Loss: 0.3108,Train_Acc: 0.8971, Validation Loss: 0.4185 , Val_Acc:0.8553\n",
            "EPOCH 59/100, Train_Loss: 0.3088,Train_Acc: 0.8979, Validation Loss: 0.3697 , Val_Acc:0.8735\n",
            "EPOCH 60/100, Train_Loss: 0.3095,Train_Acc: 0.8970, Validation Loss: 0.3793 , Val_Acc:0.8693\n",
            "EPOCH 61/100, Train_Loss: 0.3059,Train_Acc: 0.8971, Validation Loss: 0.3634 , Val_Acc:0.8728\n",
            "EPOCH 62/100, Train_Loss: 0.3020,Train_Acc: 0.9001, Validation Loss: 0.3711 , Val_Acc:0.8743\n",
            "EPOCH 63/100, Train_Loss: 0.2992,Train_Acc: 0.9010, Validation Loss: 0.3988 , Val_Acc:0.8583\n",
            "EPOCH 64/100, Train_Loss: 0.2981,Train_Acc: 0.9003, Validation Loss: 0.3674 , Val_Acc:0.8710\n",
            "EPOCH 65/100, Train_Loss: 0.2962,Train_Acc: 0.9021, Validation Loss: 0.3636 , Val_Acc:0.8737\n",
            "EPOCH 66/100, Train_Loss: 0.2946,Train_Acc: 0.9016, Validation Loss: 0.3962 , Val_Acc:0.8675\n",
            "EPOCH 67/100, Train_Loss: 0.2922,Train_Acc: 0.9027, Validation Loss: 0.3583 , Val_Acc:0.8730\n",
            "EPOCH 68/100, Train_Loss: 0.2892,Train_Acc: 0.9037, Validation Loss: 0.3725 , Val_Acc:0.8698\n",
            "EPOCH 69/100, Train_Loss: 0.2875,Train_Acc: 0.9040, Validation Loss: 0.3893 , Val_Acc:0.8690\n",
            "EPOCH 70/100, Train_Loss: 0.2864,Train_Acc: 0.9038, Validation Loss: 0.3717 , Val_Acc:0.8758\n",
            "EPOCH 71/100, Train_Loss: 0.2846,Train_Acc: 0.9057, Validation Loss: 0.3828 , Val_Acc:0.8677\n",
            "EPOCH 72/100, Train_Loss: 0.2830,Train_Acc: 0.9050, Validation Loss: 0.3727 , Val_Acc:0.8657\n",
            "EPOCH 73/100, Train_Loss: 0.2814,Train_Acc: 0.9066, Validation Loss: 0.3623 , Val_Acc:0.8725\n",
            "EPOCH 74/100, Train_Loss: 0.2788,Train_Acc: 0.9065, Validation Loss: 0.3534 , Val_Acc:0.8738\n",
            "EPOCH 75/100, Train_Loss: 0.2756,Train_Acc: 0.9071, Validation Loss: 0.3545 , Val_Acc:0.8720\n",
            "EPOCH 76/100, Train_Loss: 0.2743,Train_Acc: 0.9082, Validation Loss: 0.3468 , Val_Acc:0.8790\n",
            "EPOCH 77/100, Train_Loss: 0.2721,Train_Acc: 0.9099, Validation Loss: 0.3659 , Val_Acc:0.8742\n",
            "EPOCH 78/100, Train_Loss: 0.2717,Train_Acc: 0.9098, Validation Loss: 0.3515 , Val_Acc:0.8760\n",
            "EPOCH 79/100, Train_Loss: 0.2682,Train_Acc: 0.9104, Validation Loss: 0.3623 , Val_Acc:0.8743\n",
            "EPOCH 80/100, Train_Loss: 0.2688,Train_Acc: 0.9109, Validation Loss: 0.3741 , Val_Acc:0.8660\n",
            "EPOCH 81/100, Train_Loss: 0.2666,Train_Acc: 0.9101, Validation Loss: 0.3738 , Val_Acc:0.8670\n",
            "EPOCH 82/100, Train_Loss: 0.2651,Train_Acc: 0.9120, Validation Loss: 0.3507 , Val_Acc:0.8767\n",
            "EPOCH 83/100, Train_Loss: 0.2617,Train_Acc: 0.9124, Validation Loss: 0.3756 , Val_Acc:0.8655\n",
            "EPOCH 84/100, Train_Loss: 0.2601,Train_Acc: 0.9130, Validation Loss: 0.3783 , Val_Acc:0.8690\n",
            "EPOCH 85/100, Train_Loss: 0.2567,Train_Acc: 0.9152, Validation Loss: 0.3462 , Val_Acc:0.8735\n",
            "EPOCH 86/100, Train_Loss: 0.2581,Train_Acc: 0.9139, Validation Loss: 0.4038 , Val_Acc:0.8565\n",
            "EPOCH 87/100, Train_Loss: 0.2567,Train_Acc: 0.9139, Validation Loss: 0.3818 , Val_Acc:0.8643\n",
            "EPOCH 88/100, Train_Loss: 0.2538,Train_Acc: 0.9157, Validation Loss: 0.3812 , Val_Acc:0.8618\n",
            "EPOCH 89/100, Train_Loss: 0.2528,Train_Acc: 0.9150, Validation Loss: 0.3477 , Val_Acc:0.8777\n",
            "EPOCH 90/100, Train_Loss: 0.2510,Train_Acc: 0.9151, Validation Loss: 0.3419 , Val_Acc:0.8765\n",
            "EPOCH 91/100, Train_Loss: 0.2492,Train_Acc: 0.9168, Validation Loss: 0.3394 , Val_Acc:0.8787\n",
            "EPOCH 92/100, Train_Loss: 0.2454,Train_Acc: 0.9178, Validation Loss: 0.3400 , Val_Acc:0.8807\n",
            "EPOCH 93/100, Train_Loss: 0.2451,Train_Acc: 0.9176, Validation Loss: 0.3678 , Val_Acc:0.8660\n",
            "EPOCH 94/100, Train_Loss: 0.2443,Train_Acc: 0.9196, Validation Loss: 0.3706 , Val_Acc:0.8697\n",
            "EPOCH 95/100, Train_Loss: 0.2410,Train_Acc: 0.9211, Validation Loss: 0.3524 , Val_Acc:0.8795\n",
            "EPOCH 96/100, Train_Loss: 0.2406,Train_Acc: 0.9200, Validation Loss: 0.3358 , Val_Acc:0.8792\n",
            "EPOCH 97/100, Train_Loss: 0.2391,Train_Acc: 0.9202, Validation Loss: 0.3656 , Val_Acc:0.8745\n",
            "EPOCH 98/100, Train_Loss: 0.2392,Train_Acc: 0.9203, Validation Loss: 0.3611 , Val_Acc:0.8742\n",
            "EPOCH 99/100, Train_Loss: 0.2368,Train_Acc: 0.9204, Validation Loss: 0.3608 , Val_Acc:0.8803\n",
            "EPOCH 100/100, Train_Loss: 0.2356,Train_Acc: 0.9222, Validation Loss: 0.3393 , Val_Acc:0.8780\n"
          ]
        }
      ],
      "source": [
        "epochs = 100\n",
        "train_loss_list =[]\n",
        "train_acc_list = []\n",
        "val_loss_list = []\n",
        "val_acc_list = []\n",
        "\n",
        "for epoch in range(epochs):\n",
        "  train_loss = 0\n",
        "  train_acc = 0\n",
        "  count = 0\n",
        "  model.train()\n",
        "  for X_train, y_train in train_loader:\n",
        "    X_train = X_train.to(device)\n",
        "    y_train = y_train.to(device)\n",
        "\n",
        "    optimizer.zero_grad()\n",
        "\n",
        "    outputs = model(X_train)\n",
        "\n",
        "    loss = criterion(outputs, y_train)\n",
        "\n",
        "    loss.backward()\n",
        "    # Update weight, bias\n",
        "    optimizer.step()\n",
        "\n",
        "    train_loss += loss.item()\n",
        "    train_acc += (torch.argmax(outputs,1) == y_train).sum().item()\n",
        "    count += len(y_train)\n",
        "\n",
        "  train_loss /= len(train_loader)\n",
        "  train_loss_list.append(train_loss)\n",
        "  train_acc /= count\n",
        "  train_acc_list.append(train_acc)\n",
        "\n",
        "  val_loss = 0.0\n",
        "  val_acc = 0.0\n",
        "  count = 0\n",
        "\n",
        "  model.eval()\n",
        "  with torch.no_grad():\n",
        "    for X_val, y_val in val_loader:\n",
        "      X_val = X_val.to(device)\n",
        "      y_val = y_val.to(device)\n",
        "      outputs = model(X_val)\n",
        "      loss = criterion(outputs, y_val)\n",
        "      val_loss += loss.item()\n",
        "      val_acc += (torch.argmax(outputs,1) == y_val).sum().item()\n",
        "      count += len(y_val)\n",
        "\n",
        "  val_loss /= len(val_loader)\n",
        "  val_loss_list.append(val_loss)\n",
        "  val_acc /= count\n",
        "  val_acc_list.append(val_acc)\n",
        "\n",
        "  print(f\"EPOCH {epoch+1}/{epochs}, Train_Loss: {train_loss:.4f},Train_Acc: {train_acc:.4f}, Validation Loss: {val_loss:.4f} , Val_Acc:{val_acc:.4f}\")"
      ]
    },
    {
      "cell_type": "code",
      "execution_count": 12,
      "id": "321d7070-b736-4ebb-94fa-59cd37ff50b3",
      "metadata": {
        "colab": {
          "base_uri": "https://localhost:8080/",
          "height": 872
        },
        "id": "321d7070-b736-4ebb-94fa-59cd37ff50b3",
        "outputId": "898a3cfc-f84e-40fa-d8ed-03f77d18fa1d"
      },
      "outputs": [
        {
          "output_type": "display_data",
          "data": {
            "text/plain": [
              "<Figure size 1200x1000 with 4 Axes>"
            ],
            "image/png": "[encoded data removed]"
          },
          "metadata": {}
        }
      ],
      "source": [
        "fig, ax = plt.subplots(2,2,figsize=(12,10))\n",
        "ax[0,0].plot(train_loss_list, color='green')\n",
        "ax[0,0].set(title='Training Loss', xlabel='Epoch', ylabel='Loss')\n",
        "\n",
        "ax[0,1].plot(val_loss_list, color='orange')\n",
        "ax[0,1].set(title='Validation Loss', xlabel='Epoch', ylabel='Loss')\n",
        "\n",
        "ax[1,0].plot(train_acc_list, color='green')\n",
        "ax[1,0].set(title='Training Accuracy', xlabel='Epoch', ylabel='Accuracy')\n",
        "\n",
        "ax[1,1].plot(val_acc_list, color='orange')\n",
        "ax[1,1].set(title='Validation Accuracy', xlabel='Epoch', ylabel='Accuracy')\n",
        "\n",
        "plt.show()"
      ]
    },
    {
      "cell_type": "markdown",
      "id": "CY9OpDyiPL2V",
      "metadata": {
        "id": "CY9OpDyiPL2V"
      },
      "source": [
        "## **4. Evaluation**"
      ]
    },
    {
      "cell_type": "code",
      "execution_count": 13,
      "id": "VC8cygPWPKy6",
      "metadata": {
        "colab": {
          "base_uri": "https://localhost:8080/"
        },
        "id": "VC8cygPWPKy6",
        "outputId": "da8864bf-f62c-45e0-9658-7c63bfb2044e"
      },
      "outputs": [
        {
          "output_type": "stream",
          "name": "stdout",
          "text": [
            "Test accuracy: 0.8717\n"
          ]
        }
      ],
      "source": [
        "test_label = []\n",
        "test_predict = []\n",
        "\n",
        "model.eval()\n",
        "with torch.no_grad():\n",
        "  for X_test, y_test in test_loader:\n",
        "    X_test, y_test = X_test.to(device), y_test.to(device)\n",
        "\n",
        "    output = model(X_test)\n",
        "\n",
        "    # transfer to CPU, currently it is tensor\n",
        "    test_label.append(y_test.cpu())\n",
        "    test_predict.append(output.cpu())\n",
        "\n",
        "  test_label = torch.cat(test_label, dim=0)\n",
        "  test_predict = torch.cat(test_predict, dim=0)\n",
        "  test_acc = (torch.argmax(test_predict, dim=1) == test_label).sum().item()/len(test_label)\n",
        "\n",
        "print(f\"Test accuracy: {test_acc}\")"
      ]
    },
    {
      "cell_type": "code",
      "execution_count": 14,
      "id": "vsTDEJ92P6Pa",
      "metadata": {
        "colab": {
          "base_uri": "https://localhost:8080/"
        },
        "id": "vsTDEJ92P6Pa",
        "outputId": "10dcc794-96a1-4fde-c27c-b50ecd53a4be"
      },
      "outputs": [
        {
          "output_type": "stream",
          "name": "stdout",
          "text": [
            "Validation accuracy: 0.8780\n"
          ]
        }
      ],
      "source": [
        "val_label = []\n",
        "val_predict = []\n",
        "\n",
        "model.eval()\n",
        "with torch.no_grad():\n",
        "  for X_val, y_val in val_loader:\n",
        "    X_val, y_val = X_val.to(device), y_val.to(device)\n",
        "\n",
        "    output = model(X_val)\n",
        "\n",
        "    # transfer to CP, currently it is tensor\n",
        "    val_label.append(y_val.cpu())\n",
        "    val_predict.append(output.cpu())\n",
        "\n",
        "  val_label = torch.cat(val_label, dim=0)\n",
        "  val_predict = torch.cat(val_predict, dim=0)\n",
        "  val_acc = (torch.argmax(val_predict, dim=1) == val_label).sum().item()/len(val_label)\n",
        "\n",
        "print(f\"Validation accuracy: {val_acc:.4f}\")"
      ]
    }
  ],
  "metadata": {
    "accelerator": "GPU",
    "colab": {
      "gpuType": "T4",
      "provenance": [],
      "include_colab_link": true
    },
    "kernelspec": {
      "display_name": "Python 3",
      "name": "python3"
    },
    "language_info": {
      "codemirror_mode": {
        "name": "ipython",
        "version": 3
      },
      "file_extension": ".py",
      "mimetype": "text/x-python",
      "name": "python",
      "nbconvert_exporter": "python",
      "pygments_lexer": "ipython3",
      "version": "3.10.13"
    },
    "toc": {
      "base_numbering": 1,
      "nav_menu": {},
      "number_sections": true,
      "sideBar": true,
      "skip_h1_title": false,
      "title_cell": "Table of Contents",
      "title_sidebar": "Contents",
      "toc_cell": false,
      "toc_position": {},
      "toc_section_display": true,
      "toc_window_display": true
    }
  },
  "nbformat": 4,
  "nbformat_minor": 5
}