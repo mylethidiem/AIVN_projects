{
  "cells": [
    {
      "cell_type": "markdown",
      "metadata": {
        "id": "view-in-github",
        "colab_type": "text"
      },
      "source": [
        "<a href=\"https://colab.research.google.com/github/mylethidiem/artificial-intelligence-projects/blob/main/Architecture%20Project%20Gradient%20Vanishing%20in%20MLP/3_BetterOptimizer.ipynb\" target=\"_parent\"><img src=\"https://colab.research.google.com/assets/colab-badge.svg\" alt=\"Open In Colab\"/></a>"
      ]
    },
    {
      "cell_type": "markdown",
      "id": "HItsinp0SFqA",
      "metadata": {
        "id": "HItsinp0SFqA"
      },
      "source": [
        "## **0. Import libraries**"
      ]
    },
    {
      "cell_type": "code",
      "execution_count": 1,
      "id": "bb96f0ec-3525-4e79-9ad1-8e95c15a9cf2",
      "metadata": {
        "id": "bb96f0ec-3525-4e79-9ad1-8e95c15a9cf2"
      },
      "outputs": [],
      "source": [
        "import random\n",
        "import matplotlib.pyplot as plt\n",
        "import numpy as np\n",
        "\n",
        "import torch\n",
        "import torch.optim as optim\n",
        "import torchvision\n",
        "import torchvision.transforms as transforms\n",
        "\n",
        "from torch import nn\n",
        "from torch.utils.data import Dataset, DataLoader, random_split\n",
        "from torchvision.datasets import FashionMNIST"
      ]
    },
    {
      "cell_type": "code",
      "execution_count": 4,
      "id": "P3ehfc2p0vqq",
      "metadata": {
        "id": "P3ehfc2p0vqq",
        "outputId": "7df00bd4-9b2c-43e5-dd54-51c0b65f4919",
        "colab": {
          "base_uri": "https://localhost:8080/"
        }
      },
      "outputs": [
        {
          "output_type": "stream",
          "name": "stdout",
          "text": [
            "cuda\n"
          ]
        }
      ],
      "source": [
        "device = torch.device(\"cuda\" if torch.cuda.is_available() else \"cpu\")\n",
        "print(device)\n",
        "\n",
        "def set_seed(seed):\n",
        "  random.seed(seed)\n",
        "  np.random.seed(seed)\n",
        "  torch.manual_seed(seed)\n",
        "  if torch.cuda.is_available():\n",
        "    torch.cuda.manual_seed(seed)\n",
        "    torch.cuda.manual_seed_all(seed)\n",
        "  torch.backends.cudnn.benchmark = False\n",
        "  torch.backends.cudnn.deterministic = True\n",
        "\n",
        "SEED = 42\n",
        "set_seed(SEED)"
      ]
    },
    {
      "cell_type": "markdown",
      "id": "Mw6hLiNAugrD",
      "metadata": {
        "id": "Mw6hLiNAugrD"
      },
      "source": [
        "## **1. Prepare dataset**\n"
      ]
    },
    {
      "cell_type": "code",
      "execution_count": 5,
      "id": "c73f1e96-b8ea-4b8f-b4f3-9b3f27b42acd",
      "metadata": {
        "id": "c73f1e96-b8ea-4b8f-b4f3-9b3f27b42acd",
        "outputId": "17f8d99e-58f8-40ae-b64c-31e4d93fce15",
        "colab": {
          "base_uri": "https://localhost:8080/"
        }
      },
      "outputs": [
        {
          "output_type": "stream",
          "name": "stdout",
          "text": [
            "Downloading http://fashion-mnist.s3-website.eu-central-1.amazonaws.com/train-images-idx3-ubyte.gz\n",
            "Downloading http://fashion-mnist.s3-website.eu-central-1.amazonaws.com/train-images-idx3-ubyte.gz to ./data/FashionMNIST/raw/train-images-idx3-ubyte.gz\n"
          ]
        },
        {
          "output_type": "stream",
          "name": "stderr",
          "text": [
            "100%|██████████| 26.4M/26.4M [00:01<00:00, 14.4MB/s]\n"
          ]
        },
        {
          "output_type": "stream",
          "name": "stdout",
          "text": [
            "Extracting ./data/FashionMNIST/raw/train-images-idx3-ubyte.gz to ./data/FashionMNIST/raw\n",
            "\n",
            "Downloading http://fashion-mnist.s3-website.eu-central-1.amazonaws.com/train-labels-idx1-ubyte.gz\n",
            "Downloading http://fashion-mnist.s3-website.eu-central-1.amazonaws.com/train-labels-idx1-ubyte.gz to ./data/FashionMNIST/raw/train-labels-idx1-ubyte.gz\n"
          ]
        },
        {
          "output_type": "stream",
          "name": "stderr",
          "text": [
            "100%|██████████| 29.5k/29.5k [00:00<00:00, 209kB/s]\n"
          ]
        },
        {
          "output_type": "stream",
          "name": "stdout",
          "text": [
            "Extracting ./data/FashionMNIST/raw/train-labels-idx1-ubyte.gz to ./data/FashionMNIST/raw\n",
            "\n",
            "Downloading http://fashion-mnist.s3-website.eu-central-1.amazonaws.com/t10k-images-idx3-ubyte.gz\n",
            "Downloading http://fashion-mnist.s3-website.eu-central-1.amazonaws.com/t10k-images-idx3-ubyte.gz to ./data/FashionMNIST/raw/t10k-images-idx3-ubyte.gz\n"
          ]
        },
        {
          "output_type": "stream",
          "name": "stderr",
          "text": [
            "100%|██████████| 4.42M/4.42M [00:01<00:00, 3.93MB/s]\n"
          ]
        },
        {
          "output_type": "stream",
          "name": "stdout",
          "text": [
            "Extracting ./data/FashionMNIST/raw/t10k-images-idx3-ubyte.gz to ./data/FashionMNIST/raw\n",
            "\n",
            "Downloading http://fashion-mnist.s3-website.eu-central-1.amazonaws.com/t10k-labels-idx1-ubyte.gz\n",
            "Downloading http://fashion-mnist.s3-website.eu-central-1.amazonaws.com/t10k-labels-idx1-ubyte.gz to ./data/FashionMNIST/raw/t10k-labels-idx1-ubyte.gz\n"
          ]
        },
        {
          "output_type": "stream",
          "name": "stderr",
          "text": [
            "100%|██████████| 5.15k/5.15k [00:00<00:00, 6.13MB/s]"
          ]
        },
        {
          "output_type": "stream",
          "name": "stdout",
          "text": [
            "Extracting ./data/FashionMNIST/raw/t10k-labels-idx1-ubyte.gz to ./data/FashionMNIST/raw\n",
            "\n"
          ]
        },
        {
          "output_type": "stream",
          "name": "stderr",
          "text": [
            "\n"
          ]
        }
      ],
      "source": [
        "train_dataset = FashionMNIST(root=\"./data\",\n",
        "                             train=True,\n",
        "                             download=True,\n",
        "                             transform=transforms.ToTensor())\n",
        "test_dataset = FashionMNIST(root='./data',\n",
        "                            train=False,\n",
        "                            download=True,\n",
        "                            transform=transforms.ToTensor())"
      ]
    },
    {
      "cell_type": "code",
      "source": [
        "train_ratio = 0.9\n",
        "train_size = int(train_ratio * len(train_dataset))\n",
        "val_size = len(train_dataset) - train_size\n",
        "\n",
        "train_subset, val_subset = random_split(train_dataset, [train_size, val_size])\n",
        "\n",
        "batch_size = 512\n",
        "train_loader = DataLoader(train_subset, batch_size=batch_size, shuffle=True)\n",
        "val_loader = DataLoader(val_subset, batch_size=batch_size, shuffle=False)\n",
        "test_loader = DataLoader(test_dataset, batch_size=batch_size, shuffle=False)\n",
        "\n",
        "print(f\"Train size: {len(train_subset)}\")\n",
        "print(f\"Validation size: {len(val_subset)}\")\n",
        "print(f\"Test size: {len(test_dataset)}\")"
      ],
      "metadata": {
        "id": "uayWLkP6X1u9",
        "outputId": "e1060bff-23eb-4131-c157-abfa80562a14",
        "colab": {
          "base_uri": "https://localhost:8080/"
        }
      },
      "id": "uayWLkP6X1u9",
      "execution_count": 7,
      "outputs": [
        {
          "output_type": "stream",
          "name": "stdout",
          "text": [
            "Train size: 54000\n",
            "Validation size: 6000\n",
            "Test size: 10000\n"
          ]
        }
      ]
    },
    {
      "cell_type": "markdown",
      "id": "75eeaa46",
      "metadata": {
        "id": "75eeaa46"
      },
      "source": [
        "## **2. Build MLP network with `Better Optimizer `**\n",
        "\n",
        "\n"
      ]
    },
    {
      "cell_type": "code",
      "execution_count": 9,
      "id": "589bb0df",
      "metadata": {
        "id": "589bb0df"
      },
      "outputs": [],
      "source": [
        "class MLP(nn.Module):\n",
        "  def __init__(self, input_dims, hidden_dims, output_dims):\n",
        "    super(MLP, self).__init__()\n",
        "    self.layer1 = nn.Linear(input_dims, hidden_dims)\n",
        "    self.layer2 = nn.Linear(hidden_dims, hidden_dims)\n",
        "    self.layer3 = nn.Linear(hidden_dims, hidden_dims)\n",
        "    self.layer4 = nn.Linear(hidden_dims, hidden_dims)\n",
        "    self.layer5 = nn.Linear(hidden_dims, hidden_dims)\n",
        "    self.layer6 = nn.Linear(hidden_dims, hidden_dims)\n",
        "    self.layer7 = nn.Linear(hidden_dims, hidden_dims)\n",
        "    self.output = nn.Linear(hidden_dims, output_dims)\n",
        "\n",
        "    for m in self.modules():\n",
        "      if isinstance(m, nn.Linear):\n",
        "        nn.init.normal_(m.weight, mean=0.0, std=0.05)\n",
        "        nn.init.constant_(m.bias, val=0.0)\n",
        "\n",
        "  def forward(self, x):\n",
        "    x = nn.Flatten()(x)\n",
        "    x = self.layer1(x)\n",
        "    x = nn.Sigmoid()(x)\n",
        "    x = self.layer2(x)\n",
        "    x = nn.Sigmoid()(x)\n",
        "    x = self.layer3(x)\n",
        "    x = nn.Sigmoid()(x)\n",
        "    x = self.layer4(x)\n",
        "    x = nn.Sigmoid()(x)\n",
        "    x = self.layer5(x)\n",
        "    x = nn.Sigmoid()(x)\n",
        "    x = self.layer6(x)\n",
        "    x = nn.Sigmoid()(x)\n",
        "    x = self.layer7(x)\n",
        "    x = nn.Sigmoid()(x)\n",
        "    output = self.output(x)\n",
        "    return output"
      ]
    },
    {
      "cell_type": "code",
      "execution_count": 12,
      "id": "0db5beca-ee90-4d2e-bb2f-62b20da68cf3",
      "metadata": {
        "id": "0db5beca-ee90-4d2e-bb2f-62b20da68cf3"
      },
      "outputs": [],
      "source": [
        "input_dims = 784\n",
        "hidden_dims = 128\n",
        "output_dims = 10\n",
        "\n",
        "model = MLP(input_dims, hidden_dims, output_dims).to(device)\n",
        "criterion = nn.CrossEntropyLoss()\n",
        "lr = 1e-3\n",
        "optimizer = torch.optim.Adam(model.parameters(), lr)"
      ]
    },
    {
      "cell_type": "markdown",
      "id": "lBS7q-JzwFgC",
      "metadata": {
        "id": "lBS7q-JzwFgC"
      },
      "source": [
        "## **3. Training**"
      ]
    },
    {
      "cell_type": "code",
      "execution_count": 14,
      "id": "21211483-aeed-4beb-aeea-d1e58ae7baf9",
      "metadata": {
        "id": "21211483-aeed-4beb-aeea-d1e58ae7baf9",
        "outputId": "6ed1d603-df92-472e-a19d-be4b11a077cf",
        "colab": {
          "base_uri": "https://localhost:8080/"
        }
      },
      "outputs": [
        {
          "output_type": "stream",
          "name": "stdout",
          "text": [
            "EPOCH 1/100, Train_Loss: 1.7031,Train_Acc: 0.1976, Validation Loss: 1.7011 , Val_Acc:0.1928\n",
            "EPOCH 2/100, Train_Loss: 1.6874,Train_Acc: 0.1980, Validation Loss: 1.6955 , Val_Acc:0.1925\n",
            "EPOCH 3/100, Train_Loss: 1.6800,Train_Acc: 0.1970, Validation Loss: 1.6982 , Val_Acc:0.1927\n",
            "EPOCH 4/100, Train_Loss: 1.6682,Train_Acc: 0.2104, Validation Loss: 1.6094 , Val_Acc:0.2887\n",
            "EPOCH 5/100, Train_Loss: 1.4834,Train_Acc: 0.3097, Validation Loss: 1.4348 , Val_Acc:0.3373\n",
            "EPOCH 6/100, Train_Loss: 1.1622,Train_Acc: 0.5061, Validation Loss: 0.9934 , Val_Acc:0.5607\n",
            "EPOCH 7/100, Train_Loss: 0.9129,Train_Acc: 0.6259, Validation Loss: 0.8412 , Val_Acc:0.7017\n",
            "EPOCH 8/100, Train_Loss: 0.7809,Train_Acc: 0.7164, Validation Loss: 0.7519 , Val_Acc:0.7312\n",
            "EPOCH 9/100, Train_Loss: 0.6982,Train_Acc: 0.7533, Validation Loss: 0.6713 , Val_Acc:0.7713\n",
            "EPOCH 10/100, Train_Loss: 0.6438,Train_Acc: 0.7770, Validation Loss: 0.6345 , Val_Acc:0.7858\n",
            "EPOCH 11/100, Train_Loss: 0.6152,Train_Acc: 0.7846, Validation Loss: 0.6188 , Val_Acc:0.7885\n",
            "EPOCH 12/100, Train_Loss: 0.5847,Train_Acc: 0.7957, Validation Loss: 0.6091 , Val_Acc:0.7905\n",
            "EPOCH 13/100, Train_Loss: 0.5639,Train_Acc: 0.8026, Validation Loss: 0.5999 , Val_Acc:0.7933\n",
            "EPOCH 14/100, Train_Loss: 0.5490,Train_Acc: 0.8082, Validation Loss: 0.5678 , Val_Acc:0.8057\n",
            "EPOCH 15/100, Train_Loss: 0.5354,Train_Acc: 0.8126, Validation Loss: 0.5597 , Val_Acc:0.8075\n",
            "EPOCH 16/100, Train_Loss: 0.5203,Train_Acc: 0.8179, Validation Loss: 0.5625 , Val_Acc:0.8077\n",
            "EPOCH 17/100, Train_Loss: 0.5062,Train_Acc: 0.8236, Validation Loss: 0.5519 , Val_Acc:0.8180\n",
            "EPOCH 18/100, Train_Loss: 0.5060,Train_Acc: 0.8229, Validation Loss: 0.5449 , Val_Acc:0.8138\n",
            "EPOCH 19/100, Train_Loss: 0.4904,Train_Acc: 0.8301, Validation Loss: 0.5384 , Val_Acc:0.8252\n",
            "EPOCH 20/100, Train_Loss: 0.4824,Train_Acc: 0.8370, Validation Loss: 0.5324 , Val_Acc:0.8262\n",
            "EPOCH 21/100, Train_Loss: 0.4753,Train_Acc: 0.8390, Validation Loss: 0.5238 , Val_Acc:0.8328\n",
            "EPOCH 22/100, Train_Loss: 0.4573,Train_Acc: 0.8494, Validation Loss: 0.5130 , Val_Acc:0.8355\n",
            "EPOCH 23/100, Train_Loss: 0.4498,Train_Acc: 0.8541, Validation Loss: 0.5143 , Val_Acc:0.8328\n",
            "EPOCH 24/100, Train_Loss: 0.4492,Train_Acc: 0.8526, Validation Loss: 0.5141 , Val_Acc:0.8347\n",
            "EPOCH 25/100, Train_Loss: 0.4380,Train_Acc: 0.8562, Validation Loss: 0.4993 , Val_Acc:0.8420\n",
            "EPOCH 26/100, Train_Loss: 0.4322,Train_Acc: 0.8588, Validation Loss: 0.5055 , Val_Acc:0.8350\n",
            "EPOCH 27/100, Train_Loss: 0.4253,Train_Acc: 0.8634, Validation Loss: 0.5142 , Val_Acc:0.8358\n",
            "EPOCH 28/100, Train_Loss: 0.4175,Train_Acc: 0.8670, Validation Loss: 0.4918 , Val_Acc:0.8427\n",
            "EPOCH 29/100, Train_Loss: 0.4155,Train_Acc: 0.8664, Validation Loss: 0.4879 , Val_Acc:0.8410\n",
            "EPOCH 30/100, Train_Loss: 0.4023,Train_Acc: 0.8722, Validation Loss: 0.4865 , Val_Acc:0.8487\n",
            "EPOCH 31/100, Train_Loss: 0.4043,Train_Acc: 0.8702, Validation Loss: 0.4774 , Val_Acc:0.8487\n",
            "EPOCH 32/100, Train_Loss: 0.3887,Train_Acc: 0.8772, Validation Loss: 0.4764 , Val_Acc:0.8482\n",
            "EPOCH 33/100, Train_Loss: 0.3821,Train_Acc: 0.8778, Validation Loss: 0.4622 , Val_Acc:0.8498\n",
            "EPOCH 34/100, Train_Loss: 0.3742,Train_Acc: 0.8798, Validation Loss: 0.4610 , Val_Acc:0.8487\n",
            "EPOCH 35/100, Train_Loss: 0.3649,Train_Acc: 0.8827, Validation Loss: 0.4572 , Val_Acc:0.8523\n",
            "EPOCH 36/100, Train_Loss: 0.3637,Train_Acc: 0.8832, Validation Loss: 0.4541 , Val_Acc:0.8523\n",
            "EPOCH 37/100, Train_Loss: 0.3570,Train_Acc: 0.8861, Validation Loss: 0.4525 , Val_Acc:0.8563\n",
            "EPOCH 38/100, Train_Loss: 0.3484,Train_Acc: 0.8894, Validation Loss: 0.4575 , Val_Acc:0.8508\n",
            "EPOCH 39/100, Train_Loss: 0.3472,Train_Acc: 0.8879, Validation Loss: 0.4590 , Val_Acc:0.8522\n",
            "EPOCH 40/100, Train_Loss: 0.3361,Train_Acc: 0.8923, Validation Loss: 0.4429 , Val_Acc:0.8585\n",
            "EPOCH 41/100, Train_Loss: 0.3328,Train_Acc: 0.8932, Validation Loss: 0.4417 , Val_Acc:0.8610\n",
            "EPOCH 42/100, Train_Loss: 0.3245,Train_Acc: 0.8963, Validation Loss: 0.4396 , Val_Acc:0.8603\n",
            "EPOCH 43/100, Train_Loss: 0.3215,Train_Acc: 0.8966, Validation Loss: 0.4251 , Val_Acc:0.8688\n",
            "EPOCH 44/100, Train_Loss: 0.3158,Train_Acc: 0.8994, Validation Loss: 0.4274 , Val_Acc:0.8675\n",
            "EPOCH 45/100, Train_Loss: 0.3090,Train_Acc: 0.9020, Validation Loss: 0.4246 , Val_Acc:0.8648\n",
            "EPOCH 46/100, Train_Loss: 0.3086,Train_Acc: 0.9011, Validation Loss: 0.4341 , Val_Acc:0.8660\n",
            "EPOCH 47/100, Train_Loss: 0.2969,Train_Acc: 0.9055, Validation Loss: 0.4182 , Val_Acc:0.8722\n",
            "EPOCH 48/100, Train_Loss: 0.2940,Train_Acc: 0.9060, Validation Loss: 0.4225 , Val_Acc:0.8705\n",
            "EPOCH 49/100, Train_Loss: 0.2969,Train_Acc: 0.9038, Validation Loss: 0.4479 , Val_Acc:0.8600\n",
            "EPOCH 50/100, Train_Loss: 0.2932,Train_Acc: 0.9057, Validation Loss: 0.4192 , Val_Acc:0.8735\n",
            "EPOCH 51/100, Train_Loss: 0.2818,Train_Acc: 0.9093, Validation Loss: 0.4274 , Val_Acc:0.8678\n",
            "EPOCH 52/100, Train_Loss: 0.2841,Train_Acc: 0.9088, Validation Loss: 0.4131 , Val_Acc:0.8708\n",
            "EPOCH 53/100, Train_Loss: 0.2783,Train_Acc: 0.9113, Validation Loss: 0.4205 , Val_Acc:0.8683\n",
            "EPOCH 54/100, Train_Loss: 0.2750,Train_Acc: 0.9125, Validation Loss: 0.4134 , Val_Acc:0.8703\n",
            "EPOCH 55/100, Train_Loss: 0.2716,Train_Acc: 0.9140, Validation Loss: 0.4147 , Val_Acc:0.8695\n",
            "EPOCH 56/100, Train_Loss: 0.2662,Train_Acc: 0.9153, Validation Loss: 0.4081 , Val_Acc:0.8733\n",
            "EPOCH 57/100, Train_Loss: 0.2606,Train_Acc: 0.9173, Validation Loss: 0.4310 , Val_Acc:0.8715\n",
            "EPOCH 58/100, Train_Loss: 0.2585,Train_Acc: 0.9173, Validation Loss: 0.4070 , Val_Acc:0.8757\n",
            "EPOCH 59/100, Train_Loss: 0.2514,Train_Acc: 0.9199, Validation Loss: 0.4170 , Val_Acc:0.8733\n",
            "EPOCH 60/100, Train_Loss: 0.2503,Train_Acc: 0.9203, Validation Loss: 0.4230 , Val_Acc:0.8710\n",
            "EPOCH 61/100, Train_Loss: 0.2569,Train_Acc: 0.9168, Validation Loss: 0.4148 , Val_Acc:0.8730\n",
            "EPOCH 62/100, Train_Loss: 0.2526,Train_Acc: 0.9186, Validation Loss: 0.4267 , Val_Acc:0.8692\n",
            "EPOCH 63/100, Train_Loss: 0.2438,Train_Acc: 0.9233, Validation Loss: 0.4069 , Val_Acc:0.8760\n",
            "EPOCH 64/100, Train_Loss: 0.2430,Train_Acc: 0.9233, Validation Loss: 0.4111 , Val_Acc:0.8730\n",
            "EPOCH 65/100, Train_Loss: 0.2460,Train_Acc: 0.9206, Validation Loss: 0.4239 , Val_Acc:0.8717\n",
            "EPOCH 66/100, Train_Loss: 0.2425,Train_Acc: 0.9224, Validation Loss: 0.4081 , Val_Acc:0.8760\n",
            "EPOCH 67/100, Train_Loss: 0.2417,Train_Acc: 0.9220, Validation Loss: 0.4215 , Val_Acc:0.8745\n",
            "EPOCH 68/100, Train_Loss: 0.2319,Train_Acc: 0.9267, Validation Loss: 0.4051 , Val_Acc:0.8742\n",
            "EPOCH 69/100, Train_Loss: 0.2318,Train_Acc: 0.9253, Validation Loss: 0.4193 , Val_Acc:0.8730\n",
            "EPOCH 70/100, Train_Loss: 0.2295,Train_Acc: 0.9267, Validation Loss: 0.4348 , Val_Acc:0.8710\n",
            "EPOCH 71/100, Train_Loss: 0.2325,Train_Acc: 0.9258, Validation Loss: 0.4188 , Val_Acc:0.8728\n",
            "EPOCH 72/100, Train_Loss: 0.2254,Train_Acc: 0.9291, Validation Loss: 0.4148 , Val_Acc:0.8743\n",
            "EPOCH 73/100, Train_Loss: 0.2217,Train_Acc: 0.9298, Validation Loss: 0.4471 , Val_Acc:0.8665\n",
            "EPOCH 74/100, Train_Loss: 0.2179,Train_Acc: 0.9320, Validation Loss: 0.4214 , Val_Acc:0.8745\n",
            "EPOCH 75/100, Train_Loss: 0.2204,Train_Acc: 0.9304, Validation Loss: 0.4223 , Val_Acc:0.8725\n",
            "EPOCH 76/100, Train_Loss: 0.2154,Train_Acc: 0.9323, Validation Loss: 0.4479 , Val_Acc:0.8633\n",
            "EPOCH 77/100, Train_Loss: 0.2108,Train_Acc: 0.9332, Validation Loss: 0.4248 , Val_Acc:0.8725\n",
            "EPOCH 78/100, Train_Loss: 0.2155,Train_Acc: 0.9314, Validation Loss: 0.4320 , Val_Acc:0.8693\n",
            "EPOCH 79/100, Train_Loss: 0.2118,Train_Acc: 0.9326, Validation Loss: 0.4207 , Val_Acc:0.8738\n",
            "EPOCH 80/100, Train_Loss: 0.2131,Train_Acc: 0.9318, Validation Loss: 0.4269 , Val_Acc:0.8713\n",
            "EPOCH 81/100, Train_Loss: 0.2058,Train_Acc: 0.9353, Validation Loss: 0.4212 , Val_Acc:0.8763\n",
            "EPOCH 82/100, Train_Loss: 0.2039,Train_Acc: 0.9359, Validation Loss: 0.4204 , Val_Acc:0.8745\n",
            "EPOCH 83/100, Train_Loss: 0.2007,Train_Acc: 0.9372, Validation Loss: 0.4500 , Val_Acc:0.8717\n",
            "EPOCH 84/100, Train_Loss: 0.2054,Train_Acc: 0.9358, Validation Loss: 0.4318 , Val_Acc:0.8745\n",
            "EPOCH 85/100, Train_Loss: 0.2095,Train_Acc: 0.9335, Validation Loss: 0.4485 , Val_Acc:0.8708\n",
            "EPOCH 86/100, Train_Loss: 0.2031,Train_Acc: 0.9362, Validation Loss: 0.4286 , Val_Acc:0.8755\n",
            "EPOCH 87/100, Train_Loss: 0.1962,Train_Acc: 0.9382, Validation Loss: 0.4597 , Val_Acc:0.8683\n",
            "EPOCH 88/100, Train_Loss: 0.1947,Train_Acc: 0.9393, Validation Loss: 0.4505 , Val_Acc:0.8700\n",
            "EPOCH 89/100, Train_Loss: 0.1922,Train_Acc: 0.9396, Validation Loss: 0.4293 , Val_Acc:0.8733\n",
            "EPOCH 90/100, Train_Loss: 0.1929,Train_Acc: 0.9400, Validation Loss: 0.4317 , Val_Acc:0.8727\n",
            "EPOCH 91/100, Train_Loss: 0.1864,Train_Acc: 0.9416, Validation Loss: 0.4592 , Val_Acc:0.8660\n",
            "EPOCH 92/100, Train_Loss: 0.1924,Train_Acc: 0.9396, Validation Loss: 0.4614 , Val_Acc:0.8648\n",
            "EPOCH 93/100, Train_Loss: 0.1852,Train_Acc: 0.9427, Validation Loss: 0.4430 , Val_Acc:0.8733\n",
            "EPOCH 94/100, Train_Loss: 0.1814,Train_Acc: 0.9438, Validation Loss: 0.4396 , Val_Acc:0.8735\n",
            "EPOCH 95/100, Train_Loss: 0.1862,Train_Acc: 0.9420, Validation Loss: 0.4613 , Val_Acc:0.8698\n",
            "EPOCH 96/100, Train_Loss: 0.1809,Train_Acc: 0.9434, Validation Loss: 0.4420 , Val_Acc:0.8723\n",
            "EPOCH 97/100, Train_Loss: 0.1759,Train_Acc: 0.9455, Validation Loss: 0.4408 , Val_Acc:0.8725\n",
            "EPOCH 98/100, Train_Loss: 0.1794,Train_Acc: 0.9447, Validation Loss: 0.4856 , Val_Acc:0.8623\n",
            "EPOCH 99/100, Train_Loss: 0.1786,Train_Acc: 0.9443, Validation Loss: 0.4506 , Val_Acc:0.8700\n",
            "EPOCH 100/100, Train_Loss: 0.1776,Train_Acc: 0.9447, Validation Loss: 0.4911 , Val_Acc:0.8588\n"
          ]
        }
      ],
      "source": [
        "epochs = 100\n",
        "train_loss_list = []\n",
        "train_acc_list = []\n",
        "val_loss_list = []\n",
        "val_acc_list = []\n",
        "\n",
        "for epoch in range(epochs):\n",
        "  # train\n",
        "  train_loss = 0.0\n",
        "  train_acc = 0.0\n",
        "  num_sample = 0\n",
        "\n",
        "  model.train()\n",
        "  for X_train, y_train in train_loader:\n",
        "    X_train, y_train = X_train.to(device), y_train.to(device)\n",
        "\n",
        "    #reset\n",
        "    optimizer.zero_grad()\n",
        "\n",
        "    #output\n",
        "    output = model(X_train)\n",
        "\n",
        "    loss = criterion(output, y_train)\n",
        "\n",
        "    # gradient\n",
        "    loss.backward()\n",
        "    # update weight, bias\n",
        "    optimizer.step()\n",
        "\n",
        "    # cumulative\n",
        "    train_loss += loss.item()\n",
        "    train_acc += (torch.argmax(output, dim=1) == y_train).sum().item()\n",
        "    num_sample += len(y_train)\n",
        "  train_loss /= len(train_loader)\n",
        "  train_acc /= num_sample\n",
        "  train_acc_list.append(train_acc)\n",
        "  train_loss_list.append(train_loss)\n",
        "\n",
        "  # validation\n",
        "  val_loss = 0.0\n",
        "  val_acc = 0.0\n",
        "  num_sample = 0\n",
        "\n",
        "  model.eval()\n",
        "  with torch.no_grad():\n",
        "    for X_val, y_val in val_loader:\n",
        "      X_val, y_val = X_val.to(device), y_val.to(device)\n",
        "\n",
        "      output = model(X_val)\n",
        "\n",
        "      loss = criterion(output, y_val)\n",
        "\n",
        "      #cumulative\n",
        "      val_loss += loss.item()\n",
        "      val_acc += (torch.argmax(output, 1) == y_val).sum().item()\n",
        "      num_sample += len(y_val)\n",
        "\n",
        "  val_loss /= len(val_loader)\n",
        "  val_acc /= num_sample\n",
        "  val_loss_list.append(val_loss)\n",
        "  val_acc_list.append(val_acc)\n",
        "\n",
        "  print(f\"EPOCH {epoch+1}/{epochs}, Train_Loss: {train_loss:.4f},Train_Acc: {train_acc:.4f}, Validation Loss: {val_loss:.4f} , Val_Acc:{val_acc:.4f}\")"
      ]
    },
    {
      "cell_type": "code",
      "execution_count": 16,
      "id": "321d7070-b736-4ebb-94fa-59cd37ff50b3",
      "metadata": {
        "id": "321d7070-b736-4ebb-94fa-59cd37ff50b3",
        "outputId": "84e899da-315c-4399-ffc7-4184e9a8f0a3",
        "colab": {
          "base_uri": "https://localhost:8080/",
          "height": 872
        }
      },
      "outputs": [
        {
          "output_type": "display_data",
          "data": {
            "text/plain": [
              "<Figure size 1200x1000 with 4 Axes>"
            ],
            "image/png": "[encoded data removed]"
          },
          "metadata": {}
        }
      ],
      "source": [
        "fig, ax = plt.subplots(2,2,figsize=(12,10))\n",
        "ax[0,0].plot(train_loss_list, color='green')\n",
        "ax[0,0].set(title='Training Loss', xlabel='Epoch', ylabel='Loss')\n",
        "\n",
        "ax[0,1].plot(val_loss_list, color='orange')\n",
        "ax[0,1].set(title='Validation Loss', xlabel='Epoch', ylabel='Loss')\n",
        "\n",
        "ax[1,0].plot(train_acc_list, color='green')\n",
        "ax[1,0].set(title='Training Accuracy', xlabel='Epoch', ylabel='Loss')\n",
        "\n",
        "ax[1,1].plot(val_acc_list, color='orange')\n",
        "ax[1,1].set(title='Validation Accuracy', xlabel='Epoch', ylabel='Loss')\n",
        "\n",
        "plt.show()"
      ]
    },
    {
      "cell_type": "markdown",
      "id": "CY9OpDyiPL2V",
      "metadata": {
        "id": "CY9OpDyiPL2V"
      },
      "source": [
        "## **4. Evaluation**"
      ]
    },
    {
      "cell_type": "code",
      "execution_count": 18,
      "id": "VC8cygPWPKy6",
      "metadata": {
        "id": "VC8cygPWPKy6",
        "outputId": "4b53a890-a2b6-4a87-9898-ca1a098d2b06",
        "colab": {
          "base_uri": "https://localhost:8080/"
        }
      },
      "outputs": [
        {
          "output_type": "stream",
          "name": "stdout",
          "text": [
            "Test accuracy: 0.8532\n"
          ]
        }
      ],
      "source": [
        "test_label = []\n",
        "test_predict = []\n",
        "\n",
        "model.eval()\n",
        "with torch.no_grad():\n",
        "  for X_test, y_test in test_loader:\n",
        "    X_test, y_test = X_test.to(device), y_test.to(device)\n",
        "\n",
        "    output = model(X_test)\n",
        "\n",
        "    # transfer to CP, currently it is tensor\n",
        "    test_label.append(y_test.cpu())\n",
        "    test_predict.append(output.cpu())\n",
        "\n",
        "  test_label = torch.cat(test_label, dim=0)\n",
        "  test_predict = torch.cat(test_predict, dim=0)\n",
        "  test_acc = (torch.argmax(test_predict, dim=1) == test_label).sum().item()/len(test_label)\n",
        "\n",
        "print(f\"Test accuracy: {test_acc}\")"
      ]
    },
    {
      "cell_type": "code",
      "execution_count": 22,
      "id": "vsTDEJ92P6Pa",
      "metadata": {
        "id": "vsTDEJ92P6Pa",
        "outputId": "dbaf150e-b8d4-4ed6-bcfc-6bfd3e674baf",
        "colab": {
          "base_uri": "https://localhost:8080/"
        }
      },
      "outputs": [
        {
          "output_type": "stream",
          "name": "stdout",
          "text": [
            "Validation accuracy: 0.8588\n"
          ]
        }
      ],
      "source": [
        "val_label = []\n",
        "val_predict = []\n",
        "\n",
        "model.eval()\n",
        "with torch.no_grad():\n",
        "  for X_val, y_val in val_loader:\n",
        "    X_val, y_val = X_val.to(device), y_val.to(device)\n",
        "\n",
        "    output = model(X_val)\n",
        "\n",
        "    # transfer to CP, currently it is tensor\n",
        "    val_label.append(y_val.cpu())\n",
        "    val_predict.append(output.cpu())\n",
        "\n",
        "  val_label = torch.cat(val_label, dim=0)\n",
        "  val_predict = torch.cat(val_predict, dim=0)\n",
        "  val_acc = (torch.argmax(val_predict, dim=1) == val_label).sum().item()/len(val_label)\n",
        "\n",
        "print(f\"Validation accuracy: {val_acc:.4f}\")"
      ]
    }
  ],
  "metadata": {
    "accelerator": "GPU",
    "colab": {
      "gpuType": "T4",
      "provenance": [],
      "include_colab_link": true
    },
    "kernelspec": {
      "display_name": "Python 3",
      "name": "python3"
    },
    "language_info": {
      "codemirror_mode": {
        "name": "ipython",
        "version": 3
      },
      "file_extension": ".py",
      "mimetype": "text/x-python",
      "name": "python",
      "nbconvert_exporter": "python",
      "pygments_lexer": "ipython3",
      "version": "3.10.13"
    },
    "toc": {
      "base_numbering": 1,
      "nav_menu": {},
      "number_sections": true,
      "sideBar": true,
      "skip_h1_title": false,
      "title_cell": "Table of Contents",
      "title_sidebar": "Contents",
      "toc_cell": false,
      "toc_position": {},
      "toc_section_display": true,
      "toc_window_display": true
    }
  },
  "nbformat": 4,
  "nbformat_minor": 5
}