{
  "cells": [
    {
      "cell_type": "markdown",
      "metadata": {
        "id": "view-in-github",
        "colab_type": "text"
      },
      "source": [
        "<a href=\"https://colab.research.google.com/github/mylethidiem/artificial-intelligence-projects/blob/main/Architecture%20Project%20Gradient%20Vanishing%20in%20MLP/2.1.1_WeightIncreasing.ipynb\" target=\"_parent\"><img src=\"https://colab.research.google.com/assets/colab-badge.svg\" alt=\"Open In Colab\"/></a>"
      ]
    },
    {
      "cell_type": "markdown",
      "id": "HItsinp0SFqA",
      "metadata": {
        "id": "HItsinp0SFqA"
      },
      "source": [
        "## **0. Import libraries**"
      ]
    },
    {
      "cell_type": "code",
      "execution_count": 5,
      "id": "bb96f0ec-3525-4e79-9ad1-8e95c15a9cf2",
      "metadata": {
        "id": "bb96f0ec-3525-4e79-9ad1-8e95c15a9cf2"
      },
      "outputs": [],
      "source": [
        "import random\n",
        "import matplotlib.pyplot as plt\n",
        "import numpy as np\n",
        "\n",
        "import torch\n",
        "import torch.optim as optim\n",
        "import torchvision\n",
        "import torchvision.transforms as transforms\n",
        "\n",
        "from torch import nn\n",
        "from torch.utils.data import DataLoader, Dataset, random_split\n",
        "from torchvision.datasets import FashionMNIST"
      ]
    },
    {
      "cell_type": "code",
      "execution_count": 2,
      "id": "P3ehfc2p0vqq",
      "metadata": {
        "id": "P3ehfc2p0vqq",
        "outputId": "f837f1a4-84e8-4d1a-9a39-d74c1abf2b08",
        "colab": {
          "base_uri": "https://localhost:8080/"
        }
      },
      "outputs": [
        {
          "output_type": "stream",
          "name": "stdout",
          "text": [
            "cuda\n"
          ]
        }
      ],
      "source": [
        "device = torch.device('cuda' if torch.cuda.is_available() else \"cpu\")\n",
        "print(device)\n",
        "\n",
        "def set_seed(seed):\n",
        "  random.seed(seed)\n",
        "  np.random.seed(seed)\n",
        "  torch.manual_seed(seed)\n",
        "  if torch.cuda.is_available():\n",
        "    torch.cuda.manual_seed(seed)\n",
        "    torch.cuda.manual_seed_all(seed)\n",
        "  torch.backends.cudnn.benchmark = False\n",
        "  torch.backends.cudnn.deterministic = True\n",
        "\n",
        "SEED = 42\n",
        "set_seed(SEED)"
      ]
    },
    {
      "cell_type": "markdown",
      "id": "Mw6hLiNAugrD",
      "metadata": {
        "id": "Mw6hLiNAugrD"
      },
      "source": [
        "## **1. Prepare dataset**\n"
      ]
    },
    {
      "cell_type": "code",
      "execution_count": 4,
      "id": "c73f1e96-b8ea-4b8f-b4f3-9b3f27b42acd",
      "metadata": {
        "id": "c73f1e96-b8ea-4b8f-b4f3-9b3f27b42acd",
        "outputId": "ca439dd7-cc69-4720-94aa-90a9ff216140",
        "colab": {
          "base_uri": "https://localhost:8080/"
        }
      },
      "outputs": [
        {
          "output_type": "stream",
          "name": "stdout",
          "text": [
            "Downloading http://fashion-mnist.s3-website.eu-central-1.amazonaws.com/train-images-idx3-ubyte.gz\n",
            "Downloading http://fashion-mnist.s3-website.eu-central-1.amazonaws.com/train-images-idx3-ubyte.gz to ./data/FashionMNIST/raw/train-images-idx3-ubyte.gz\n"
          ]
        },
        {
          "output_type": "stream",
          "name": "stderr",
          "text": [
            "100%|██████████| 26.4M/26.4M [00:02<00:00, 10.4MB/s]\n"
          ]
        },
        {
          "output_type": "stream",
          "name": "stdout",
          "text": [
            "Extracting ./data/FashionMNIST/raw/train-images-idx3-ubyte.gz to ./data/FashionMNIST/raw\n",
            "\n",
            "Downloading http://fashion-mnist.s3-website.eu-central-1.amazonaws.com/train-labels-idx1-ubyte.gz\n",
            "Downloading http://fashion-mnist.s3-website.eu-central-1.amazonaws.com/train-labels-idx1-ubyte.gz to ./data/FashionMNIST/raw/train-labels-idx1-ubyte.gz\n"
          ]
        },
        {
          "output_type": "stream",
          "name": "stderr",
          "text": [
            "100%|██████████| 29.5k/29.5k [00:00<00:00, 170kB/s]\n"
          ]
        },
        {
          "output_type": "stream",
          "name": "stdout",
          "text": [
            "Extracting ./data/FashionMNIST/raw/train-labels-idx1-ubyte.gz to ./data/FashionMNIST/raw\n",
            "\n",
            "Downloading http://fashion-mnist.s3-website.eu-central-1.amazonaws.com/t10k-images-idx3-ubyte.gz\n",
            "Downloading http://fashion-mnist.s3-website.eu-central-1.amazonaws.com/t10k-images-idx3-ubyte.gz to ./data/FashionMNIST/raw/t10k-images-idx3-ubyte.gz\n"
          ]
        },
        {
          "output_type": "stream",
          "name": "stderr",
          "text": [
            "100%|██████████| 4.42M/4.42M [00:01<00:00, 3.20MB/s]\n"
          ]
        },
        {
          "output_type": "stream",
          "name": "stdout",
          "text": [
            "Extracting ./data/FashionMNIST/raw/t10k-images-idx3-ubyte.gz to ./data/FashionMNIST/raw\n",
            "\n",
            "Downloading http://fashion-mnist.s3-website.eu-central-1.amazonaws.com/t10k-labels-idx1-ubyte.gz\n",
            "Downloading http://fashion-mnist.s3-website.eu-central-1.amazonaws.com/t10k-labels-idx1-ubyte.gz to ./data/FashionMNIST/raw/t10k-labels-idx1-ubyte.gz\n"
          ]
        },
        {
          "output_type": "stream",
          "name": "stderr",
          "text": [
            "100%|██████████| 5.15k/5.15k [00:00<00:00, 5.17MB/s]"
          ]
        },
        {
          "output_type": "stream",
          "name": "stdout",
          "text": [
            "Extracting ./data/FashionMNIST/raw/t10k-labels-idx1-ubyte.gz to ./data/FashionMNIST/raw\n",
            "\n"
          ]
        },
        {
          "output_type": "stream",
          "name": "stderr",
          "text": [
            "\n"
          ]
        }
      ],
      "source": [
        "train_dataset = FashionMNIST(root='./data', train=True, download=True, transform=transforms.ToTensor())\n",
        "test_dataset = FashionMNIST(root='./data', train=False, download=True, transform=transforms.ToTensor())"
      ]
    },
    {
      "cell_type": "code",
      "execution_count": 17,
      "id": "589bb0df",
      "metadata": {
        "id": "589bb0df",
        "outputId": "bfe84d74-5bbc-4a11-e895-d141c646e8db",
        "colab": {
          "base_uri": "https://localhost:8080/"
        }
      },
      "outputs": [
        {
          "output_type": "stream",
          "name": "stdout",
          "text": [
            "Train size: 54000\n",
            "Validation size: 6000\n",
            "Test size: 10000\n"
          ]
        }
      ],
      "source": [
        "train_ratio = 0.9\n",
        "train_size = int(train_ratio * len(train_dataset))\n",
        "val_size = len(train_dataset) - train_size\n",
        "\n",
        "train_subset, val_subset = random_split(train_dataset, [train_size, val_size])\n",
        "\n",
        "batch_size = 64\n",
        "train_loader = DataLoader(train_subset, batch_size=batch_size, shuffle=True)\n",
        "val_loader = DataLoader(val_subset, batch_size=batch_size, shuffle=False)\n",
        "test_loader = DataLoader(test_dataset, batch_size=batch_size, shuffle=False)\n",
        "print(f\"Train size: {len(train_subset)}\")\n",
        "print(f\"Validation size: {len(val_subset)}\")\n",
        "print(f\"Test size: {len(test_dataset)}\")"
      ]
    },
    {
      "cell_type": "markdown",
      "id": "75eeaa46",
      "metadata": {
        "id": "75eeaa46"
      },
      "source": [
        "## **2. Build MLP network with `Weight Increasing (std=1.0)`**\n",
        "\n",
        "\n"
      ]
    },
    {
      "cell_type": "code",
      "execution_count": 19,
      "id": "0db5beca-ee90-4d2e-bb2f-62b20da68cf3",
      "metadata": {
        "id": "0db5beca-ee90-4d2e-bb2f-62b20da68cf3"
      },
      "outputs": [],
      "source": [
        "class MLP(nn.Module):\n",
        "  def __init__(self, input_dims, hidden_dims, output_dims):\n",
        "    super(MLP, self).__init__()\n",
        "    self.layer1 = nn.Linear(input_dims, hidden_dims)\n",
        "    self.layer2 = nn.Linear(hidden_dims, hidden_dims)\n",
        "    self.layer3 = nn.Linear(hidden_dims, hidden_dims)\n",
        "    self.layer4 = nn.Linear(hidden_dims, hidden_dims)\n",
        "    self.layer5 = nn.Linear(hidden_dims, hidden_dims)\n",
        "    self.layer6 = nn.Linear(hidden_dims, hidden_dims)\n",
        "    self.layer7 = nn.Linear(hidden_dims, hidden_dims)\n",
        "    self.output = nn.Linear(hidden_dims,output_dims)\n",
        "\n",
        "    # Lặp qua tất cả các module (layer) trong mô hình\n",
        "    for module in self.modules():\n",
        "      # Kiểm tra nếu module là một lớp Linear\n",
        "      if isinstance(module, nn.Linear):\n",
        "        # Khởi tạo trọng số (weight) theo phân phối chuẩn\n",
        "        # với mean=0.0 và độ lệch chuẩn std=1.0\n",
        "        nn.init.normal_(module.weight, mean=0.0, std=1.0)\n",
        "        nn.init.constant_(module.bias, 0.0) # Khởi tạo bias với giá trị hằng số 0.0\n",
        "\n",
        "  def forward(self, x):\n",
        "    x = nn.Flatten()(x)\n",
        "    x = self.layer1(x)\n",
        "    x = nn.Sigmoid()(x)\n",
        "    x = self.layer2(x)\n",
        "    x = nn.Sigmoid()(x)\n",
        "    x = self.layer3(x)\n",
        "    x = nn.Sigmoid()(x)\n",
        "    x = self.layer4(x)\n",
        "    x = nn.Sigmoid()(x)\n",
        "    x = self.layer5(x)\n",
        "    x = nn.Sigmoid()(x)\n",
        "    x = self.layer6(x)\n",
        "    x = nn.Sigmoid()(x)\n",
        "    x = self.layer7(x)\n",
        "    x = nn.Sigmoid()(x)\n",
        "    output = self.output(x)\n",
        "    return output\n",
        "\n"
      ]
    },
    {
      "cell_type": "code",
      "source": [
        "input_dims = 784\n",
        "hidden_dims = 128\n",
        "output_dims = 10\n",
        "model = MLP(input_dims=input_dims,\n",
        "            hidden_dims=hidden_dims,\n",
        "            output_dims=output_dims).to(device)\n",
        "\n",
        "criterion = nn.CrossEntropyLoss()\n",
        "lr = 1e-2\n",
        "optimizer = torch.optim.SGD(model.parameters(), lr=lr)"
      ],
      "metadata": {
        "id": "AkkmL4ZODiwq"
      },
      "id": "AkkmL4ZODiwq",
      "execution_count": 20,
      "outputs": []
    },
    {
      "cell_type": "markdown",
      "id": "lBS7q-JzwFgC",
      "metadata": {
        "id": "lBS7q-JzwFgC"
      },
      "source": [
        "## **3. Training**"
      ]
    },
    {
      "cell_type": "code",
      "execution_count": 21,
      "id": "21211483-aeed-4beb-aeea-d1e58ae7baf9",
      "metadata": {
        "id": "21211483-aeed-4beb-aeea-d1e58ae7baf9",
        "outputId": "845eac2e-f8ac-43a6-f7ce-3b1920f4f602",
        "colab": {
          "base_uri": "https://localhost:8080/"
        }
      },
      "outputs": [
        {
          "output_type": "stream",
          "name": "stdout",
          "text": [
            "EPOCH 1/100, Train_Loss: 1.9746,Train_Acc: 0.3767, Validation Loss: 1.3957 , Val_Acc:0.5095\n",
            "EPOCH 2/100, Train_Loss: 1.2380,Train_Acc: 0.5604, Validation Loss: 1.1413 , Val_Acc:0.5935\n",
            "EPOCH 3/100, Train_Loss: 1.0554,Train_Acc: 0.6195, Validation Loss: 1.0213 , Val_Acc:0.6243\n",
            "EPOCH 4/100, Train_Loss: 0.9580,Train_Acc: 0.6557, Validation Loss: 0.9486 , Val_Acc:0.6562\n",
            "EPOCH 5/100, Train_Loss: 0.8963,Train_Acc: 0.6777, Validation Loss: 0.8971 , Val_Acc:0.6835\n",
            "EPOCH 6/100, Train_Loss: 0.8527,Train_Acc: 0.6932, Validation Loss: 0.8628 , Val_Acc:0.6955\n",
            "EPOCH 7/100, Train_Loss: 0.8184,Train_Acc: 0.7064, Validation Loss: 0.8301 , Val_Acc:0.7103\n",
            "EPOCH 8/100, Train_Loss: 0.7912,Train_Acc: 0.7154, Validation Loss: 0.8085 , Val_Acc:0.7167\n",
            "EPOCH 9/100, Train_Loss: 0.7681,Train_Acc: 0.7243, Validation Loss: 0.7869 , Val_Acc:0.7275\n",
            "EPOCH 10/100, Train_Loss: 0.7491,Train_Acc: 0.7312, Validation Loss: 0.7682 , Val_Acc:0.7325\n",
            "EPOCH 11/100, Train_Loss: 0.7322,Train_Acc: 0.7384, Validation Loss: 0.7520 , Val_Acc:0.7357\n",
            "EPOCH 12/100, Train_Loss: 0.7171,Train_Acc: 0.7434, Validation Loss: 0.7463 , Val_Acc:0.7385\n",
            "EPOCH 13/100, Train_Loss: 0.7039,Train_Acc: 0.7479, Validation Loss: 0.7254 , Val_Acc:0.7473\n",
            "EPOCH 14/100, Train_Loss: 0.6914,Train_Acc: 0.7523, Validation Loss: 0.7122 , Val_Acc:0.7477\n",
            "EPOCH 15/100, Train_Loss: 0.6804,Train_Acc: 0.7560, Validation Loss: 0.7036 , Val_Acc:0.7503\n",
            "EPOCH 16/100, Train_Loss: 0.6701,Train_Acc: 0.7596, Validation Loss: 0.6932 , Val_Acc:0.7543\n",
            "EPOCH 17/100, Train_Loss: 0.6606,Train_Acc: 0.7624, Validation Loss: 0.6863 , Val_Acc:0.7583\n",
            "EPOCH 18/100, Train_Loss: 0.6517,Train_Acc: 0.7661, Validation Loss: 0.6764 , Val_Acc:0.7622\n",
            "EPOCH 19/100, Train_Loss: 0.6439,Train_Acc: 0.7688, Validation Loss: 0.6712 , Val_Acc:0.7640\n",
            "EPOCH 20/100, Train_Loss: 0.6361,Train_Acc: 0.7718, Validation Loss: 0.6642 , Val_Acc:0.7662\n",
            "EPOCH 21/100, Train_Loss: 0.6287,Train_Acc: 0.7732, Validation Loss: 0.6548 , Val_Acc:0.7690\n",
            "EPOCH 22/100, Train_Loss: 0.6220,Train_Acc: 0.7770, Validation Loss: 0.6514 , Val_Acc:0.7662\n",
            "EPOCH 23/100, Train_Loss: 0.6155,Train_Acc: 0.7779, Validation Loss: 0.6456 , Val_Acc:0.7708\n",
            "EPOCH 24/100, Train_Loss: 0.6090,Train_Acc: 0.7817, Validation Loss: 0.6412 , Val_Acc:0.7697\n",
            "EPOCH 25/100, Train_Loss: 0.6040,Train_Acc: 0.7828, Validation Loss: 0.6385 , Val_Acc:0.7738\n",
            "EPOCH 26/100, Train_Loss: 0.5977,Train_Acc: 0.7837, Validation Loss: 0.6392 , Val_Acc:0.7740\n",
            "EPOCH 27/100, Train_Loss: 0.5930,Train_Acc: 0.7858, Validation Loss: 0.6286 , Val_Acc:0.7770\n",
            "EPOCH 28/100, Train_Loss: 0.5880,Train_Acc: 0.7880, Validation Loss: 0.6254 , Val_Acc:0.7788\n",
            "EPOCH 29/100, Train_Loss: 0.5831,Train_Acc: 0.7898, Validation Loss: 0.6210 , Val_Acc:0.7768\n",
            "EPOCH 30/100, Train_Loss: 0.5787,Train_Acc: 0.7915, Validation Loss: 0.6164 , Val_Acc:0.7805\n",
            "EPOCH 31/100, Train_Loss: 0.5739,Train_Acc: 0.7924, Validation Loss: 0.6146 , Val_Acc:0.7817\n",
            "EPOCH 32/100, Train_Loss: 0.5698,Train_Acc: 0.7942, Validation Loss: 0.6094 , Val_Acc:0.7835\n",
            "EPOCH 33/100, Train_Loss: 0.5660,Train_Acc: 0.7952, Validation Loss: 0.6073 , Val_Acc:0.7830\n",
            "EPOCH 34/100, Train_Loss: 0.5613,Train_Acc: 0.7972, Validation Loss: 0.6050 , Val_Acc:0.7843\n",
            "EPOCH 35/100, Train_Loss: 0.5578,Train_Acc: 0.7989, Validation Loss: 0.6020 , Val_Acc:0.7858\n",
            "EPOCH 36/100, Train_Loss: 0.5540,Train_Acc: 0.7997, Validation Loss: 0.6031 , Val_Acc:0.7865\n",
            "EPOCH 37/100, Train_Loss: 0.5505,Train_Acc: 0.8005, Validation Loss: 0.5980 , Val_Acc:0.7892\n",
            "EPOCH 38/100, Train_Loss: 0.5471,Train_Acc: 0.8016, Validation Loss: 0.5944 , Val_Acc:0.7900\n",
            "EPOCH 39/100, Train_Loss: 0.5435,Train_Acc: 0.8044, Validation Loss: 0.5941 , Val_Acc:0.7877\n",
            "EPOCH 40/100, Train_Loss: 0.5405,Train_Acc: 0.8039, Validation Loss: 0.5904 , Val_Acc:0.7913\n",
            "EPOCH 41/100, Train_Loss: 0.5376,Train_Acc: 0.8060, Validation Loss: 0.5901 , Val_Acc:0.7890\n",
            "EPOCH 42/100, Train_Loss: 0.5342,Train_Acc: 0.8075, Validation Loss: 0.5868 , Val_Acc:0.7922\n",
            "EPOCH 43/100, Train_Loss: 0.5314,Train_Acc: 0.8080, Validation Loss: 0.5873 , Val_Acc:0.7898\n",
            "EPOCH 44/100, Train_Loss: 0.5286,Train_Acc: 0.8088, Validation Loss: 0.5827 , Val_Acc:0.7948\n",
            "EPOCH 45/100, Train_Loss: 0.5257,Train_Acc: 0.8096, Validation Loss: 0.5798 , Val_Acc:0.7933\n",
            "EPOCH 46/100, Train_Loss: 0.5232,Train_Acc: 0.8116, Validation Loss: 0.5829 , Val_Acc:0.7935\n",
            "EPOCH 47/100, Train_Loss: 0.5202,Train_Acc: 0.8122, Validation Loss: 0.5762 , Val_Acc:0.7958\n",
            "EPOCH 48/100, Train_Loss: 0.5178,Train_Acc: 0.8127, Validation Loss: 0.5773 , Val_Acc:0.7930\n",
            "EPOCH 49/100, Train_Loss: 0.5155,Train_Acc: 0.8131, Validation Loss: 0.5779 , Val_Acc:0.7925\n",
            "EPOCH 50/100, Train_Loss: 0.5129,Train_Acc: 0.8154, Validation Loss: 0.5718 , Val_Acc:0.7972\n",
            "EPOCH 51/100, Train_Loss: 0.5106,Train_Acc: 0.8159, Validation Loss: 0.5729 , Val_Acc:0.7960\n",
            "EPOCH 52/100, Train_Loss: 0.5086,Train_Acc: 0.8164, Validation Loss: 0.5685 , Val_Acc:0.7983\n",
            "EPOCH 53/100, Train_Loss: 0.5060,Train_Acc: 0.8175, Validation Loss: 0.5652 , Val_Acc:0.7993\n",
            "EPOCH 54/100, Train_Loss: 0.5036,Train_Acc: 0.8182, Validation Loss: 0.5655 , Val_Acc:0.7980\n",
            "EPOCH 55/100, Train_Loss: 0.5015,Train_Acc: 0.8190, Validation Loss: 0.5643 , Val_Acc:0.7993\n",
            "EPOCH 56/100, Train_Loss: 0.4993,Train_Acc: 0.8197, Validation Loss: 0.5629 , Val_Acc:0.7990\n",
            "EPOCH 57/100, Train_Loss: 0.4973,Train_Acc: 0.8204, Validation Loss: 0.5585 , Val_Acc:0.8008\n",
            "EPOCH 58/100, Train_Loss: 0.4952,Train_Acc: 0.8209, Validation Loss: 0.5591 , Val_Acc:0.8007\n",
            "EPOCH 59/100, Train_Loss: 0.4934,Train_Acc: 0.8225, Validation Loss: 0.5565 , Val_Acc:0.8013\n",
            "EPOCH 60/100, Train_Loss: 0.4914,Train_Acc: 0.8216, Validation Loss: 0.5579 , Val_Acc:0.8027\n",
            "EPOCH 61/100, Train_Loss: 0.4891,Train_Acc: 0.8235, Validation Loss: 0.5579 , Val_Acc:0.8033\n",
            "EPOCH 62/100, Train_Loss: 0.4874,Train_Acc: 0.8234, Validation Loss: 0.5526 , Val_Acc:0.8038\n",
            "EPOCH 63/100, Train_Loss: 0.4856,Train_Acc: 0.8239, Validation Loss: 0.5571 , Val_Acc:0.8002\n",
            "EPOCH 64/100, Train_Loss: 0.4838,Train_Acc: 0.8257, Validation Loss: 0.5514 , Val_Acc:0.8032\n",
            "EPOCH 65/100, Train_Loss: 0.4818,Train_Acc: 0.8259, Validation Loss: 0.5517 , Val_Acc:0.8053\n",
            "EPOCH 66/100, Train_Loss: 0.4802,Train_Acc: 0.8262, Validation Loss: 0.5478 , Val_Acc:0.8060\n",
            "EPOCH 67/100, Train_Loss: 0.4785,Train_Acc: 0.8274, Validation Loss: 0.5476 , Val_Acc:0.8067\n",
            "EPOCH 68/100, Train_Loss: 0.4770,Train_Acc: 0.8279, Validation Loss: 0.5474 , Val_Acc:0.8070\n",
            "EPOCH 69/100, Train_Loss: 0.4746,Train_Acc: 0.8286, Validation Loss: 0.5466 , Val_Acc:0.8070\n",
            "EPOCH 70/100, Train_Loss: 0.4733,Train_Acc: 0.8288, Validation Loss: 0.5452 , Val_Acc:0.8062\n",
            "EPOCH 71/100, Train_Loss: 0.4717,Train_Acc: 0.8292, Validation Loss: 0.5451 , Val_Acc:0.8067\n",
            "EPOCH 72/100, Train_Loss: 0.4699,Train_Acc: 0.8303, Validation Loss: 0.5459 , Val_Acc:0.8088\n",
            "EPOCH 73/100, Train_Loss: 0.4684,Train_Acc: 0.8305, Validation Loss: 0.5453 , Val_Acc:0.8043\n",
            "EPOCH 74/100, Train_Loss: 0.4668,Train_Acc: 0.8315, Validation Loss: 0.5416 , Val_Acc:0.8107\n",
            "EPOCH 75/100, Train_Loss: 0.4653,Train_Acc: 0.8319, Validation Loss: 0.5410 , Val_Acc:0.8075\n",
            "EPOCH 76/100, Train_Loss: 0.4638,Train_Acc: 0.8328, Validation Loss: 0.5414 , Val_Acc:0.8072\n",
            "EPOCH 77/100, Train_Loss: 0.4622,Train_Acc: 0.8325, Validation Loss: 0.5412 , Val_Acc:0.8080\n",
            "EPOCH 78/100, Train_Loss: 0.4609,Train_Acc: 0.8331, Validation Loss: 0.5385 , Val_Acc:0.8080\n",
            "EPOCH 79/100, Train_Loss: 0.4597,Train_Acc: 0.8343, Validation Loss: 0.5373 , Val_Acc:0.8113\n",
            "EPOCH 80/100, Train_Loss: 0.4579,Train_Acc: 0.8349, Validation Loss: 0.5365 , Val_Acc:0.8122\n",
            "EPOCH 81/100, Train_Loss: 0.4567,Train_Acc: 0.8357, Validation Loss: 0.5359 , Val_Acc:0.8087\n",
            "EPOCH 82/100, Train_Loss: 0.4553,Train_Acc: 0.8359, Validation Loss: 0.5360 , Val_Acc:0.8083\n",
            "EPOCH 83/100, Train_Loss: 0.4538,Train_Acc: 0.8362, Validation Loss: 0.5346 , Val_Acc:0.8112\n",
            "EPOCH 84/100, Train_Loss: 0.4524,Train_Acc: 0.8369, Validation Loss: 0.5342 , Val_Acc:0.8108\n",
            "EPOCH 85/100, Train_Loss: 0.4510,Train_Acc: 0.8374, Validation Loss: 0.5332 , Val_Acc:0.8147\n",
            "EPOCH 86/100, Train_Loss: 0.4497,Train_Acc: 0.8382, Validation Loss: 0.5323 , Val_Acc:0.8107\n",
            "EPOCH 87/100, Train_Loss: 0.4482,Train_Acc: 0.8391, Validation Loss: 0.5321 , Val_Acc:0.8147\n",
            "EPOCH 88/100, Train_Loss: 0.4471,Train_Acc: 0.8388, Validation Loss: 0.5344 , Val_Acc:0.8143\n",
            "EPOCH 89/100, Train_Loss: 0.4459,Train_Acc: 0.8395, Validation Loss: 0.5286 , Val_Acc:0.8142\n",
            "EPOCH 90/100, Train_Loss: 0.4448,Train_Acc: 0.8395, Validation Loss: 0.5333 , Val_Acc:0.8127\n",
            "EPOCH 91/100, Train_Loss: 0.4438,Train_Acc: 0.8412, Validation Loss: 0.5303 , Val_Acc:0.8145\n",
            "EPOCH 92/100, Train_Loss: 0.4424,Train_Acc: 0.8412, Validation Loss: 0.5303 , Val_Acc:0.8103\n",
            "EPOCH 93/100, Train_Loss: 0.4410,Train_Acc: 0.8421, Validation Loss: 0.5264 , Val_Acc:0.8170\n",
            "EPOCH 94/100, Train_Loss: 0.4398,Train_Acc: 0.8420, Validation Loss: 0.5272 , Val_Acc:0.8158\n",
            "EPOCH 95/100, Train_Loss: 0.4386,Train_Acc: 0.8431, Validation Loss: 0.5279 , Val_Acc:0.8112\n",
            "EPOCH 96/100, Train_Loss: 0.4373,Train_Acc: 0.8434, Validation Loss: 0.5256 , Val_Acc:0.8178\n",
            "EPOCH 97/100, Train_Loss: 0.4362,Train_Acc: 0.8434, Validation Loss: 0.5270 , Val_Acc:0.8170\n",
            "EPOCH 98/100, Train_Loss: 0.4354,Train_Acc: 0.8446, Validation Loss: 0.5259 , Val_Acc:0.8167\n",
            "EPOCH 99/100, Train_Loss: 0.4341,Train_Acc: 0.8446, Validation Loss: 0.5237 , Val_Acc:0.8182\n",
            "EPOCH 100/100, Train_Loss: 0.4331,Train_Acc: 0.8450, Validation Loss: 0.5230 , Val_Acc:0.8158\n"
          ]
        }
      ],
      "source": [
        "epochs = 100\n",
        "train_loss_list = []\n",
        "val_loss_list = []\n",
        "train_acc_list = []\n",
        "val_acc_list = []\n",
        "\n",
        "for epoch in range(epochs):\n",
        "  # 1) train steps\n",
        "  train_loss = 0.0\n",
        "  train_acc = 0.0\n",
        "  sum_sample = 0\n",
        "\n",
        "  model.train()\n",
        "  for X_train, y_train in train_loader:\n",
        "    X_train, y_train = X_train.to(device), y_train.to(device)\n",
        "    optimizer.zero_grad()\n",
        "\n",
        "    outputs = model(X_train)\n",
        "    loss = criterion(outputs, y_train)\n",
        "    loss.backward()\n",
        "    optimizer.step()\n",
        "\n",
        "    train_loss += loss.item()\n",
        "    train_acc += (torch.argmax(outputs, dim=1) == y_train).sum().item()\n",
        "\n",
        "    sum_sample += len(y_train)\n",
        "\n",
        "  train_loss /= len(train_loader)\n",
        "  train_acc /= sum_sample\n",
        "  train_loss_list.append(train_loss)\n",
        "  train_acc_list.append(train_acc)\n",
        "\n",
        "  # 2) validation steps\n",
        "  val_loss = 0.0\n",
        "  val_acc = 0.0\n",
        "  model.eval()\n",
        "  sum_sample = 0\n",
        "  with torch.no_grad():\n",
        "    for X_val, y_val in val_loader:\n",
        "      X_val, y_val = X_val.to(device), y_val.to(device)\n",
        "\n",
        "      outputs = model(X_val)\n",
        "      loss = criterion(outputs, y_val)\n",
        "\n",
        "      val_loss += loss.item()\n",
        "      val_acc += (torch.argmax(outputs, dim=1) == y_val).sum().item()\n",
        "\n",
        "      sum_sample += len(y_val)\n",
        "\n",
        "  val_loss /= len(val_loader)\n",
        "  val_acc /= sum_sample\n",
        "  val_loss_list.append(val_loss)\n",
        "  val_acc_list.append(val_acc)\n",
        "\n",
        "  print(f\"EPOCH {epoch+1}/{epochs}, Train_Loss: {train_loss:.4f},Train_Acc: {train_acc:.4f}, Validation Loss: {val_loss:.4f} , Val_Acc:{val_acc:.4f}\")\n",
        "\n",
        ""
      ]
    },
    {
      "cell_type": "code",
      "execution_count": 22,
      "id": "321d7070-b736-4ebb-94fa-59cd37ff50b3",
      "metadata": {
        "id": "321d7070-b736-4ebb-94fa-59cd37ff50b3",
        "outputId": "8e39ad4b-4b59-460e-8c2c-a13b5fe4dc89",
        "colab": {
          "base_uri": "https://localhost:8080/",
          "height": 568
        }
      },
      "outputs": [
        {
          "output_type": "display_data",
          "data": {
            "text/plain": [
              "<Figure size 1200x1000 with 4 Axes>"
            ],
            "image/png": "[encoded data removed]"
          },
          "metadata": {}
        }
      ],
      "source": [
        "fig, ax = plt.subplots(2,2, figsize=(12,10))\n",
        "ax[0,0].plot(train_loss_list, color='green')\n",
        "ax[0,0].set(title='Train Loss', xlabel='Epoch', ylabel='Loss')\n",
        "\n",
        "ax[0,1].plot(train_acc_list, color='green')\n",
        "ax[0,1].set(title='Train Accuracy', xlabel='Epoch', ylabel='Accuracy')\n",
        "\n",
        "ax[1,0].plot(val_loss_list, color='red')\n",
        "ax[1,0].set(title='Validation Loss', xlabel='Epoch', ylabel='Loss')\n",
        "\n",
        "ax[1,1].plot(val_acc_list, color='red')\n",
        "ax[1,1].set(title='Validation Accuracy', xlabel='Epoch', ylabel='Accuracy')\n",
        "plt.show()"
      ]
    },
    {
      "cell_type": "markdown",
      "id": "CY9OpDyiPL2V",
      "metadata": {
        "id": "CY9OpDyiPL2V"
      },
      "source": [
        "## **4. Evaluation**"
      ]
    },
    {
      "cell_type": "code",
      "execution_count": 23,
      "id": "VC8cygPWPKy6",
      "metadata": {
        "id": "VC8cygPWPKy6",
        "outputId": "c3700907-d491-48b9-aa8d-eb6989d2127c",
        "colab": {
          "base_uri": "https://localhost:8080/"
        }
      },
      "outputs": [
        {
          "output_type": "stream",
          "name": "stdout",
          "text": [
            "Test Accuracy: 0.8067\n"
          ]
        }
      ],
      "source": [
        "test_ground_truth = []\n",
        "test_prediction = []\n",
        "\n",
        "model.eval()\n",
        "with torch.no_grad():\n",
        "  for X_test, y_test in test_loader:\n",
        "    X_test, y_test = X_test.to(device), y_test.to(device)\n",
        "\n",
        "    outputs = model(X_test)\n",
        "\n",
        "    test_ground_truth.append(y_test.cpu())\n",
        "    test_prediction.append(outputs.cpu())\n",
        "\n",
        "test_ground_truth = torch.cat(test_ground_truth, dim=0)\n",
        "test_prediction = torch.cat(test_prediction, dim=0)\n",
        "\n",
        "test_acc = (torch.argmax(test_prediction,1) == test_ground_truth).sum().item() / len(test_ground_truth)\n",
        "print(f\"Test Accuracy: {test_acc:.4f}\")"
      ]
    },
    {
      "cell_type": "markdown",
      "source": [
        "Thử nghiệm lại trên tập val"
      ],
      "metadata": {
        "id": "tRGMNYPpMyVO"
      },
      "id": "tRGMNYPpMyVO"
    },
    {
      "cell_type": "code",
      "source": [
        "val_target = []\n",
        "val_predict = []\n",
        "\n",
        "model.eval()\n",
        "with torch.no_grad():\n",
        "    for X_val, y_val in val_loader:\n",
        "        X_val = X_val.to(device)\n",
        "        y_val = y_val.to(device)\n",
        "        outputs = model(X_val)\n",
        "\n",
        "        val_predict.append(outputs.cpu())\n",
        "        val_target.append(y_val.cpu())\n",
        "\n",
        "    val_predict = torch.cat(val_predict)\n",
        "    val_target = torch.cat(val_target)\n",
        "    val_acc = (torch.argmax(val_predict, 1) == val_target).sum().item() / len(val_target)\n",
        "\n",
        "    print('Evaluation on val set:')\n",
        "    print(f'Accuracy: {val_acc}')"
      ],
      "metadata": {
        "id": "BFkpK15_M3L8",
        "outputId": "e322013d-c8ff-4c14-ab73-00b7004761e5",
        "colab": {
          "base_uri": "https://localhost:8080/"
        }
      },
      "id": "BFkpK15_M3L8",
      "execution_count": 24,
      "outputs": [
        {
          "output_type": "stream",
          "name": "stdout",
          "text": [
            "Evaluation on val set:\n",
            "Accuracy: 0.8158333333333333\n"
          ]
        }
      ]
    }
  ],
  "metadata": {
    "accelerator": "GPU",
    "colab": {
      "gpuType": "T4",
      "provenance": [],
      "include_colab_link": true
    },
    "kernelspec": {
      "display_name": "Python 3",
      "name": "python3"
    },
    "language_info": {
      "codemirror_mode": {
        "name": "ipython",
        "version": 3
      },
      "file_extension": ".py",
      "mimetype": "text/x-python",
      "name": "python",
      "nbconvert_exporter": "python",
      "pygments_lexer": "ipython3",
      "version": "3.10.13"
    },
    "toc": {
      "base_numbering": 1,
      "nav_menu": {},
      "number_sections": true,
      "sideBar": true,
      "skip_h1_title": false,
      "title_cell": "Table of Contents",
      "title_sidebar": "Contents",
      "toc_cell": false,
      "toc_position": {},
      "toc_section_display": true,
      "toc_window_display": true
    }
  },
  "nbformat": 4,
  "nbformat_minor": 5
}