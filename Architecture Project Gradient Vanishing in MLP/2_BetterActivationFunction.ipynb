{
  "cells": [
    {
      "cell_type": "markdown",
      "metadata": {
        "id": "view-in-github",
        "colab_type": "text"
      },
      "source": [
        "<a href=\"https://colab.research.google.com/github/mylethidiem/artificial-intelligence-projects/blob/main/Architecture%20Project%20Gradient%20Vanishing%20in%20MLP/2_BetterActivationFunction.ipynb\" target=\"_parent\"><img src=\"https://colab.research.google.com/assets/colab-badge.svg\" alt=\"Open In Colab\"/></a>"
      ]
    },
    {
      "cell_type": "markdown",
      "id": "HItsinp0SFqA",
      "metadata": {
        "id": "HItsinp0SFqA"
      },
      "source": [
        "## **0. Import libraries**"
      ]
    },
    {
      "cell_type": "code",
      "execution_count": 1,
      "id": "bb96f0ec-3525-4e79-9ad1-8e95c15a9cf2",
      "metadata": {
        "id": "bb96f0ec-3525-4e79-9ad1-8e95c15a9cf2"
      },
      "outputs": [],
      "source": [
        "import random\n",
        "import matplotlib.pyplot as plt\n",
        "import numpy as np\n",
        "\n",
        "import torch\n",
        "import torch.optim as optim\n",
        "import torchvision\n",
        "import torchvision.transforms as transforms\n",
        "\n",
        "from torch import nn\n",
        "from torch.utils.data import Dataset, DataLoader, random_split\n",
        "from torchvision.datasets import FashionMNIST"
      ]
    },
    {
      "cell_type": "code",
      "execution_count": 3,
      "id": "P3ehfc2p0vqq",
      "metadata": {
        "id": "P3ehfc2p0vqq",
        "outputId": "951eef72-a26f-4d06-8c53-6f192d57f008",
        "colab": {
          "base_uri": "https://localhost:8080/"
        }
      },
      "outputs": [
        {
          "output_type": "stream",
          "name": "stdout",
          "text": [
            "cpu\n"
          ]
        }
      ],
      "source": [
        "device = torch.device(\"cuda\" if torch.cuda.is_available() else \"cpu\")\n",
        "print(device)\n",
        "\n",
        "def set_seed(seed):\n",
        "  random.seed(seed)\n",
        "  np.random.seed(seed)\n",
        "  torch.manual_seed(seed)\n",
        "  if torch.cuda.is_available():\n",
        "    torch.cuda.manual_seed(seed)\n",
        "    torch.cuda.manual_seed_all(seed)\n",
        "  torch.backends.cudnn.benchmark = False\n",
        "  torch.backends.cudnn.deterministic = True\n",
        "\n",
        "SEED = 42\n",
        "set_seed(SEED)"
      ]
    },
    {
      "cell_type": "markdown",
      "id": "Mw6hLiNAugrD",
      "metadata": {
        "id": "Mw6hLiNAugrD"
      },
      "source": [
        "## **1. Prepare dataset**\n"
      ]
    },
    {
      "cell_type": "code",
      "execution_count": 2,
      "id": "c73f1e96-b8ea-4b8f-b4f3-9b3f27b42acd",
      "metadata": {
        "id": "c73f1e96-b8ea-4b8f-b4f3-9b3f27b42acd",
        "outputId": "f2980966-8543-442e-bb68-e885104fe803",
        "colab": {
          "base_uri": "https://localhost:8080/"
        }
      },
      "outputs": [
        {
          "output_type": "stream",
          "name": "stdout",
          "text": [
            "Downloading http://fashion-mnist.s3-website.eu-central-1.amazonaws.com/train-images-idx3-ubyte.gz\n",
            "Downloading http://fashion-mnist.s3-website.eu-central-1.amazonaws.com/train-images-idx3-ubyte.gz to ./data/FashionMNIST/raw/train-images-idx3-ubyte.gz\n"
          ]
        },
        {
          "output_type": "stream",
          "name": "stderr",
          "text": [
            "100%|██████████| 26.4M/26.4M [00:01<00:00, 19.6MB/s]\n"
          ]
        },
        {
          "output_type": "stream",
          "name": "stdout",
          "text": [
            "Extracting ./data/FashionMNIST/raw/train-images-idx3-ubyte.gz to ./data/FashionMNIST/raw\n",
            "\n",
            "Downloading http://fashion-mnist.s3-website.eu-central-1.amazonaws.com/train-labels-idx1-ubyte.gz\n",
            "Downloading http://fashion-mnist.s3-website.eu-central-1.amazonaws.com/train-labels-idx1-ubyte.gz to ./data/FashionMNIST/raw/train-labels-idx1-ubyte.gz\n"
          ]
        },
        {
          "output_type": "stream",
          "name": "stderr",
          "text": [
            "100%|██████████| 29.5k/29.5k [00:00<00:00, 364kB/s]\n"
          ]
        },
        {
          "output_type": "stream",
          "name": "stdout",
          "text": [
            "Extracting ./data/FashionMNIST/raw/train-labels-idx1-ubyte.gz to ./data/FashionMNIST/raw\n",
            "\n",
            "Downloading http://fashion-mnist.s3-website.eu-central-1.amazonaws.com/t10k-images-idx3-ubyte.gz\n",
            "Downloading http://fashion-mnist.s3-website.eu-central-1.amazonaws.com/t10k-images-idx3-ubyte.gz to ./data/FashionMNIST/raw/t10k-images-idx3-ubyte.gz\n"
          ]
        },
        {
          "output_type": "stream",
          "name": "stderr",
          "text": [
            "100%|██████████| 4.42M/4.42M [00:00<00:00, 6.32MB/s]\n"
          ]
        },
        {
          "output_type": "stream",
          "name": "stdout",
          "text": [
            "Extracting ./data/FashionMNIST/raw/t10k-images-idx3-ubyte.gz to ./data/FashionMNIST/raw\n",
            "\n",
            "Downloading http://fashion-mnist.s3-website.eu-central-1.amazonaws.com/t10k-labels-idx1-ubyte.gz\n",
            "Downloading http://fashion-mnist.s3-website.eu-central-1.amazonaws.com/t10k-labels-idx1-ubyte.gz to ./data/FashionMNIST/raw/t10k-labels-idx1-ubyte.gz\n"
          ]
        },
        {
          "output_type": "stream",
          "name": "stderr",
          "text": [
            "100%|██████████| 5.15k/5.15k [00:00<00:00, 18.9MB/s]"
          ]
        },
        {
          "output_type": "stream",
          "name": "stdout",
          "text": [
            "Extracting ./data/FashionMNIST/raw/t10k-labels-idx1-ubyte.gz to ./data/FashionMNIST/raw\n",
            "\n"
          ]
        },
        {
          "output_type": "stream",
          "name": "stderr",
          "text": [
            "\n"
          ]
        }
      ],
      "source": [
        "train_dataset = FashionMNIST(root=\"./data\",\n",
        "                             train=True,\n",
        "                             download=True,\n",
        "                             transform=transforms.ToTensor())\n",
        "test_dataset = FashionMNIST(root='./data',\n",
        "                            train=False,\n",
        "                            download=True,\n",
        "                            transform=transforms.ToTensor())"
      ]
    },
    {
      "cell_type": "markdown",
      "id": "75eeaa46",
      "metadata": {
        "id": "75eeaa46"
      },
      "source": [
        "## **2. Build MLP network with `Better Activation: ReLU`**\n",
        "\n",
        "\n"
      ]
    },
    {
      "cell_type": "code",
      "execution_count": 4,
      "id": "589bb0df",
      "metadata": {
        "id": "589bb0df",
        "outputId": "a1386876-1b23-42b5-aa22-a5cab418efb4",
        "colab": {
          "base_uri": "https://localhost:8080/"
        }
      },
      "outputs": [
        {
          "output_type": "stream",
          "name": "stdout",
          "text": [
            "Train size: 54000\n",
            "Validation size: 6000\n",
            "Test size: 10000\n"
          ]
        }
      ],
      "source": [
        "train_ratio = 0.9\n",
        "train_size = int(train_ratio * len(train_dataset))\n",
        "val_size = len(train_dataset) - train_size\n",
        "\n",
        "\n",
        "train_subset, val_subset = random_split(train_dataset, [train_size, val_size])\n",
        "\n",
        "batch_size = 512\n",
        "train_loader = DataLoader(train_subset, batch_size=batch_size, shuffle=True)\n",
        "val_loader = DataLoader(val_subset, batch_size=batch_size, shuffle=False)\n",
        "test_loader = DataLoader(test_dataset, batch_size=batch_size, shuffle=False)\n",
        "\n",
        "print(f\"Train size: {len(train_subset)}\")\n",
        "print(f\"Validation size: {len(val_subset)}\")\n",
        "print(f\"Test size: {len(test_dataset)}\")"
      ]
    },
    {
      "cell_type": "code",
      "execution_count": 5,
      "id": "0db5beca-ee90-4d2e-bb2f-62b20da68cf3",
      "metadata": {
        "id": "0db5beca-ee90-4d2e-bb2f-62b20da68cf3"
      },
      "outputs": [],
      "source": [
        "class MLP(nn.Module):\n",
        "  def __init__(self, input_dims, hidden_dims, output_dims):\n",
        "    super(MLP, self).__init__()\n",
        "    self.layer1 = nn.Linear(input_dims, hidden_dims)\n",
        "    self.layer2 = nn.Linear(hidden_dims, hidden_dims)\n",
        "    self.layer3 = nn.Linear(hidden_dims, hidden_dims)\n",
        "    self.layer4 = nn.Linear(hidden_dims, hidden_dims)\n",
        "    self.layer5 = nn.Linear(hidden_dims, hidden_dims)\n",
        "    self.layer6 = nn.Linear(hidden_dims, hidden_dims)\n",
        "    self.layer7 = nn.Linear(hidden_dims, hidden_dims)\n",
        "    self.output = nn.Linear(hidden_dims, output_dims)\n",
        "\n",
        "    for m in self.modules():\n",
        "      if isinstance(m, nn.Linear):\n",
        "        nn.init.normal_(m.weight, mean=0.0, std=0.05)\n",
        "        nn.init.constant_(m.bias, val=0.0)\n",
        "\n",
        "  def forward(self, x):\n",
        "    x = nn.Flatten()(x)\n",
        "    x = self.layer1(x)\n",
        "    x = nn.ReLU()(x)\n",
        "    x = self.layer2(x)\n",
        "    x = nn.ReLU()(x)\n",
        "    x = self.layer3(x)\n",
        "    x = nn.ReLU()(x)\n",
        "    x = self.layer4(x)\n",
        "    x = nn.ReLU()(x)\n",
        "    x = self.layer5(x)\n",
        "    x = nn.ReLU()(x)\n",
        "    x = self.layer6(x)\n",
        "    x = nn.ReLU()(x)\n",
        "    x = self.layer7(x)\n",
        "    x = nn.ReLU()(x)\n",
        "    output = self.output(x)\n",
        "    return output"
      ]
    },
    {
      "cell_type": "markdown",
      "id": "lBS7q-JzwFgC",
      "metadata": {
        "id": "lBS7q-JzwFgC"
      },
      "source": [
        "## **3. Training**"
      ]
    },
    {
      "cell_type": "code",
      "execution_count": 6,
      "id": "21211483-aeed-4beb-aeea-d1e58ae7baf9",
      "metadata": {
        "id": "21211483-aeed-4beb-aeea-d1e58ae7baf9"
      },
      "outputs": [],
      "source": [
        "input_dims = 784\n",
        "hidden_dims = 128\n",
        "output_dims = 10\n",
        "\n",
        "model = MLP(input_dims, hidden_dims, output_dims).to(device)\n",
        "criterion = nn.CrossEntropyLoss()\n",
        "lr = 1e-3\n",
        "optimizer = torch.optim.Adam(model.parameters(), lr)"
      ]
    },
    {
      "cell_type": "code",
      "execution_count": 7,
      "id": "321d7070-b736-4ebb-94fa-59cd37ff50b3",
      "metadata": {
        "id": "321d7070-b736-4ebb-94fa-59cd37ff50b3",
        "outputId": "bee060d1-a344-4828-d9c9-29fd7c429c3f",
        "colab": {
          "base_uri": "https://localhost:8080/"
        }
      },
      "outputs": [
        {
          "output_type": "stream",
          "name": "stdout",
          "text": [
            "EPOCH 1/100, Train_Loss: 1.1318,Train_Acc: 0.5546, Validation Loss: 0.7533 , Val_Acc:0.7228\n",
            "EPOCH 2/100, Train_Loss: 0.6497,Train_Acc: 0.7610, Validation Loss: 0.5901 , Val_Acc:0.7943\n",
            "EPOCH 3/100, Train_Loss: 0.5362,Train_Acc: 0.8050, Validation Loss: 0.6352 , Val_Acc:0.7712\n",
            "EPOCH 4/100, Train_Loss: 0.4872,Train_Acc: 0.8273, Validation Loss: 0.4914 , Val_Acc:0.8308\n",
            "EPOCH 5/100, Train_Loss: 0.4337,Train_Acc: 0.8474, Validation Loss: 0.5029 , Val_Acc:0.8222\n",
            "EPOCH 6/100, Train_Loss: 0.4037,Train_Acc: 0.8556, Validation Loss: 0.4213 , Val_Acc:0.8498\n",
            "EPOCH 7/100, Train_Loss: 0.3788,Train_Acc: 0.8665, Validation Loss: 0.4422 , Val_Acc:0.8488\n",
            "EPOCH 8/100, Train_Loss: 0.3574,Train_Acc: 0.8724, Validation Loss: 0.4378 , Val_Acc:0.8468\n",
            "EPOCH 9/100, Train_Loss: 0.3523,Train_Acc: 0.8721, Validation Loss: 0.3891 , Val_Acc:0.8658\n",
            "EPOCH 10/100, Train_Loss: 0.3303,Train_Acc: 0.8809, Validation Loss: 0.3605 , Val_Acc:0.8748\n",
            "EPOCH 11/100, Train_Loss: 0.3210,Train_Acc: 0.8848, Validation Loss: 0.3670 , Val_Acc:0.8727\n",
            "EPOCH 12/100, Train_Loss: 0.3087,Train_Acc: 0.8886, Validation Loss: 0.3826 , Val_Acc:0.8655\n",
            "EPOCH 13/100, Train_Loss: 0.3052,Train_Acc: 0.8899, Validation Loss: 0.3473 , Val_Acc:0.8767\n",
            "EPOCH 14/100, Train_Loss: 0.2951,Train_Acc: 0.8930, Validation Loss: 0.3605 , Val_Acc:0.8710\n",
            "EPOCH 15/100, Train_Loss: 0.2818,Train_Acc: 0.8965, Validation Loss: 0.3470 , Val_Acc:0.8745\n",
            "EPOCH 16/100, Train_Loss: 0.2780,Train_Acc: 0.8976, Validation Loss: 0.3651 , Val_Acc:0.8703\n",
            "EPOCH 17/100, Train_Loss: 0.2701,Train_Acc: 0.9009, Validation Loss: 0.3727 , Val_Acc:0.8635\n",
            "EPOCH 18/100, Train_Loss: 0.2641,Train_Acc: 0.9030, Validation Loss: 0.3611 , Val_Acc:0.8680\n",
            "EPOCH 19/100, Train_Loss: 0.2576,Train_Acc: 0.9044, Validation Loss: 0.3571 , Val_Acc:0.8768\n",
            "EPOCH 20/100, Train_Loss: 0.2468,Train_Acc: 0.9084, Validation Loss: 0.3516 , Val_Acc:0.8802\n",
            "EPOCH 21/100, Train_Loss: 0.2419,Train_Acc: 0.9109, Validation Loss: 0.3566 , Val_Acc:0.8793\n",
            "EPOCH 22/100, Train_Loss: 0.2396,Train_Acc: 0.9113, Validation Loss: 0.3673 , Val_Acc:0.8770\n",
            "EPOCH 23/100, Train_Loss: 0.2306,Train_Acc: 0.9151, Validation Loss: 0.3728 , Val_Acc:0.8727\n",
            "EPOCH 24/100, Train_Loss: 0.2303,Train_Acc: 0.9156, Validation Loss: 0.3620 , Val_Acc:0.8775\n",
            "EPOCH 25/100, Train_Loss: 0.2170,Train_Acc: 0.9199, Validation Loss: 0.3415 , Val_Acc:0.8887\n",
            "EPOCH 26/100, Train_Loss: 0.2182,Train_Acc: 0.9184, Validation Loss: 0.3437 , Val_Acc:0.8830\n",
            "EPOCH 27/100, Train_Loss: 0.2100,Train_Acc: 0.9227, Validation Loss: 0.3374 , Val_Acc:0.8885\n",
            "EPOCH 28/100, Train_Loss: 0.2052,Train_Acc: 0.9242, Validation Loss: 0.3591 , Val_Acc:0.8813\n",
            "EPOCH 29/100, Train_Loss: 0.1988,Train_Acc: 0.9270, Validation Loss: 0.3518 , Val_Acc:0.8870\n",
            "EPOCH 30/100, Train_Loss: 0.2034,Train_Acc: 0.9254, Validation Loss: 0.3487 , Val_Acc:0.8885\n",
            "EPOCH 31/100, Train_Loss: 0.1917,Train_Acc: 0.9291, Validation Loss: 0.3689 , Val_Acc:0.8850\n",
            "EPOCH 32/100, Train_Loss: 0.1940,Train_Acc: 0.9277, Validation Loss: 0.3978 , Val_Acc:0.8748\n",
            "EPOCH 33/100, Train_Loss: 0.1906,Train_Acc: 0.9289, Validation Loss: 0.3725 , Val_Acc:0.8832\n",
            "EPOCH 34/100, Train_Loss: 0.1774,Train_Acc: 0.9340, Validation Loss: 0.4183 , Val_Acc:0.8697\n",
            "EPOCH 35/100, Train_Loss: 0.1781,Train_Acc: 0.9341, Validation Loss: 0.3615 , Val_Acc:0.8877\n",
            "EPOCH 36/100, Train_Loss: 0.1776,Train_Acc: 0.9341, Validation Loss: 0.3742 , Val_Acc:0.8847\n",
            "EPOCH 37/100, Train_Loss: 0.1643,Train_Acc: 0.9393, Validation Loss: 0.3639 , Val_Acc:0.8902\n",
            "EPOCH 38/100, Train_Loss: 0.1713,Train_Acc: 0.9371, Validation Loss: 0.4185 , Val_Acc:0.8807\n",
            "EPOCH 39/100, Train_Loss: 0.1663,Train_Acc: 0.9384, Validation Loss: 0.3752 , Val_Acc:0.8893\n",
            "EPOCH 40/100, Train_Loss: 0.1630,Train_Acc: 0.9390, Validation Loss: 0.3921 , Val_Acc:0.8828\n",
            "EPOCH 41/100, Train_Loss: 0.1615,Train_Acc: 0.9394, Validation Loss: 0.3577 , Val_Acc:0.8937\n",
            "EPOCH 42/100, Train_Loss: 0.1545,Train_Acc: 0.9430, Validation Loss: 0.3728 , Val_Acc:0.8910\n",
            "EPOCH 43/100, Train_Loss: 0.1480,Train_Acc: 0.9458, Validation Loss: 0.3882 , Val_Acc:0.8858\n",
            "EPOCH 44/100, Train_Loss: 0.1452,Train_Acc: 0.9462, Validation Loss: 0.4052 , Val_Acc:0.8847\n",
            "EPOCH 45/100, Train_Loss: 0.1495,Train_Acc: 0.9454, Validation Loss: 0.3988 , Val_Acc:0.8862\n",
            "EPOCH 46/100, Train_Loss: 0.1347,Train_Acc: 0.9503, Validation Loss: 0.3870 , Val_Acc:0.8853\n",
            "EPOCH 47/100, Train_Loss: 0.1398,Train_Acc: 0.9475, Validation Loss: 0.3933 , Val_Acc:0.8792\n",
            "EPOCH 48/100, Train_Loss: 0.1313,Train_Acc: 0.9522, Validation Loss: 0.4089 , Val_Acc:0.8890\n",
            "EPOCH 49/100, Train_Loss: 0.1319,Train_Acc: 0.9511, Validation Loss: 0.4268 , Val_Acc:0.8773\n",
            "EPOCH 50/100, Train_Loss: 0.1364,Train_Acc: 0.9496, Validation Loss: 0.4012 , Val_Acc:0.8840\n",
            "EPOCH 51/100, Train_Loss: 0.1263,Train_Acc: 0.9538, Validation Loss: 0.4373 , Val_Acc:0.8830\n",
            "EPOCH 52/100, Train_Loss: 0.1197,Train_Acc: 0.9561, Validation Loss: 0.4228 , Val_Acc:0.8873\n",
            "EPOCH 53/100, Train_Loss: 0.1170,Train_Acc: 0.9568, Validation Loss: 0.4062 , Val_Acc:0.8850\n",
            "EPOCH 54/100, Train_Loss: 0.1273,Train_Acc: 0.9526, Validation Loss: 0.4514 , Val_Acc:0.8770\n",
            "EPOCH 55/100, Train_Loss: 0.1268,Train_Acc: 0.9537, Validation Loss: 0.4085 , Val_Acc:0.8830\n",
            "EPOCH 56/100, Train_Loss: 0.1172,Train_Acc: 0.9565, Validation Loss: 0.4929 , Val_Acc:0.8725\n",
            "EPOCH 57/100, Train_Loss: 0.1128,Train_Acc: 0.9585, Validation Loss: 0.4379 , Val_Acc:0.8833\n",
            "EPOCH 58/100, Train_Loss: 0.1072,Train_Acc: 0.9609, Validation Loss: 0.4206 , Val_Acc:0.8890\n",
            "EPOCH 59/100, Train_Loss: 0.1041,Train_Acc: 0.9620, Validation Loss: 0.4714 , Val_Acc:0.8825\n",
            "EPOCH 60/100, Train_Loss: 0.1028,Train_Acc: 0.9616, Validation Loss: 0.4641 , Val_Acc:0.8857\n",
            "EPOCH 61/100, Train_Loss: 0.1108,Train_Acc: 0.9591, Validation Loss: 0.4501 , Val_Acc:0.8857\n",
            "EPOCH 62/100, Train_Loss: 0.1034,Train_Acc: 0.9613, Validation Loss: 0.4428 , Val_Acc:0.8890\n",
            "EPOCH 63/100, Train_Loss: 0.0957,Train_Acc: 0.9649, Validation Loss: 0.4938 , Val_Acc:0.8863\n",
            "EPOCH 64/100, Train_Loss: 0.0962,Train_Acc: 0.9650, Validation Loss: 0.5022 , Val_Acc:0.8872\n",
            "EPOCH 65/100, Train_Loss: 0.0932,Train_Acc: 0.9650, Validation Loss: 0.5101 , Val_Acc:0.8870\n",
            "EPOCH 66/100, Train_Loss: 0.1020,Train_Acc: 0.9625, Validation Loss: 0.4433 , Val_Acc:0.8875\n",
            "EPOCH 67/100, Train_Loss: 0.0995,Train_Acc: 0.9637, Validation Loss: 0.4859 , Val_Acc:0.8903\n",
            "EPOCH 68/100, Train_Loss: 0.0913,Train_Acc: 0.9654, Validation Loss: 0.4863 , Val_Acc:0.8893\n",
            "EPOCH 69/100, Train_Loss: 0.0847,Train_Acc: 0.9692, Validation Loss: 0.5179 , Val_Acc:0.8830\n",
            "EPOCH 70/100, Train_Loss: 0.0943,Train_Acc: 0.9647, Validation Loss: 0.4552 , Val_Acc:0.8850\n",
            "EPOCH 71/100, Train_Loss: 0.0877,Train_Acc: 0.9674, Validation Loss: 0.4782 , Val_Acc:0.8895\n",
            "EPOCH 72/100, Train_Loss: 0.0797,Train_Acc: 0.9707, Validation Loss: 0.5097 , Val_Acc:0.8895\n",
            "EPOCH 73/100, Train_Loss: 0.0816,Train_Acc: 0.9700, Validation Loss: 0.5037 , Val_Acc:0.8902\n",
            "EPOCH 74/100, Train_Loss: 0.0832,Train_Acc: 0.9693, Validation Loss: 0.5196 , Val_Acc:0.8835\n",
            "EPOCH 75/100, Train_Loss: 0.0781,Train_Acc: 0.9716, Validation Loss: 0.4903 , Val_Acc:0.8877\n",
            "EPOCH 76/100, Train_Loss: 0.0712,Train_Acc: 0.9737, Validation Loss: 0.5387 , Val_Acc:0.8887\n",
            "EPOCH 77/100, Train_Loss: 0.0723,Train_Acc: 0.9738, Validation Loss: 0.5496 , Val_Acc:0.8843\n",
            "EPOCH 78/100, Train_Loss: 0.0828,Train_Acc: 0.9696, Validation Loss: 0.5171 , Val_Acc:0.8910\n",
            "EPOCH 79/100, Train_Loss: 0.0763,Train_Acc: 0.9716, Validation Loss: 0.5478 , Val_Acc:0.8823\n",
            "EPOCH 80/100, Train_Loss: 0.0752,Train_Acc: 0.9724, Validation Loss: 0.5498 , Val_Acc:0.8870\n",
            "EPOCH 81/100, Train_Loss: 0.0777,Train_Acc: 0.9720, Validation Loss: 0.5068 , Val_Acc:0.8908\n",
            "EPOCH 82/100, Train_Loss: 0.0714,Train_Acc: 0.9739, Validation Loss: 0.5381 , Val_Acc:0.8882\n",
            "EPOCH 83/100, Train_Loss: 0.0667,Train_Acc: 0.9751, Validation Loss: 0.5564 , Val_Acc:0.8860\n",
            "EPOCH 84/100, Train_Loss: 0.0693,Train_Acc: 0.9751, Validation Loss: 0.5208 , Val_Acc:0.8850\n",
            "EPOCH 85/100, Train_Loss: 0.0597,Train_Acc: 0.9783, Validation Loss: 0.5239 , Val_Acc:0.8885\n",
            "EPOCH 86/100, Train_Loss: 0.0783,Train_Acc: 0.9718, Validation Loss: 0.5119 , Val_Acc:0.8915\n",
            "EPOCH 87/100, Train_Loss: 0.0612,Train_Acc: 0.9776, Validation Loss: 0.5687 , Val_Acc:0.8908\n",
            "EPOCH 88/100, Train_Loss: 0.0702,Train_Acc: 0.9747, Validation Loss: 0.5292 , Val_Acc:0.8887\n",
            "EPOCH 89/100, Train_Loss: 0.0638,Train_Acc: 0.9770, Validation Loss: 0.5174 , Val_Acc:0.8878\n",
            "EPOCH 90/100, Train_Loss: 0.0565,Train_Acc: 0.9799, Validation Loss: 0.6429 , Val_Acc:0.8862\n",
            "EPOCH 91/100, Train_Loss: 0.0650,Train_Acc: 0.9764, Validation Loss: 0.5886 , Val_Acc:0.8837\n",
            "EPOCH 92/100, Train_Loss: 0.0598,Train_Acc: 0.9782, Validation Loss: 0.5739 , Val_Acc:0.8850\n",
            "EPOCH 93/100, Train_Loss: 0.0583,Train_Acc: 0.9785, Validation Loss: 0.5819 , Val_Acc:0.8833\n",
            "EPOCH 94/100, Train_Loss: 0.0617,Train_Acc: 0.9771, Validation Loss: 0.5805 , Val_Acc:0.8812\n",
            "EPOCH 95/100, Train_Loss: 0.0653,Train_Acc: 0.9767, Validation Loss: 0.5650 , Val_Acc:0.8842\n",
            "EPOCH 96/100, Train_Loss: 0.0626,Train_Acc: 0.9767, Validation Loss: 0.5370 , Val_Acc:0.8862\n",
            "EPOCH 97/100, Train_Loss: 0.0577,Train_Acc: 0.9787, Validation Loss: 0.5214 , Val_Acc:0.8897\n",
            "EPOCH 98/100, Train_Loss: 0.0551,Train_Acc: 0.9799, Validation Loss: 0.5712 , Val_Acc:0.8893\n",
            "EPOCH 99/100, Train_Loss: 0.0501,Train_Acc: 0.9823, Validation Loss: 0.6352 , Val_Acc:0.8913\n",
            "EPOCH 100/100, Train_Loss: 0.0589,Train_Acc: 0.9788, Validation Loss: 0.5793 , Val_Acc:0.8847\n"
          ]
        }
      ],
      "source": [
        "epochs = 100\n",
        "train_loss_list = []\n",
        "train_acc_list = []\n",
        "val_loss_list = []\n",
        "val_acc_list = []\n",
        "\n",
        "for epoch in range(epochs):\n",
        "  # train\n",
        "  train_loss = 0.0\n",
        "  train_acc = 0.0\n",
        "  num_sample = 0\n",
        "\n",
        "  model.train()\n",
        "  for X_train, y_train in train_loader:\n",
        "    X_train, y_train = X_train.to(device), y_train.to(device)\n",
        "\n",
        "    #reset\n",
        "    optimizer.zero_grad()\n",
        "\n",
        "    #output\n",
        "    output = model(X_train)\n",
        "\n",
        "    loss = criterion(output, y_train)\n",
        "\n",
        "    # gradient\n",
        "    loss.backward()\n",
        "    # update weight, bias\n",
        "    optimizer.step()\n",
        "\n",
        "    # cumulative\n",
        "    train_loss += loss.item()\n",
        "    train_acc += (torch.argmax(output, dim=1) == y_train).sum().item()\n",
        "    num_sample += len(y_train)\n",
        "  train_loss /= len(train_loader)\n",
        "  train_acc /= num_sample\n",
        "  train_acc_list.append(train_acc)\n",
        "  train_loss_list.append(train_loss)\n",
        "\n",
        "  # validation\n",
        "  val_loss = 0.0\n",
        "  val_acc = 0.0\n",
        "  num_sample = 0\n",
        "\n",
        "  model.eval()\n",
        "  with torch.no_grad():\n",
        "    for X_val, y_val in val_loader:\n",
        "      X_val, y_val = X_val.to(device), y_val.to(device)\n",
        "\n",
        "      output = model(X_val)\n",
        "\n",
        "      loss = criterion(output, y_val)\n",
        "\n",
        "      #cumulative\n",
        "      val_loss += loss.item()\n",
        "      val_acc += (torch.argmax(output, 1) == y_val).sum().item()\n",
        "      num_sample += len(y_val)\n",
        "\n",
        "  val_loss /= len(val_loader)\n",
        "  val_acc /= num_sample\n",
        "  val_loss_list.append(val_loss)\n",
        "  val_acc_list.append(val_acc)\n",
        "\n",
        "  print(f\"EPOCH {epoch+1}/{epochs}, Train_Loss: {train_loss:.4f},Train_Acc: {train_acc:.4f}, Validation Loss: {val_loss:.4f} , Val_Acc:{val_acc:.4f}\")"
      ]
    },
    {
      "cell_type": "code",
      "source": [
        "fig, ax = plt.subplots(2,2,figsize=(12,10))\n",
        "ax[0,0].plot(train_loss_list, color='green')\n",
        "ax[0,0].set(title='Training Loss', xlabel='Epoch', ylabel='Loss')\n",
        "\n",
        "ax[0,1].plot(val_loss_list, color='orange')\n",
        "ax[0,1].set(title='Validation Loss', xlabel='Epoch', ylabel='Loss')\n",
        "\n",
        "ax[1,0].plot(train_acc_list, color='green')\n",
        "ax[1,0].set(title='Training Accuracy', xlabel='Epoch', ylabel='Loss')\n",
        "\n",
        "ax[1,1].plot(val_acc_list, color='orange')\n",
        "ax[1,1].set(title='Validation Accuracy', xlabel='Epoch', ylabel='Loss')\n",
        "\n",
        "plt.show()"
      ],
      "metadata": {
        "id": "5B-SFrUzP_iS",
        "outputId": "4a99b944-a3c0-42c6-983c-f7a3cceb50b9",
        "colab": {
          "base_uri": "https://localhost:8080/",
          "height": 568
        }
      },
      "id": "5B-SFrUzP_iS",
      "execution_count": 8,
      "outputs": [
        {
          "output_type": "display_data",
          "data": {
            "text/plain": [
              "<Figure size 1200x1000 with 4 Axes>"
            ],
            "image/png": "[encoded data removed]"
          },
          "metadata": {}
        }
      ]
    },
    {
      "cell_type": "markdown",
      "id": "CY9OpDyiPL2V",
      "metadata": {
        "id": "CY9OpDyiPL2V"
      },
      "source": [
        "## **4. Evaluation**"
      ]
    },
    {
      "cell_type": "code",
      "execution_count": 9,
      "id": "VC8cygPWPKy6",
      "metadata": {
        "id": "VC8cygPWPKy6",
        "outputId": "5fc67397-4fa0-4768-cd3f-dd94600a9ca5",
        "colab": {
          "base_uri": "https://localhost:8080/"
        }
      },
      "outputs": [
        {
          "output_type": "stream",
          "name": "stdout",
          "text": [
            "Test accuracy: 0.8878\n"
          ]
        }
      ],
      "source": [
        "test_label = []\n",
        "test_predict = []\n",
        "\n",
        "model.eval()\n",
        "with torch.no_grad():\n",
        "  for X_test, y_test in test_loader:\n",
        "    X_test, y_test = X_test.to(device), y_test.to(device)\n",
        "\n",
        "    output = model(X_test)\n",
        "\n",
        "    # transfer to CP, currently it is tensor\n",
        "    test_label.append(y_test.cpu())\n",
        "    test_predict.append(output.cpu())\n",
        "\n",
        "  test_label = torch.cat(test_label, dim=0)\n",
        "  test_predict = torch.cat(test_predict, dim=0)\n",
        "  test_acc = (torch.argmax(test_predict, dim=1) == test_label).sum().item()/len(test_label)\n",
        "\n",
        "print(f\"Test accuracy: {test_acc}\")"
      ]
    },
    {
      "cell_type": "code",
      "execution_count": 10,
      "id": "vsTDEJ92P6Pa",
      "metadata": {
        "id": "vsTDEJ92P6Pa",
        "outputId": "a20158a9-a87b-4660-98ea-bf8283031f52",
        "colab": {
          "base_uri": "https://localhost:8080/"
        }
      },
      "outputs": [
        {
          "output_type": "stream",
          "name": "stdout",
          "text": [
            "Validation accuracy: 0.8847\n"
          ]
        }
      ],
      "source": [
        "val_label = []\n",
        "val_predict = []\n",
        "\n",
        "model.eval()\n",
        "with torch.no_grad():\n",
        "  for X_val, y_val in val_loader:\n",
        "    X_val, y_val = X_val.to(device), y_val.to(device)\n",
        "\n",
        "    output = model(X_val)\n",
        "\n",
        "    # transfer to CP, currently it is tensor\n",
        "    val_label.append(y_val.cpu())\n",
        "    val_predict.append(output.cpu())\n",
        "\n",
        "  val_label = torch.cat(val_label, dim=0)\n",
        "  val_predict = torch.cat(val_predict, dim=0)\n",
        "  val_acc = (torch.argmax(val_predict, dim=1) == val_label).sum().item()/len(val_label)\n",
        "\n",
        "print(f\"Validation accuracy: {val_acc:.4f}\")"
      ]
    }
  ],
  "metadata": {
    "accelerator": "GPU",
    "colab": {
      "gpuType": "T4",
      "provenance": [],
      "include_colab_link": true
    },
    "kernelspec": {
      "display_name": "Python 3",
      "name": "python3"
    },
    "language_info": {
      "codemirror_mode": {
        "name": "ipython",
        "version": 3
      },
      "file_extension": ".py",
      "mimetype": "text/x-python",
      "name": "python",
      "nbconvert_exporter": "python",
      "pygments_lexer": "ipython3",
      "version": "3.10.13"
    },
    "toc": {
      "base_numbering": 1,
      "nav_menu": {},
      "number_sections": true,
      "sideBar": true,
      "skip_h1_title": false,
      "title_cell": "Table of Contents",
      "title_sidebar": "Contents",
      "toc_cell": false,
      "toc_position": {},
      "toc_section_display": true,
      "toc_window_display": true
    }
  },
  "nbformat": 4,
  "nbformat_minor": 5
}