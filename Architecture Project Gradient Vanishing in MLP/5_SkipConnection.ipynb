{
  "cells": [
    {
      "cell_type": "markdown",
      "metadata": {
        "id": "view-in-github",
        "colab_type": "text"
      },
      "source": [
        "<a href=\"https://colab.research.google.com/github/mylethidiem/artificial-intelligence-projects/blob/main/Architecture%20Project%20Gradient%20Vanishing%20in%20MLP/5_SkipConnection.ipynb\" target=\"_parent\"><img src=\"https://colab.research.google.com/assets/colab-badge.svg\" alt=\"Open In Colab\"/></a>"
      ]
    },
    {
      "cell_type": "markdown",
      "id": "HItsinp0SFqA",
      "metadata": {
        "id": "HItsinp0SFqA"
      },
      "source": [
        "## **0. Import libraries**"
      ]
    },
    {
      "cell_type": "code",
      "execution_count": 1,
      "id": "bb96f0ec-3525-4e79-9ad1-8e95c15a9cf2",
      "metadata": {
        "id": "bb96f0ec-3525-4e79-9ad1-8e95c15a9cf2"
      },
      "outputs": [],
      "source": [
        "import random\n",
        "import matplotlib.pyplot as plt # truc quan hoa\n",
        "import numpy as np\n",
        "\n",
        "import torch\n",
        "import torch.optim as optim\n",
        "import torchvision\n",
        "import torchvision.transforms as transforms\n",
        "\n",
        "from torch import nn\n",
        "from torch.utils.data import DataLoader, Dataset, random_split\n",
        "from torchvision.datasets import FashionMNIST #download fashion mnist data\n"
      ]
    },
    {
      "cell_type": "code",
      "execution_count": 2,
      "id": "P3ehfc2p0vqq",
      "metadata": {
        "id": "P3ehfc2p0vqq",
        "outputId": "fa206dba-55e5-47d6-ab61-b6007f68077d",
        "colab": {
          "base_uri": "https://localhost:8080/"
        }
      },
      "outputs": [
        {
          "output_type": "stream",
          "name": "stdout",
          "text": [
            "cpu\n"
          ]
        }
      ],
      "source": [
        "device = torch.device(\"cuda\" if torch.cuda.is_available() else \"cpu\")\n",
        "print(device)\n",
        "\n",
        "def set_seed(seed):\n",
        "  random.seed(seed)\n",
        "  np.random.seed(seed)\n",
        "  torch.manual_seed(seed)\n",
        "  if torch.cuda.is_available():\n",
        "    torch.cuda.manual_seed(seed)\n",
        "    torch.cuda.manual_seed_all(seed)\n",
        "  torch.backends.cudnn.benchmark = False\n",
        "  torch.backends.cudnn.deterministic = True\n",
        "\n",
        "SEED = 42\n",
        "set_seed(SEED)"
      ]
    },
    {
      "cell_type": "markdown",
      "id": "Mw6hLiNAugrD",
      "metadata": {
        "id": "Mw6hLiNAugrD"
      },
      "source": [
        "## **1. Prepare dataset**\n"
      ]
    },
    {
      "cell_type": "code",
      "execution_count": 3,
      "id": "c73f1e96-b8ea-4b8f-b4f3-9b3f27b42acd",
      "metadata": {
        "colab": {
          "base_uri": "https://localhost:8080/"
        },
        "id": "c73f1e96-b8ea-4b8f-b4f3-9b3f27b42acd",
        "outputId": "ee618147-e82b-498c-f31a-935e954e8253"
      },
      "outputs": [
        {
          "output_type": "stream",
          "name": "stdout",
          "text": [
            "Downloading http://fashion-mnist.s3-website.eu-central-1.amazonaws.com/train-images-idx3-ubyte.gz\n",
            "Downloading http://fashion-mnist.s3-website.eu-central-1.amazonaws.com/train-images-idx3-ubyte.gz to ./data/FashionMNIST/raw/train-images-idx3-ubyte.gz\n"
          ]
        },
        {
          "output_type": "stream",
          "name": "stderr",
          "text": [
            "100%|██████████| 26.4M/26.4M [00:00<00:00, 112MB/s]\n"
          ]
        },
        {
          "output_type": "stream",
          "name": "stdout",
          "text": [
            "Extracting ./data/FashionMNIST/raw/train-images-idx3-ubyte.gz to ./data/FashionMNIST/raw\n",
            "\n",
            "Downloading http://fashion-mnist.s3-website.eu-central-1.amazonaws.com/train-labels-idx1-ubyte.gz\n",
            "Downloading http://fashion-mnist.s3-website.eu-central-1.amazonaws.com/train-labels-idx1-ubyte.gz to ./data/FashionMNIST/raw/train-labels-idx1-ubyte.gz\n"
          ]
        },
        {
          "output_type": "stream",
          "name": "stderr",
          "text": [
            "100%|██████████| 29.5k/29.5k [00:00<00:00, 6.14MB/s]\n"
          ]
        },
        {
          "output_type": "stream",
          "name": "stdout",
          "text": [
            "Extracting ./data/FashionMNIST/raw/train-labels-idx1-ubyte.gz to ./data/FashionMNIST/raw\n",
            "\n",
            "Downloading http://fashion-mnist.s3-website.eu-central-1.amazonaws.com/t10k-images-idx3-ubyte.gz\n",
            "Downloading http://fashion-mnist.s3-website.eu-central-1.amazonaws.com/t10k-images-idx3-ubyte.gz to ./data/FashionMNIST/raw/t10k-images-idx3-ubyte.gz\n"
          ]
        },
        {
          "output_type": "stream",
          "name": "stderr",
          "text": [
            "100%|██████████| 4.42M/4.42M [00:00<00:00, 61.3MB/s]\n"
          ]
        },
        {
          "output_type": "stream",
          "name": "stdout",
          "text": [
            "Extracting ./data/FashionMNIST/raw/t10k-images-idx3-ubyte.gz to ./data/FashionMNIST/raw\n",
            "\n",
            "Downloading http://fashion-mnist.s3-website.eu-central-1.amazonaws.com/t10k-labels-idx1-ubyte.gz\n",
            "Downloading http://fashion-mnist.s3-website.eu-central-1.amazonaws.com/t10k-labels-idx1-ubyte.gz to ./data/FashionMNIST/raw/t10k-labels-idx1-ubyte.gz\n"
          ]
        },
        {
          "output_type": "stream",
          "name": "stderr",
          "text": [
            "100%|██████████| 5.15k/5.15k [00:00<00:00, 4.28MB/s]\n"
          ]
        },
        {
          "output_type": "stream",
          "name": "stdout",
          "text": [
            "Extracting ./data/FashionMNIST/raw/t10k-labels-idx1-ubyte.gz to ./data/FashionMNIST/raw\n",
            "\n"
          ]
        }
      ],
      "source": [
        "train_dataset = FashionMNIST(root='./data', train=True, download=True, transform=transforms.ToTensor())\n",
        "test_dataset = FashionMNIST(root='./data', train=False, download=True, transform=transforms.ToTensor())"
      ]
    },
    {
      "cell_type": "code",
      "source": [
        "train_ratio = 0.9\n",
        "# train_size là số lượng mẫu dữ liệu dùng để train (54000 mẫu = 90% của tập train_dataset)\n",
        "train_size = int(train_ratio * len(train_dataset)) #90%\n",
        "val_size = len(train_dataset) - train_size #10%\n",
        "\n",
        "train_subset, val_subset = random_split(train_dataset, [train_size, val_size])\n",
        "\n",
        "batch_size = 512\n",
        "train_loader = DataLoader(train_subset, batch_size=batch_size, shuffle=True)\n",
        "val_loader = DataLoader(val_subset, batch_size=batch_size, shuffle=False)\n",
        "test_loader = DataLoader(test_dataset, batch_size=batch_size, shuffle=False)\n",
        "print(f\"Train size: {len(train_subset)}\")\n",
        "print(f\"Validation size: {len(val_subset)}\")\n",
        "print(f\"Test size: {len(test_dataset)}\")"
      ],
      "metadata": {
        "id": "45F1hZe4eCyF",
        "outputId": "c535b855-483b-4b68-d9c5-ca81eec15934",
        "colab": {
          "base_uri": "https://localhost:8080/"
        }
      },
      "id": "45F1hZe4eCyF",
      "execution_count": 4,
      "outputs": [
        {
          "output_type": "stream",
          "name": "stdout",
          "text": [
            "Train size: 54000\n",
            "Validation size: 6000\n",
            "Test size: 10000\n"
          ]
        }
      ]
    },
    {
      "cell_type": "markdown",
      "id": "75eeaa46",
      "metadata": {
        "id": "75eeaa46"
      },
      "source": [
        "## **2. Build MLP network with `Skip Connection `**\n",
        "\n",
        "\n"
      ]
    },
    {
      "cell_type": "code",
      "execution_count": 5,
      "id": "589bb0df",
      "metadata": {
        "id": "589bb0df"
      },
      "outputs": [],
      "source": [
        "class MLP(nn.Module):\n",
        "  def __init__(self, input_dims, hidden_dims, output_dims):\n",
        "    super(MLP, self).__init__()\n",
        "    self.layer1 = nn.Linear(input_dims, hidden_dims)#\n",
        "    self.layer2 = nn.Linear(hidden_dims, hidden_dims)\n",
        "    self.layer3 = nn.Linear(hidden_dims, hidden_dims)\n",
        "    self.layer4 = nn.Linear(hidden_dims, hidden_dims)\n",
        "    self.layer5 = nn.Linear(hidden_dims, hidden_dims)\n",
        "    self.layer6 = nn.Linear(hidden_dims, hidden_dims)\n",
        "    self.layer7 = nn.Linear(hidden_dims, hidden_dims)\n",
        "    self.output = nn.Linear(hidden_dims, output_dims)\n",
        "\n",
        "    for module in self.modules():\n",
        "      if isinstance(module, nn.Linear):\n",
        "        nn.init.normal_(module.weight, mean=0.0, std=0.05)\n",
        "        nn.init.constant_(module.bias, val=0.0)\n",
        "\n",
        "  def forward(self, x):\n",
        "    x = nn.Flatten()(x)\n",
        "    x = self.layer1(x)\n",
        "    x = nn.Sigmoid()(x)\n",
        "    skip = x\n",
        "\n",
        "    x = self.layer2(x)\n",
        "    x = nn.Sigmoid()(x)\n",
        "    x = self.layer3(x)\n",
        "    x = nn.Sigmoid()(x)\n",
        "    x = skip + x\n",
        "\n",
        "    x = self.layer4(x)\n",
        "    x = nn.Sigmoid()(x)\n",
        "    skip = x\n",
        "\n",
        "    x = self.layer5(x)\n",
        "    x = nn.Sigmoid()(x)\n",
        "    x = self.layer6(x)\n",
        "    x = nn.Sigmoid()(x)\n",
        "    x = self.layer7(x)\n",
        "    x = nn.Sigmoid()(x)\n",
        "    x = skip + x\n",
        "\n",
        "    out = self.output(x)\n",
        "    return out\n"
      ]
    },
    {
      "cell_type": "code",
      "execution_count": 6,
      "id": "0db5beca-ee90-4d2e-bb2f-62b20da68cf3",
      "metadata": {
        "id": "0db5beca-ee90-4d2e-bb2f-62b20da68cf3"
      },
      "outputs": [],
      "source": [
        "input_dims = 784 #28x28 pixel = 784 pixel\n",
        "hidden_dims = 128\n",
        "output_dims = 10 #10 class\n",
        "lr = 1e-2\n",
        "model = MLP(input_dims, hidden_dims, output_dims).to(device)\n",
        "\n",
        "criterion = nn.CrossEntropyLoss()\n",
        "optimizer = torch.optim.SGD(model.parameters(), lr=lr)"
      ]
    },
    {
      "cell_type": "markdown",
      "id": "lBS7q-JzwFgC",
      "metadata": {
        "id": "lBS7q-JzwFgC"
      },
      "source": [
        "## **3. Training**"
      ]
    },
    {
      "cell_type": "code",
      "execution_count": 7,
      "id": "21211483-aeed-4beb-aeea-d1e58ae7baf9",
      "metadata": {
        "colab": {
          "base_uri": "https://localhost:8080/"
        },
        "id": "21211483-aeed-4beb-aeea-d1e58ae7baf9",
        "outputId": "aa1a876f-63b8-408c-97ff-e9d09c09f81d"
      },
      "outputs": [
        {
          "output_type": "stream",
          "name": "stdout",
          "text": [
            "EPOCH 1/100, Train_Loss: 2.3102,Train_Acc: 0.0997, Validation Loss: 2.3027 , Val_Acc:0.1615\n",
            "EPOCH 2/100, Train_Loss: 2.3003,Train_Acc: 0.1211, Validation Loss: 2.2996 , Val_Acc:0.1597\n",
            "EPOCH 3/100, Train_Loss: 2.2978,Train_Acc: 0.1292, Validation Loss: 2.2969 , Val_Acc:0.1113\n",
            "EPOCH 4/100, Train_Loss: 2.2953,Train_Acc: 0.1469, Validation Loss: 2.2936 , Val_Acc:0.1700\n",
            "EPOCH 5/100, Train_Loss: 2.2926,Train_Acc: 0.1465, Validation Loss: 2.2915 , Val_Acc:0.1325\n",
            "EPOCH 6/100, Train_Loss: 2.2899,Train_Acc: 0.1736, Validation Loss: 2.2877 , Val_Acc:0.1028\n",
            "EPOCH 7/100, Train_Loss: 2.2868,Train_Acc: 0.1906, Validation Loss: 2.2853 , Val_Acc:0.2498\n",
            "EPOCH 8/100, Train_Loss: 2.2834,Train_Acc: 0.2159, Validation Loss: 2.2830 , Val_Acc:0.1740\n",
            "EPOCH 9/100, Train_Loss: 2.2799,Train_Acc: 0.2191, Validation Loss: 2.2785 , Val_Acc:0.1970\n",
            "EPOCH 10/100, Train_Loss: 2.2757,Train_Acc: 0.2586, Validation Loss: 2.2746 , Val_Acc:0.1007\n",
            "EPOCH 11/100, Train_Loss: 2.2710,Train_Acc: 0.2611, Validation Loss: 2.2695 , Val_Acc:0.2662\n",
            "EPOCH 12/100, Train_Loss: 2.2660,Train_Acc: 0.2711, Validation Loss: 2.2640 , Val_Acc:0.2457\n",
            "EPOCH 13/100, Train_Loss: 2.2600,Train_Acc: 0.2822, Validation Loss: 2.2560 , Val_Acc:0.2545\n",
            "EPOCH 14/100, Train_Loss: 2.2530,Train_Acc: 0.3218, Validation Loss: 2.2502 , Val_Acc:0.3095\n",
            "EPOCH 15/100, Train_Loss: 2.2449,Train_Acc: 0.3450, Validation Loss: 2.2411 , Val_Acc:0.4013\n",
            "EPOCH 16/100, Train_Loss: 2.2353,Train_Acc: 0.3541, Validation Loss: 2.2310 , Val_Acc:0.3025\n",
            "EPOCH 17/100, Train_Loss: 2.2239,Train_Acc: 0.3749, Validation Loss: 2.2199 , Val_Acc:0.2162\n",
            "EPOCH 18/100, Train_Loss: 2.2104,Train_Acc: 0.3627, Validation Loss: 2.2039 , Val_Acc:0.3452\n",
            "EPOCH 19/100, Train_Loss: 2.1942,Train_Acc: 0.3594, Validation Loss: 2.1869 , Val_Acc:0.3755\n",
            "EPOCH 20/100, Train_Loss: 2.1750,Train_Acc: 0.3709, Validation Loss: 2.1664 , Val_Acc:0.3523\n",
            "EPOCH 21/100, Train_Loss: 2.1522,Train_Acc: 0.3708, Validation Loss: 2.1420 , Val_Acc:0.2802\n",
            "EPOCH 22/100, Train_Loss: 2.1255,Train_Acc: 0.3761, Validation Loss: 2.1127 , Val_Acc:0.2898\n",
            "EPOCH 23/100, Train_Loss: 2.0945,Train_Acc: 0.3799, Validation Loss: 2.0817 , Val_Acc:0.3147\n",
            "EPOCH 24/100, Train_Loss: 2.0592,Train_Acc: 0.3863, Validation Loss: 2.0440 , Val_Acc:0.4943\n",
            "EPOCH 25/100, Train_Loss: 2.0206,Train_Acc: 0.3884, Validation Loss: 2.0041 , Val_Acc:0.3835\n",
            "EPOCH 26/100, Train_Loss: 1.9792,Train_Acc: 0.3806, Validation Loss: 1.9623 , Val_Acc:0.4137\n",
            "EPOCH 27/100, Train_Loss: 1.9368,Train_Acc: 0.3931, Validation Loss: 1.9213 , Val_Acc:0.3948\n",
            "EPOCH 28/100, Train_Loss: 1.8950,Train_Acc: 0.4038, Validation Loss: 1.8806 , Val_Acc:0.3873\n",
            "EPOCH 29/100, Train_Loss: 1.8543,Train_Acc: 0.4090, Validation Loss: 1.8416 , Val_Acc:0.4038\n",
            "EPOCH 30/100, Train_Loss: 1.8167,Train_Acc: 0.4167, Validation Loss: 1.8056 , Val_Acc:0.4588\n",
            "EPOCH 31/100, Train_Loss: 1.7814,Train_Acc: 0.4229, Validation Loss: 1.7725 , Val_Acc:0.4512\n",
            "EPOCH 32/100, Train_Loss: 1.7490,Train_Acc: 0.4456, Validation Loss: 1.7423 , Val_Acc:0.4303\n",
            "EPOCH 33/100, Train_Loss: 1.7188,Train_Acc: 0.4537, Validation Loss: 1.7140 , Val_Acc:0.3985\n",
            "EPOCH 34/100, Train_Loss: 1.6906,Train_Acc: 0.4546, Validation Loss: 1.6864 , Val_Acc:0.4313\n",
            "EPOCH 35/100, Train_Loss: 1.6642,Train_Acc: 0.4632, Validation Loss: 1.6597 , Val_Acc:0.4417\n",
            "EPOCH 36/100, Train_Loss: 1.6390,Train_Acc: 0.4729, Validation Loss: 1.6349 , Val_Acc:0.4702\n",
            "EPOCH 37/100, Train_Loss: 1.6142,Train_Acc: 0.4818, Validation Loss: 1.6112 , Val_Acc:0.4480\n",
            "EPOCH 38/100, Train_Loss: 1.5901,Train_Acc: 0.4870, Validation Loss: 1.5878 , Val_Acc:0.4730\n",
            "EPOCH 39/100, Train_Loss: 1.5663,Train_Acc: 0.4939, Validation Loss: 1.5643 , Val_Acc:0.4935\n",
            "EPOCH 40/100, Train_Loss: 1.5426,Train_Acc: 0.5055, Validation Loss: 1.5408 , Val_Acc:0.5107\n",
            "EPOCH 41/100, Train_Loss: 1.5191,Train_Acc: 0.5146, Validation Loss: 1.5199 , Val_Acc:0.4788\n",
            "EPOCH 42/100, Train_Loss: 1.4963,Train_Acc: 0.5207, Validation Loss: 1.4967 , Val_Acc:0.4955\n",
            "EPOCH 43/100, Train_Loss: 1.4733,Train_Acc: 0.5258, Validation Loss: 1.4742 , Val_Acc:0.5028\n",
            "EPOCH 44/100, Train_Loss: 1.4508,Train_Acc: 0.5338, Validation Loss: 1.4505 , Val_Acc:0.5313\n",
            "EPOCH 45/100, Train_Loss: 1.4288,Train_Acc: 0.5424, Validation Loss: 1.4315 , Val_Acc:0.5258\n",
            "EPOCH 46/100, Train_Loss: 1.4075,Train_Acc: 0.5473, Validation Loss: 1.4089 , Val_Acc:0.5360\n",
            "EPOCH 47/100, Train_Loss: 1.3869,Train_Acc: 0.5564, Validation Loss: 1.3887 , Val_Acc:0.5518\n",
            "EPOCH 48/100, Train_Loss: 1.3669,Train_Acc: 0.5579, Validation Loss: 1.3697 , Val_Acc:0.5613\n",
            "EPOCH 49/100, Train_Loss: 1.3477,Train_Acc: 0.5663, Validation Loss: 1.3512 , Val_Acc:0.5387\n",
            "EPOCH 50/100, Train_Loss: 1.3288,Train_Acc: 0.5686, Validation Loss: 1.3326 , Val_Acc:0.5542\n",
            "EPOCH 51/100, Train_Loss: 1.3110,Train_Acc: 0.5707, Validation Loss: 1.3163 , Val_Acc:0.5727\n",
            "EPOCH 52/100, Train_Loss: 1.2939,Train_Acc: 0.5761, Validation Loss: 1.3009 , Val_Acc:0.5752\n",
            "EPOCH 53/100, Train_Loss: 1.2778,Train_Acc: 0.5820, Validation Loss: 1.2838 , Val_Acc:0.5620\n",
            "EPOCH 54/100, Train_Loss: 1.2617,Train_Acc: 0.5809, Validation Loss: 1.2698 , Val_Acc:0.5677\n",
            "EPOCH 55/100, Train_Loss: 1.2469,Train_Acc: 0.5861, Validation Loss: 1.2551 , Val_Acc:0.5745\n",
            "EPOCH 56/100, Train_Loss: 1.2326,Train_Acc: 0.5891, Validation Loss: 1.2413 , Val_Acc:0.5655\n",
            "EPOCH 57/100, Train_Loss: 1.2190,Train_Acc: 0.5899, Validation Loss: 1.2284 , Val_Acc:0.5780\n",
            "EPOCH 58/100, Train_Loss: 1.2057,Train_Acc: 0.5944, Validation Loss: 1.2143 , Val_Acc:0.5865\n",
            "EPOCH 59/100, Train_Loss: 1.1932,Train_Acc: 0.5957, Validation Loss: 1.2023 , Val_Acc:0.5870\n",
            "EPOCH 60/100, Train_Loss: 1.1812,Train_Acc: 0.5983, Validation Loss: 1.1919 , Val_Acc:0.5840\n",
            "EPOCH 61/100, Train_Loss: 1.1695,Train_Acc: 0.6028, Validation Loss: 1.1796 , Val_Acc:0.5798\n",
            "EPOCH 62/100, Train_Loss: 1.1583,Train_Acc: 0.6029, Validation Loss: 1.1696 , Val_Acc:0.5870\n",
            "EPOCH 63/100, Train_Loss: 1.1477,Train_Acc: 0.6063, Validation Loss: 1.1598 , Val_Acc:0.5947\n",
            "EPOCH 64/100, Train_Loss: 1.1373,Train_Acc: 0.6072, Validation Loss: 1.1491 , Val_Acc:0.5900\n",
            "EPOCH 65/100, Train_Loss: 1.1276,Train_Acc: 0.6079, Validation Loss: 1.1394 , Val_Acc:0.5980\n",
            "EPOCH 66/100, Train_Loss: 1.1178,Train_Acc: 0.6115, Validation Loss: 1.1297 , Val_Acc:0.5975\n",
            "EPOCH 67/100, Train_Loss: 1.1089,Train_Acc: 0.6130, Validation Loss: 1.1207 , Val_Acc:0.5938\n",
            "EPOCH 68/100, Train_Loss: 1.0998,Train_Acc: 0.6135, Validation Loss: 1.1141 , Val_Acc:0.6045\n",
            "EPOCH 69/100, Train_Loss: 1.0913,Train_Acc: 0.6158, Validation Loss: 1.1054 , Val_Acc:0.6078\n",
            "EPOCH 70/100, Train_Loss: 1.0832,Train_Acc: 0.6172, Validation Loss: 1.0958 , Val_Acc:0.6135\n",
            "EPOCH 71/100, Train_Loss: 1.0750,Train_Acc: 0.6189, Validation Loss: 1.0896 , Val_Acc:0.6055\n",
            "EPOCH 72/100, Train_Loss: 1.0668,Train_Acc: 0.6211, Validation Loss: 1.0806 , Val_Acc:0.6000\n",
            "EPOCH 73/100, Train_Loss: 1.0596,Train_Acc: 0.6219, Validation Loss: 1.0732 , Val_Acc:0.6095\n",
            "EPOCH 74/100, Train_Loss: 1.0516,Train_Acc: 0.6239, Validation Loss: 1.0662 , Val_Acc:0.6107\n",
            "EPOCH 75/100, Train_Loss: 1.0447,Train_Acc: 0.6246, Validation Loss: 1.0602 , Val_Acc:0.6145\n",
            "EPOCH 76/100, Train_Loss: 1.0381,Train_Acc: 0.6266, Validation Loss: 1.0528 , Val_Acc:0.6152\n",
            "EPOCH 77/100, Train_Loss: 1.0307,Train_Acc: 0.6289, Validation Loss: 1.0457 , Val_Acc:0.6220\n",
            "EPOCH 78/100, Train_Loss: 1.0242,Train_Acc: 0.6293, Validation Loss: 1.0388 , Val_Acc:0.6247\n",
            "EPOCH 79/100, Train_Loss: 1.0177,Train_Acc: 0.6312, Validation Loss: 1.0323 , Val_Acc:0.6192\n",
            "EPOCH 80/100, Train_Loss: 1.0112,Train_Acc: 0.6334, Validation Loss: 1.0263 , Val_Acc:0.6320\n",
            "EPOCH 81/100, Train_Loss: 1.0052,Train_Acc: 0.6351, Validation Loss: 1.0209 , Val_Acc:0.6240\n",
            "EPOCH 82/100, Train_Loss: 0.9991,Train_Acc: 0.6375, Validation Loss: 1.0145 , Val_Acc:0.6283\n",
            "EPOCH 83/100, Train_Loss: 0.9925,Train_Acc: 0.6379, Validation Loss: 1.0092 , Val_Acc:0.6217\n",
            "EPOCH 84/100, Train_Loss: 0.9867,Train_Acc: 0.6396, Validation Loss: 1.0025 , Val_Acc:0.6357\n",
            "EPOCH 85/100, Train_Loss: 0.9809,Train_Acc: 0.6414, Validation Loss: 0.9971 , Val_Acc:0.6298\n",
            "EPOCH 86/100, Train_Loss: 0.9755,Train_Acc: 0.6429, Validation Loss: 0.9911 , Val_Acc:0.6312\n",
            "EPOCH 87/100, Train_Loss: 0.9700,Train_Acc: 0.6458, Validation Loss: 0.9859 , Val_Acc:0.6382\n",
            "EPOCH 88/100, Train_Loss: 0.9643,Train_Acc: 0.6463, Validation Loss: 0.9807 , Val_Acc:0.6405\n",
            "EPOCH 89/100, Train_Loss: 0.9589,Train_Acc: 0.6491, Validation Loss: 0.9752 , Val_Acc:0.6413\n",
            "EPOCH 90/100, Train_Loss: 0.9539,Train_Acc: 0.6495, Validation Loss: 0.9699 , Val_Acc:0.6478\n",
            "EPOCH 91/100, Train_Loss: 0.9487,Train_Acc: 0.6534, Validation Loss: 0.9650 , Val_Acc:0.6473\n",
            "EPOCH 92/100, Train_Loss: 0.9434,Train_Acc: 0.6535, Validation Loss: 0.9592 , Val_Acc:0.6433\n",
            "EPOCH 93/100, Train_Loss: 0.9383,Train_Acc: 0.6572, Validation Loss: 0.9551 , Val_Acc:0.6377\n",
            "EPOCH 94/100, Train_Loss: 0.9328,Train_Acc: 0.6579, Validation Loss: 0.9497 , Val_Acc:0.6493\n",
            "EPOCH 95/100, Train_Loss: 0.9289,Train_Acc: 0.6593, Validation Loss: 0.9443 , Val_Acc:0.6512\n",
            "EPOCH 96/100, Train_Loss: 0.9233,Train_Acc: 0.6619, Validation Loss: 0.9398 , Val_Acc:0.6495\n",
            "EPOCH 97/100, Train_Loss: 0.9183,Train_Acc: 0.6644, Validation Loss: 0.9344 , Val_Acc:0.6542\n",
            "EPOCH 98/100, Train_Loss: 0.9137,Train_Acc: 0.6667, Validation Loss: 0.9301 , Val_Acc:0.6510\n",
            "EPOCH 99/100, Train_Loss: 0.9087,Train_Acc: 0.6671, Validation Loss: 0.9251 , Val_Acc:0.6593\n",
            "EPOCH 100/100, Train_Loss: 0.9045,Train_Acc: 0.6702, Validation Loss: 0.9200 , Val_Acc:0.6630\n"
          ]
        }
      ],
      "source": [
        "epochs = 100\n",
        "train_loss_list =[]\n",
        "train_acc_list = []\n",
        "val_loss_list = []\n",
        "val_acc_list = []\n",
        "\n",
        "for epoch in range(epochs):\n",
        "  train_loss = 0\n",
        "  train_acc = 0\n",
        "  count = 0\n",
        "\n",
        "  model.train()\n",
        "  for X_train, y_train in train_loader:\n",
        "    X_train = X_train.to(device)\n",
        "    y_train = y_train.to(device)\n",
        "\n",
        "    optimizer.zero_grad()\n",
        "\n",
        "    outputs = model(X_train)\n",
        "\n",
        "    loss = criterion(outputs, y_train)\n",
        "    loss.backward()\n",
        "\n",
        "    optimizer.step()\n",
        "\n",
        "    train_loss += loss.item()\n",
        "    train_acc += (torch.argmax(outputs,1) == y_train).sum().item()\n",
        "    count += len(y_train)\n",
        "\n",
        "  train_loss /= len(train_loader)\n",
        "  train_loss_list.append(train_loss)\n",
        "  train_acc /= count\n",
        "  train_acc_list.append(train_acc)\n",
        "\n",
        "\n",
        "  val_loss = 0.0\n",
        "  val_acc = 0.0\n",
        "  count = 0\n",
        "  model.eval()\n",
        "\n",
        "  with torch.no_grad():\n",
        "    for X_val, y_val in val_loader:\n",
        "      X_val = X_val.to(device)\n",
        "      y_val = y_val.to(device)\n",
        "\n",
        "      outputs = model(X_val)\n",
        "\n",
        "      loss = criterion(outputs, y_val)\n",
        "\n",
        "      val_loss += loss.item()\n",
        "      val_acc += (torch.argmax(outputs,1) == y_val).sum().item()\n",
        "\n",
        "      count += len(y_val)\n",
        "\n",
        "  val_loss /= len(val_loader)\n",
        "  val_loss_list.append(val_loss)\n",
        "  val_acc /= count\n",
        "  val_acc_list.append(val_acc)\n",
        "\n",
        "\n",
        "  print(f\"EPOCH {epoch+1}/{epochs}, Train_Loss: {train_loss:.4f},Train_Acc: {train_acc:.4f}, Validation Loss: {val_loss:.4f} , Val_Acc:{val_acc:.4f}\")"
      ]
    },
    {
      "cell_type": "code",
      "execution_count": 8,
      "id": "30e47af6-dee8-4470-8662-fd0fd6bf9511",
      "metadata": {
        "colab": {
          "base_uri": "https://localhost:8080/",
          "height": 568
        },
        "id": "30e47af6-dee8-4470-8662-fd0fd6bf9511",
        "outputId": "457add1c-64ad-4837-e74a-029075a5f85e"
      },
      "outputs": [
        {
          "output_type": "display_data",
          "data": {
            "text/plain": [
              "<Figure size 1200x1000 with 4 Axes>"
            ],
            "image/png": "[encoded data removed]"
          },
          "metadata": {}
        }
      ],
      "source": [
        "fig, ax = plt.subplots(2, 2, figsize=(12, 10))\n",
        "ax[0, 0].plot(train_loss_list, color='green')\n",
        "ax[0, 0].set(xlabel='Epoch', ylabel='Loss')\n",
        "ax[0, 0].set_title('Training Loss')\n",
        "\n",
        "ax[0, 1].plot(val_loss_list, color='orange')\n",
        "ax[0, 1].set(xlabel='Epoch', ylabel='Loss')\n",
        "ax[0, 1].set_title('Validation Loss')\n",
        "\n",
        "ax[1, 0].plot(train_acc_list, color='green')\n",
        "ax[1, 0].set(xlabel='Epoch', ylabel='Accuracy')\n",
        "ax[1, 0].set_title('Training Accuracy')\n",
        "\n",
        "ax[1, 1].plot(val_acc_list, color='orange')\n",
        "ax[1, 1].set(xlabel='Epoch', ylabel='Accuracy')\n",
        "ax[1, 1].set_title('Validation Accuracy')\n",
        "\n",
        "plt.show()"
      ]
    },
    {
      "cell_type": "markdown",
      "id": "CY9OpDyiPL2V",
      "metadata": {
        "id": "CY9OpDyiPL2V"
      },
      "source": [
        "## **4. Evaluation**"
      ]
    },
    {
      "cell_type": "code",
      "execution_count": 9,
      "id": "VC8cygPWPKy6",
      "metadata": {
        "colab": {
          "base_uri": "https://localhost:8080/"
        },
        "id": "VC8cygPWPKy6",
        "outputId": "d1c3a2ca-1e79-4386-9ba0-9207a992a551"
      },
      "outputs": [
        {
          "output_type": "stream",
          "name": "stdout",
          "text": [
            "Test accuracy: 0.6678\n"
          ]
        }
      ],
      "source": [
        "test_label = []\n",
        "test_predict = []\n",
        "\n",
        "model.eval()\n",
        "with torch.no_grad():\n",
        "  for X_test, y_test in test_loader:\n",
        "    X_test, y_test = X_test.to(device), y_test.to(device)\n",
        "\n",
        "    output = model(X_test)\n",
        "\n",
        "    # transfer to CPU, currently it is tensor\n",
        "    test_label.append(y_test.cpu())\n",
        "    test_predict.append(output.cpu())\n",
        "\n",
        "  test_label = torch.cat(test_label, dim=0)\n",
        "  test_predict = torch.cat(test_predict, dim=0)\n",
        "  test_acc = (torch.argmax(test_predict, dim=1) == test_label).sum().item()/len(test_label)\n",
        "\n",
        "print(f\"Test accuracy: {test_acc}\")"
      ]
    },
    {
      "cell_type": "code",
      "execution_count": 10,
      "id": "vsTDEJ92P6Pa",
      "metadata": {
        "colab": {
          "base_uri": "https://localhost:8080/"
        },
        "id": "vsTDEJ92P6Pa",
        "outputId": "df748402-dc96-40cf-d0ad-d1a59eb02257"
      },
      "outputs": [
        {
          "output_type": "stream",
          "name": "stdout",
          "text": [
            "Validation accuracy: 0.6630\n"
          ]
        }
      ],
      "source": [
        "val_label = []\n",
        "val_predict = []\n",
        "\n",
        "model.eval()\n",
        "with torch.no_grad():\n",
        "  for X_val, y_val in val_loader:\n",
        "    X_val, y_val = X_val.to(device), y_val.to(device)\n",
        "\n",
        "    output = model(X_val)\n",
        "\n",
        "    # transfer to CP, currently it is tensor\n",
        "    val_label.append(y_val.cpu())\n",
        "    val_predict.append(output.cpu())\n",
        "\n",
        "  val_label = torch.cat(val_label, dim=0)\n",
        "  val_predict = torch.cat(val_predict, dim=0)\n",
        "  val_acc = (torch.argmax(val_predict, dim=1) == val_label).sum().item()/len(val_label)\n",
        "\n",
        "print(f\"Validation accuracy: {val_acc:.4f}\")"
      ]
    }
  ],
  "metadata": {
    "accelerator": "GPU",
    "colab": {
      "gpuType": "T4",
      "provenance": [],
      "include_colab_link": true
    },
    "kernelspec": {
      "display_name": "Python 3",
      "name": "python3"
    },
    "language_info": {
      "codemirror_mode": {
        "name": "ipython",
        "version": 3
      },
      "file_extension": ".py",
      "mimetype": "text/x-python",
      "name": "python",
      "nbconvert_exporter": "python",
      "pygments_lexer": "ipython3",
      "version": "3.10.13"
    },
    "toc": {
      "base_numbering": 1,
      "nav_menu": {},
      "number_sections": true,
      "sideBar": true,
      "skip_h1_title": false,
      "title_cell": "Table of Contents",
      "title_sidebar": "Contents",
      "toc_cell": false,
      "toc_position": {},
      "toc_section_display": true,
      "toc_window_display": true
    }
  },
  "nbformat": 4,
  "nbformat_minor": 5
}